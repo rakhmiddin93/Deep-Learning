{
 "cells": [
  {
   "cell_type": "code",
   "execution_count": 1,
   "id": "3142ec66",
   "metadata": {},
   "outputs": [
    {
     "data": {
      "text/plain": [
       "'C:\\\\Users\\\\rahmi\\\\OneDrive\\\\Desktop\\\\vital signs using federated learning\\\\code'"
      ]
     },
     "execution_count": 1,
     "metadata": {},
     "output_type": "execute_result"
    }
   ],
   "source": [
    "pwd"
   ]
  },
  {
   "cell_type": "code",
   "execution_count": 2,
   "id": "02c2944b",
   "metadata": {},
   "outputs": [],
   "source": [
    "import numpy as np\n",
    "import pandas as pd\n",
    "import matplotlib.pyplot as plt\n",
    "from collections import Counter\n",
    "import tensorflow as tf\n",
    "import seaborn as sns\n",
    "from sklearn.model_selection import train_test_split\n",
    "from tensorflow.keras import layers,Sequential\n",
    "from sklearn.metrics import confusion_matrix"
   ]
  },
  {
   "cell_type": "code",
   "execution_count": 3,
   "id": "6a34d105",
   "metadata": {},
   "outputs": [],
   "source": [
    "%matplotlib inline"
   ]
  },
  {
   "cell_type": "code",
   "execution_count": 4,
   "id": "05f82e77",
   "metadata": {},
   "outputs": [],
   "source": [
    "# df_clean = pd.read_csv('C:\\\\Users\\\\rahmi\\\\OneDrive\\\\Desktop\\\\vital signs using federated learning\\\\dataset\\\\patient_chart_cleansing.csv')"
   ]
  },
  {
   "cell_type": "code",
   "execution_count": 5,
   "id": "7d22bd11",
   "metadata": {},
   "outputs": [],
   "source": [
    "# df_clean.head()"
   ]
  },
  {
   "cell_type": "code",
   "execution_count": 6,
   "id": "2d6430e5",
   "metadata": {},
   "outputs": [],
   "source": [
    "# df_original = pd.read_csv('C:\\\\Users\\\\rahmi\\\\OneDrive\\\\Desktop\\\\vital signs using federated learning\\\\dataset\\\\all_patient_charts.csv')"
   ]
  },
  {
   "cell_type": "code",
   "execution_count": 7,
   "id": "ba7798ea",
   "metadata": {},
   "outputs": [],
   "source": [
    "# df_original.head()"
   ]
  },
  {
   "cell_type": "code",
   "execution_count": 8,
   "id": "5ec6679a",
   "metadata": {},
   "outputs": [],
   "source": [
    "df = pd.read_csv('C:\\\\Users\\\\rahmi\\\\OneDrive\\\\Desktop\\\\vital signs using federated learning\\\\dataset\\\\new_dataset.csv')"
   ]
  },
  {
   "cell_type": "code",
   "execution_count": 9,
   "id": "c8a1c9fb",
   "metadata": {},
   "outputs": [
    {
     "data": {
      "text/html": [
       "<div>\n",
       "<style scoped>\n",
       "    .dataframe tbody tr th:only-of-type {\n",
       "        vertical-align: middle;\n",
       "    }\n",
       "\n",
       "    .dataframe tbody tr th {\n",
       "        vertical-align: top;\n",
       "    }\n",
       "\n",
       "    .dataframe thead th {\n",
       "        text-align: right;\n",
       "    }\n",
       "</style>\n",
       "<table border=\"1\" class=\"dataframe\">\n",
       "  <thead>\n",
       "    <tr style=\"text-align: right;\">\n",
       "      <th></th>\n",
       "      <th>patient_id</th>\n",
       "      <th>spo2</th>\n",
       "      <th>bpm</th>\n",
       "      <th>rr</th>\n",
       "      <th>sbp</th>\n",
       "      <th>dbp</th>\n",
       "      <th>mbp</th>\n",
       "      <th>start_time</th>\n",
       "      <th>end_time</th>\n",
       "    </tr>\n",
       "  </thead>\n",
       "  <tbody>\n",
       "    <tr>\n",
       "      <th>0</th>\n",
       "      <td>11272192</td>\n",
       "      <td>97.0</td>\n",
       "      <td>63.5</td>\n",
       "      <td>18.0</td>\n",
       "      <td>112.0</td>\n",
       "      <td>78.0</td>\n",
       "      <td>87.0</td>\n",
       "      <td>2166-10-06 02:44:00</td>\n",
       "      <td>2166-10-06 03:14:00</td>\n",
       "    </tr>\n",
       "    <tr>\n",
       "      <th>1</th>\n",
       "      <td>11272192</td>\n",
       "      <td>96.0</td>\n",
       "      <td>64.0</td>\n",
       "      <td>16.0</td>\n",
       "      <td>106.0</td>\n",
       "      <td>71.0</td>\n",
       "      <td>81.0</td>\n",
       "      <td>2166-10-06 03:44:00</td>\n",
       "      <td>2166-10-06 04:14:00</td>\n",
       "    </tr>\n",
       "    <tr>\n",
       "      <th>2</th>\n",
       "      <td>11272192</td>\n",
       "      <td>95.0</td>\n",
       "      <td>61.0</td>\n",
       "      <td>15.0</td>\n",
       "      <td>105.0</td>\n",
       "      <td>65.0</td>\n",
       "      <td>78.0</td>\n",
       "      <td>2166-10-06 04:44:00</td>\n",
       "      <td>2166-10-06 05:14:00</td>\n",
       "    </tr>\n",
       "    <tr>\n",
       "      <th>3</th>\n",
       "      <td>11272192</td>\n",
       "      <td>96.0</td>\n",
       "      <td>63.0</td>\n",
       "      <td>23.0</td>\n",
       "      <td>102.0</td>\n",
       "      <td>65.0</td>\n",
       "      <td>76.0</td>\n",
       "      <td>2166-10-06 05:44:00</td>\n",
       "      <td>2166-10-06 06:14:00</td>\n",
       "    </tr>\n",
       "    <tr>\n",
       "      <th>4</th>\n",
       "      <td>11272192</td>\n",
       "      <td>97.0</td>\n",
       "      <td>57.0</td>\n",
       "      <td>18.0</td>\n",
       "      <td>105.0</td>\n",
       "      <td>75.0</td>\n",
       "      <td>84.0</td>\n",
       "      <td>2166-10-06 06:44:00</td>\n",
       "      <td>2166-10-06 07:14:00</td>\n",
       "    </tr>\n",
       "  </tbody>\n",
       "</table>\n",
       "</div>"
      ],
      "text/plain": [
       "   patient_id  spo2   bpm    rr    sbp   dbp   mbp           start_time  \\\n",
       "0    11272192  97.0  63.5  18.0  112.0  78.0  87.0  2166-10-06 02:44:00   \n",
       "1    11272192  96.0  64.0  16.0  106.0  71.0  81.0  2166-10-06 03:44:00   \n",
       "2    11272192  95.0  61.0  15.0  105.0  65.0  78.0  2166-10-06 04:44:00   \n",
       "3    11272192  96.0  63.0  23.0  102.0  65.0  76.0  2166-10-06 05:44:00   \n",
       "4    11272192  97.0  57.0  18.0  105.0  75.0  84.0  2166-10-06 06:44:00   \n",
       "\n",
       "              end_time  \n",
       "0  2166-10-06 03:14:00  \n",
       "1  2166-10-06 04:14:00  \n",
       "2  2166-10-06 05:14:00  \n",
       "3  2166-10-06 06:14:00  \n",
       "4  2166-10-06 07:14:00  "
      ]
     },
     "execution_count": 9,
     "metadata": {},
     "output_type": "execute_result"
    }
   ],
   "source": [
    "df.head()"
   ]
  },
  {
   "cell_type": "code",
   "execution_count": 10,
   "id": "984f8886",
   "metadata": {},
   "outputs": [],
   "source": [
    "cols = ['spo2', 'bpm', 'rr', 'sbp', 'dbp', 'mbp']\n",
    "df['merge_values'] = df[cols].apply(lambda x: '/'.join(x.values.astype(str)), axis=1)"
   ]
  },
  {
   "cell_type": "code",
   "execution_count": 11,
   "id": "350cbb0e",
   "metadata": {},
   "outputs": [
    {
     "data": {
      "text/html": [
       "<div>\n",
       "<style scoped>\n",
       "    .dataframe tbody tr th:only-of-type {\n",
       "        vertical-align: middle;\n",
       "    }\n",
       "\n",
       "    .dataframe tbody tr th {\n",
       "        vertical-align: top;\n",
       "    }\n",
       "\n",
       "    .dataframe thead th {\n",
       "        text-align: right;\n",
       "    }\n",
       "</style>\n",
       "<table border=\"1\" class=\"dataframe\">\n",
       "  <thead>\n",
       "    <tr style=\"text-align: right;\">\n",
       "      <th></th>\n",
       "      <th>patient_id</th>\n",
       "      <th>spo2</th>\n",
       "      <th>bpm</th>\n",
       "      <th>rr</th>\n",
       "      <th>sbp</th>\n",
       "      <th>dbp</th>\n",
       "      <th>mbp</th>\n",
       "      <th>start_time</th>\n",
       "      <th>end_time</th>\n",
       "      <th>merge_values</th>\n",
       "    </tr>\n",
       "  </thead>\n",
       "  <tbody>\n",
       "    <tr>\n",
       "      <th>0</th>\n",
       "      <td>11272192</td>\n",
       "      <td>97.0</td>\n",
       "      <td>63.5</td>\n",
       "      <td>18.0</td>\n",
       "      <td>112.0</td>\n",
       "      <td>78.0</td>\n",
       "      <td>87.0</td>\n",
       "      <td>2166-10-06 02:44:00</td>\n",
       "      <td>2166-10-06 03:14:00</td>\n",
       "      <td>97.0/63.5/18.0/112.0/78.0/87.0</td>\n",
       "    </tr>\n",
       "    <tr>\n",
       "      <th>1</th>\n",
       "      <td>11272192</td>\n",
       "      <td>96.0</td>\n",
       "      <td>64.0</td>\n",
       "      <td>16.0</td>\n",
       "      <td>106.0</td>\n",
       "      <td>71.0</td>\n",
       "      <td>81.0</td>\n",
       "      <td>2166-10-06 03:44:00</td>\n",
       "      <td>2166-10-06 04:14:00</td>\n",
       "      <td>96.0/64.0/16.0/106.0/71.0/81.0</td>\n",
       "    </tr>\n",
       "    <tr>\n",
       "      <th>2</th>\n",
       "      <td>11272192</td>\n",
       "      <td>95.0</td>\n",
       "      <td>61.0</td>\n",
       "      <td>15.0</td>\n",
       "      <td>105.0</td>\n",
       "      <td>65.0</td>\n",
       "      <td>78.0</td>\n",
       "      <td>2166-10-06 04:44:00</td>\n",
       "      <td>2166-10-06 05:14:00</td>\n",
       "      <td>95.0/61.0/15.0/105.0/65.0/78.0</td>\n",
       "    </tr>\n",
       "    <tr>\n",
       "      <th>3</th>\n",
       "      <td>11272192</td>\n",
       "      <td>96.0</td>\n",
       "      <td>63.0</td>\n",
       "      <td>23.0</td>\n",
       "      <td>102.0</td>\n",
       "      <td>65.0</td>\n",
       "      <td>76.0</td>\n",
       "      <td>2166-10-06 05:44:00</td>\n",
       "      <td>2166-10-06 06:14:00</td>\n",
       "      <td>96.0/63.0/23.0/102.0/65.0/76.0</td>\n",
       "    </tr>\n",
       "    <tr>\n",
       "      <th>4</th>\n",
       "      <td>11272192</td>\n",
       "      <td>97.0</td>\n",
       "      <td>57.0</td>\n",
       "      <td>18.0</td>\n",
       "      <td>105.0</td>\n",
       "      <td>75.0</td>\n",
       "      <td>84.0</td>\n",
       "      <td>2166-10-06 06:44:00</td>\n",
       "      <td>2166-10-06 07:14:00</td>\n",
       "      <td>97.0/57.0/18.0/105.0/75.0/84.0</td>\n",
       "    </tr>\n",
       "  </tbody>\n",
       "</table>\n",
       "</div>"
      ],
      "text/plain": [
       "   patient_id  spo2   bpm    rr    sbp   dbp   mbp           start_time  \\\n",
       "0    11272192  97.0  63.5  18.0  112.0  78.0  87.0  2166-10-06 02:44:00   \n",
       "1    11272192  96.0  64.0  16.0  106.0  71.0  81.0  2166-10-06 03:44:00   \n",
       "2    11272192  95.0  61.0  15.0  105.0  65.0  78.0  2166-10-06 04:44:00   \n",
       "3    11272192  96.0  63.0  23.0  102.0  65.0  76.0  2166-10-06 05:44:00   \n",
       "4    11272192  97.0  57.0  18.0  105.0  75.0  84.0  2166-10-06 06:44:00   \n",
       "\n",
       "              end_time                    merge_values  \n",
       "0  2166-10-06 03:14:00  97.0/63.5/18.0/112.0/78.0/87.0  \n",
       "1  2166-10-06 04:14:00  96.0/64.0/16.0/106.0/71.0/81.0  \n",
       "2  2166-10-06 05:14:00  95.0/61.0/15.0/105.0/65.0/78.0  \n",
       "3  2166-10-06 06:14:00  96.0/63.0/23.0/102.0/65.0/76.0  \n",
       "4  2166-10-06 07:14:00  97.0/57.0/18.0/105.0/75.0/84.0  "
      ]
     },
     "execution_count": 11,
     "metadata": {},
     "output_type": "execute_result"
    }
   ],
   "source": [
    "df.head()"
   ]
  },
  {
   "cell_type": "code",
   "execution_count": 12,
   "id": "a3c3a2a2",
   "metadata": {},
   "outputs": [
    {
     "data": {
      "text/plain": [
       "patient_id  spo2   bpm   rr    sbp    dbp    mbp   start_time           end_time             merge_values                   \n",
       "10000032    93.5   94.0  20.0  122.5  70.0   62.0  2180-07-23 21:41:00  2180-07-23 22:11:00  93.5/94.0/20.0/122.5/70.0/62.0     1\n",
       "16534814    99.0   76.0  21.0  103.0  36.0   54.0  2144-05-19 20:48:00  2144-05-19 21:18:00  99.0/76.0/21.0/103.0/36.0/54.0     1\n",
       "                   75.0  22.0  69.0   25.0   36.0  2144-05-21 09:48:00  2144-05-21 10:18:00  99.0/75.0/22.0/69.0/25.0/36.0      1\n",
       "                         23.0  113.0  43.0   73.5  2144-04-15 09:48:00  2144-04-15 10:18:00  99.0/75.0/23.0/113.0/43.0/73.5     1\n",
       "                         29.0  99.0   34.5   75.0  2144-04-14 06:48:00  2144-04-14 07:18:00  99.0/75.0/29.0/99.0/34.5/75.0      1\n",
       "                                                                                                                               ..\n",
       "13282748    97.0   75.0  14.0  107.0  55.0   69.0  2199-02-27 22:41:00  2199-02-27 23:11:00  97.0/75.0/14.0/107.0/55.0/69.0     1\n",
       "                               83.0   40.0   50.0  2199-12-19 04:41:00  2199-12-19 05:11:00  97.0/75.0/14.0/83.0/40.0/50.0      1\n",
       "                         11.0  113.0  131.0  58.0  2199-02-27 15:41:00  2199-02-27 16:11:00  97.0/75.0/11.0/113.0/131.0/58.0    1\n",
       "                   74.0  23.0  123.0  61.0   77.0  2199-09-23 04:41:00  2199-09-23 05:11:00  97.0/74.0/23.0/123.0/61.0/77.0     1\n",
       "19999840    100.0  83.0  19.0  137.0  77.0   88.0  2164-09-13 09:56:00  2164-09-13 10:26:00  100.0/83.0/19.0/137.0/77.0/88.0    1\n",
       "Length: 2292029, dtype: int64"
      ]
     },
     "execution_count": 12,
     "metadata": {},
     "output_type": "execute_result"
    }
   ],
   "source": [
    "df.value_counts()"
   ]
  },
  {
   "cell_type": "code",
   "execution_count": 13,
   "id": "192b1d6e",
   "metadata": {},
   "outputs": [
    {
     "data": {
      "text/plain": [
       "0          [97.0, 63.5, 18.0, 112.0, 78.0, 87.0]\n",
       "1          [96.0, 64.0, 16.0, 106.0, 71.0, 81.0]\n",
       "2          [95.0, 61.0, 15.0, 105.0, 65.0, 78.0]\n",
       "3          [96.0, 63.0, 23.0, 102.0, 65.0, 76.0]\n",
       "4          [97.0, 57.0, 18.0, 105.0, 75.0, 84.0]\n",
       "                           ...                  \n",
       "2292024    [98.0, 67.0, 19.0, 108.5, 57.5, 73.5]\n",
       "2292025    [99.0, 65.0, 18.0, 103.0, 63.0, 75.0]\n",
       "2292026    [98.0, 66.0, 23.0, 107.0, 65.0, 78.0]\n",
       "2292027     [96.0, 67.0, 11.0, 95.0, 56.5, 69.0]\n",
       "2292028    [97.0, 67.0, 18.0, 107.0, 56.0, 71.0]\n",
       "Name: merge_values, Length: 2292029, dtype: object"
      ]
     },
     "execution_count": 13,
     "metadata": {},
     "output_type": "execute_result"
    }
   ],
   "source": [
    "all_values = df['merge_values'].str.split(pat=\"/\")\n",
    "all_values"
   ]
  },
  {
   "cell_type": "code",
   "execution_count": 14,
   "id": "bfb298d4",
   "metadata": {},
   "outputs": [],
   "source": [
    "def diseases(symptoms):\n",
    "    \n",
    "    spo2 = float(symptoms[0])\n",
    "    bpm = float(symptoms[1])\n",
    "    rr = float(symptoms[2])\n",
    "    mbp = float(symptoms[5])\n",
    "    \n",
    "    RED = (spo2<=80) and ((rr>35) | (rr<=8)) and (bpm>=130) and (mbp<=80)\n",
    "    \n",
    "    ORANGE = (((spo2)>=80) and (spo2<=90)) and (((rr)>=31) and ((rr)<=35)) and (((bpm>=121) and (bpm<=130)) | (bpm<=40)) and\\\n",
    "    ((mbp>=80) and (mbp<=90))\n",
    "    \n",
    "    YELLOW = ((spo2>=90) and (spo2<=94)) and ((rr>=26) and (rr<=30)) and (((bpm>=111) and (bpm<=120)) | ((bpm>=40) and (bpm<=49))) \n",
    "    \n",
    "    GREEN = (spo2>=95) and ((rr>8) and (rr<25)) and ((bpm>50) and (bpm<110)) \n",
    "    \n",
    "    if RED:\n",
    "        red = 1\n",
    "        return red\n",
    "    if ORANGE:\n",
    "        orange = 2\n",
    "        return orange\n",
    "    if YELLOW:\n",
    "        yellow = 3\n",
    "        return yellow\n",
    "    if GREEN:\n",
    "        green = 4\n",
    "        return green\n",
    "    else:\n",
    "        normal = 0\n",
    "        return normal"
   ]
  },
  {
   "cell_type": "code",
   "execution_count": 15,
   "id": "bb5b0c97",
   "metadata": {},
   "outputs": [],
   "source": [
    "df['labels'] = all_values.apply(diseases)"
   ]
  },
  {
   "cell_type": "code",
   "execution_count": 16,
   "id": "064e2a17",
   "metadata": {},
   "outputs": [],
   "source": [
    "# df.drop(['merge_values'], axis=1, inplace=True)"
   ]
  },
  {
   "cell_type": "code",
   "execution_count": 17,
   "id": "25a08e81",
   "metadata": {},
   "outputs": [
    {
     "data": {
      "text/html": [
       "<div>\n",
       "<style scoped>\n",
       "    .dataframe tbody tr th:only-of-type {\n",
       "        vertical-align: middle;\n",
       "    }\n",
       "\n",
       "    .dataframe tbody tr th {\n",
       "        vertical-align: top;\n",
       "    }\n",
       "\n",
       "    .dataframe thead th {\n",
       "        text-align: right;\n",
       "    }\n",
       "</style>\n",
       "<table border=\"1\" class=\"dataframe\">\n",
       "  <thead>\n",
       "    <tr style=\"text-align: right;\">\n",
       "      <th></th>\n",
       "      <th>patient_id</th>\n",
       "      <th>spo2</th>\n",
       "      <th>bpm</th>\n",
       "      <th>rr</th>\n",
       "      <th>sbp</th>\n",
       "      <th>dbp</th>\n",
       "      <th>mbp</th>\n",
       "      <th>start_time</th>\n",
       "      <th>end_time</th>\n",
       "      <th>merge_values</th>\n",
       "      <th>labels</th>\n",
       "    </tr>\n",
       "  </thead>\n",
       "  <tbody>\n",
       "    <tr>\n",
       "      <th>0</th>\n",
       "      <td>11272192</td>\n",
       "      <td>97.0</td>\n",
       "      <td>63.5</td>\n",
       "      <td>18.0</td>\n",
       "      <td>112.0</td>\n",
       "      <td>78.0</td>\n",
       "      <td>87.0</td>\n",
       "      <td>2166-10-06 02:44:00</td>\n",
       "      <td>2166-10-06 03:14:00</td>\n",
       "      <td>97.0/63.5/18.0/112.0/78.0/87.0</td>\n",
       "      <td>4</td>\n",
       "    </tr>\n",
       "    <tr>\n",
       "      <th>1</th>\n",
       "      <td>11272192</td>\n",
       "      <td>96.0</td>\n",
       "      <td>64.0</td>\n",
       "      <td>16.0</td>\n",
       "      <td>106.0</td>\n",
       "      <td>71.0</td>\n",
       "      <td>81.0</td>\n",
       "      <td>2166-10-06 03:44:00</td>\n",
       "      <td>2166-10-06 04:14:00</td>\n",
       "      <td>96.0/64.0/16.0/106.0/71.0/81.0</td>\n",
       "      <td>4</td>\n",
       "    </tr>\n",
       "    <tr>\n",
       "      <th>2</th>\n",
       "      <td>11272192</td>\n",
       "      <td>95.0</td>\n",
       "      <td>61.0</td>\n",
       "      <td>15.0</td>\n",
       "      <td>105.0</td>\n",
       "      <td>65.0</td>\n",
       "      <td>78.0</td>\n",
       "      <td>2166-10-06 04:44:00</td>\n",
       "      <td>2166-10-06 05:14:00</td>\n",
       "      <td>95.0/61.0/15.0/105.0/65.0/78.0</td>\n",
       "      <td>4</td>\n",
       "    </tr>\n",
       "    <tr>\n",
       "      <th>3</th>\n",
       "      <td>11272192</td>\n",
       "      <td>96.0</td>\n",
       "      <td>63.0</td>\n",
       "      <td>23.0</td>\n",
       "      <td>102.0</td>\n",
       "      <td>65.0</td>\n",
       "      <td>76.0</td>\n",
       "      <td>2166-10-06 05:44:00</td>\n",
       "      <td>2166-10-06 06:14:00</td>\n",
       "      <td>96.0/63.0/23.0/102.0/65.0/76.0</td>\n",
       "      <td>4</td>\n",
       "    </tr>\n",
       "    <tr>\n",
       "      <th>4</th>\n",
       "      <td>11272192</td>\n",
       "      <td>97.0</td>\n",
       "      <td>57.0</td>\n",
       "      <td>18.0</td>\n",
       "      <td>105.0</td>\n",
       "      <td>75.0</td>\n",
       "      <td>84.0</td>\n",
       "      <td>2166-10-06 06:44:00</td>\n",
       "      <td>2166-10-06 07:14:00</td>\n",
       "      <td>97.0/57.0/18.0/105.0/75.0/84.0</td>\n",
       "      <td>4</td>\n",
       "    </tr>\n",
       "  </tbody>\n",
       "</table>\n",
       "</div>"
      ],
      "text/plain": [
       "   patient_id  spo2   bpm    rr    sbp   dbp   mbp           start_time  \\\n",
       "0    11272192  97.0  63.5  18.0  112.0  78.0  87.0  2166-10-06 02:44:00   \n",
       "1    11272192  96.0  64.0  16.0  106.0  71.0  81.0  2166-10-06 03:44:00   \n",
       "2    11272192  95.0  61.0  15.0  105.0  65.0  78.0  2166-10-06 04:44:00   \n",
       "3    11272192  96.0  63.0  23.0  102.0  65.0  76.0  2166-10-06 05:44:00   \n",
       "4    11272192  97.0  57.0  18.0  105.0  75.0  84.0  2166-10-06 06:44:00   \n",
       "\n",
       "              end_time                    merge_values  labels  \n",
       "0  2166-10-06 03:14:00  97.0/63.5/18.0/112.0/78.0/87.0       4  \n",
       "1  2166-10-06 04:14:00  96.0/64.0/16.0/106.0/71.0/81.0       4  \n",
       "2  2166-10-06 05:14:00  95.0/61.0/15.0/105.0/65.0/78.0       4  \n",
       "3  2166-10-06 06:14:00  96.0/63.0/23.0/102.0/65.0/76.0       4  \n",
       "4  2166-10-06 07:14:00  97.0/57.0/18.0/105.0/75.0/84.0       4  "
      ]
     },
     "execution_count": 17,
     "metadata": {},
     "output_type": "execute_result"
    }
   ],
   "source": [
    "df.head()"
   ]
  },
  {
   "cell_type": "code",
   "execution_count": 18,
   "id": "858a9870",
   "metadata": {},
   "outputs": [],
   "source": [
    "labeled_data = df.copy()"
   ]
  },
  {
   "cell_type": "code",
   "execution_count": 19,
   "id": "6162ea7d",
   "metadata": {},
   "outputs": [
    {
     "data": {
      "text/html": [
       "<div>\n",
       "<style scoped>\n",
       "    .dataframe tbody tr th:only-of-type {\n",
       "        vertical-align: middle;\n",
       "    }\n",
       "\n",
       "    .dataframe tbody tr th {\n",
       "        vertical-align: top;\n",
       "    }\n",
       "\n",
       "    .dataframe thead th {\n",
       "        text-align: right;\n",
       "    }\n",
       "</style>\n",
       "<table border=\"1\" class=\"dataframe\">\n",
       "  <thead>\n",
       "    <tr style=\"text-align: right;\">\n",
       "      <th></th>\n",
       "      <th>patient_id</th>\n",
       "      <th>spo2</th>\n",
       "      <th>bpm</th>\n",
       "      <th>rr</th>\n",
       "      <th>sbp</th>\n",
       "      <th>dbp</th>\n",
       "      <th>mbp</th>\n",
       "      <th>start_time</th>\n",
       "      <th>end_time</th>\n",
       "      <th>merge_values</th>\n",
       "      <th>labels</th>\n",
       "    </tr>\n",
       "  </thead>\n",
       "  <tbody>\n",
       "    <tr>\n",
       "      <th>0</th>\n",
       "      <td>11272192</td>\n",
       "      <td>97.0</td>\n",
       "      <td>63.5</td>\n",
       "      <td>18.0</td>\n",
       "      <td>112.0</td>\n",
       "      <td>78.0</td>\n",
       "      <td>87.0</td>\n",
       "      <td>2166-10-06 02:44:00</td>\n",
       "      <td>2166-10-06 03:14:00</td>\n",
       "      <td>97.0/63.5/18.0/112.0/78.0/87.0</td>\n",
       "      <td>4</td>\n",
       "    </tr>\n",
       "    <tr>\n",
       "      <th>1</th>\n",
       "      <td>11272192</td>\n",
       "      <td>96.0</td>\n",
       "      <td>64.0</td>\n",
       "      <td>16.0</td>\n",
       "      <td>106.0</td>\n",
       "      <td>71.0</td>\n",
       "      <td>81.0</td>\n",
       "      <td>2166-10-06 03:44:00</td>\n",
       "      <td>2166-10-06 04:14:00</td>\n",
       "      <td>96.0/64.0/16.0/106.0/71.0/81.0</td>\n",
       "      <td>4</td>\n",
       "    </tr>\n",
       "    <tr>\n",
       "      <th>2</th>\n",
       "      <td>11272192</td>\n",
       "      <td>95.0</td>\n",
       "      <td>61.0</td>\n",
       "      <td>15.0</td>\n",
       "      <td>105.0</td>\n",
       "      <td>65.0</td>\n",
       "      <td>78.0</td>\n",
       "      <td>2166-10-06 04:44:00</td>\n",
       "      <td>2166-10-06 05:14:00</td>\n",
       "      <td>95.0/61.0/15.0/105.0/65.0/78.0</td>\n",
       "      <td>4</td>\n",
       "    </tr>\n",
       "    <tr>\n",
       "      <th>3</th>\n",
       "      <td>11272192</td>\n",
       "      <td>96.0</td>\n",
       "      <td>63.0</td>\n",
       "      <td>23.0</td>\n",
       "      <td>102.0</td>\n",
       "      <td>65.0</td>\n",
       "      <td>76.0</td>\n",
       "      <td>2166-10-06 05:44:00</td>\n",
       "      <td>2166-10-06 06:14:00</td>\n",
       "      <td>96.0/63.0/23.0/102.0/65.0/76.0</td>\n",
       "      <td>4</td>\n",
       "    </tr>\n",
       "    <tr>\n",
       "      <th>4</th>\n",
       "      <td>11272192</td>\n",
       "      <td>97.0</td>\n",
       "      <td>57.0</td>\n",
       "      <td>18.0</td>\n",
       "      <td>105.0</td>\n",
       "      <td>75.0</td>\n",
       "      <td>84.0</td>\n",
       "      <td>2166-10-06 06:44:00</td>\n",
       "      <td>2166-10-06 07:14:00</td>\n",
       "      <td>97.0/57.0/18.0/105.0/75.0/84.0</td>\n",
       "      <td>4</td>\n",
       "    </tr>\n",
       "  </tbody>\n",
       "</table>\n",
       "</div>"
      ],
      "text/plain": [
       "   patient_id  spo2   bpm    rr    sbp   dbp   mbp           start_time  \\\n",
       "0    11272192  97.0  63.5  18.0  112.0  78.0  87.0  2166-10-06 02:44:00   \n",
       "1    11272192  96.0  64.0  16.0  106.0  71.0  81.0  2166-10-06 03:44:00   \n",
       "2    11272192  95.0  61.0  15.0  105.0  65.0  78.0  2166-10-06 04:44:00   \n",
       "3    11272192  96.0  63.0  23.0  102.0  65.0  76.0  2166-10-06 05:44:00   \n",
       "4    11272192  97.0  57.0  18.0  105.0  75.0  84.0  2166-10-06 06:44:00   \n",
       "\n",
       "              end_time                    merge_values  labels  \n",
       "0  2166-10-06 03:14:00  97.0/63.5/18.0/112.0/78.0/87.0       4  \n",
       "1  2166-10-06 04:14:00  96.0/64.0/16.0/106.0/71.0/81.0       4  \n",
       "2  2166-10-06 05:14:00  95.0/61.0/15.0/105.0/65.0/78.0       4  \n",
       "3  2166-10-06 06:14:00  96.0/63.0/23.0/102.0/65.0/76.0       4  \n",
       "4  2166-10-06 07:14:00  97.0/57.0/18.0/105.0/75.0/84.0       4  "
      ]
     },
     "execution_count": 19,
     "metadata": {},
     "output_type": "execute_result"
    }
   ],
   "source": [
    "labeled_data.head()"
   ]
  },
  {
   "cell_type": "code",
   "execution_count": 20,
   "id": "7750fd50",
   "metadata": {},
   "outputs": [],
   "source": [
    "labeled_data = labeled_data.drop( ['patient_id','start_time', 'end_time', 'merge_values' ], axis=1)"
   ]
  },
  {
   "cell_type": "code",
   "execution_count": 21,
   "id": "e103f7e1",
   "metadata": {},
   "outputs": [
    {
     "data": {
      "text/html": [
       "<div>\n",
       "<style scoped>\n",
       "    .dataframe tbody tr th:only-of-type {\n",
       "        vertical-align: middle;\n",
       "    }\n",
       "\n",
       "    .dataframe tbody tr th {\n",
       "        vertical-align: top;\n",
       "    }\n",
       "\n",
       "    .dataframe thead th {\n",
       "        text-align: right;\n",
       "    }\n",
       "</style>\n",
       "<table border=\"1\" class=\"dataframe\">\n",
       "  <thead>\n",
       "    <tr style=\"text-align: right;\">\n",
       "      <th></th>\n",
       "      <th>spo2</th>\n",
       "      <th>bpm</th>\n",
       "      <th>rr</th>\n",
       "      <th>sbp</th>\n",
       "      <th>dbp</th>\n",
       "      <th>mbp</th>\n",
       "      <th>labels</th>\n",
       "    </tr>\n",
       "  </thead>\n",
       "  <tbody>\n",
       "    <tr>\n",
       "      <th>0</th>\n",
       "      <td>97.0</td>\n",
       "      <td>63.5</td>\n",
       "      <td>18.0</td>\n",
       "      <td>112.0</td>\n",
       "      <td>78.0</td>\n",
       "      <td>87.0</td>\n",
       "      <td>4</td>\n",
       "    </tr>\n",
       "    <tr>\n",
       "      <th>1</th>\n",
       "      <td>96.0</td>\n",
       "      <td>64.0</td>\n",
       "      <td>16.0</td>\n",
       "      <td>106.0</td>\n",
       "      <td>71.0</td>\n",
       "      <td>81.0</td>\n",
       "      <td>4</td>\n",
       "    </tr>\n",
       "    <tr>\n",
       "      <th>2</th>\n",
       "      <td>95.0</td>\n",
       "      <td>61.0</td>\n",
       "      <td>15.0</td>\n",
       "      <td>105.0</td>\n",
       "      <td>65.0</td>\n",
       "      <td>78.0</td>\n",
       "      <td>4</td>\n",
       "    </tr>\n",
       "    <tr>\n",
       "      <th>3</th>\n",
       "      <td>96.0</td>\n",
       "      <td>63.0</td>\n",
       "      <td>23.0</td>\n",
       "      <td>102.0</td>\n",
       "      <td>65.0</td>\n",
       "      <td>76.0</td>\n",
       "      <td>4</td>\n",
       "    </tr>\n",
       "    <tr>\n",
       "      <th>4</th>\n",
       "      <td>97.0</td>\n",
       "      <td>57.0</td>\n",
       "      <td>18.0</td>\n",
       "      <td>105.0</td>\n",
       "      <td>75.0</td>\n",
       "      <td>84.0</td>\n",
       "      <td>4</td>\n",
       "    </tr>\n",
       "  </tbody>\n",
       "</table>\n",
       "</div>"
      ],
      "text/plain": [
       "   spo2   bpm    rr    sbp   dbp   mbp  labels\n",
       "0  97.0  63.5  18.0  112.0  78.0  87.0       4\n",
       "1  96.0  64.0  16.0  106.0  71.0  81.0       4\n",
       "2  95.0  61.0  15.0  105.0  65.0  78.0       4\n",
       "3  96.0  63.0  23.0  102.0  65.0  76.0       4\n",
       "4  97.0  57.0  18.0  105.0  75.0  84.0       4"
      ]
     },
     "execution_count": 21,
     "metadata": {},
     "output_type": "execute_result"
    }
   ],
   "source": [
    "labeled_data.head()"
   ]
  },
  {
   "cell_type": "code",
   "execution_count": 22,
   "id": "22664807",
   "metadata": {},
   "outputs": [],
   "source": [
    "labeled_data= labeled_data[labeled_data.labels!= 0]"
   ]
  },
  {
   "cell_type": "code",
   "execution_count": 23,
   "id": "311b8868",
   "metadata": {},
   "outputs": [
    {
     "data": {
      "text/plain": [
       "Counter({4: 1227149, 3: 5986, 1: 79, 2: 46})"
      ]
     },
     "execution_count": 23,
     "metadata": {},
     "output_type": "execute_result"
    }
   ],
   "source": [
    "labels = labeled_data.iloc[:,6]\n",
    "num_labels = Counter(labels)\n",
    "num_labels"
   ]
  },
  {
   "cell_type": "code",
   "execution_count": 24,
   "id": "6a64622d",
   "metadata": {},
   "outputs": [
    {
     "data": {
      "text/plain": [
       "4    1227149\n",
       "3       5986\n",
       "1         79\n",
       "2         46\n",
       "Name: labels, dtype: int64"
      ]
     },
     "execution_count": 24,
     "metadata": {},
     "output_type": "execute_result"
    }
   ],
   "source": [
    "labeled_data['labels'].value_counts()"
   ]
  },
  {
   "cell_type": "code",
   "execution_count": 25,
   "id": "f61068ba",
   "metadata": {},
   "outputs": [],
   "source": [
    "X = labeled_data.iloc[:, 1:-1].values[:100000]"
   ]
  },
  {
   "cell_type": "code",
   "execution_count": 26,
   "id": "3fc1f8d7",
   "metadata": {},
   "outputs": [],
   "source": [
    "y = labeled_data.iloc[:, -1].values[:100000]"
   ]
  },
  {
   "cell_type": "code",
   "execution_count": 27,
   "id": "f4f63349",
   "metadata": {},
   "outputs": [
    {
     "data": {
      "text/plain": [
       "array([4, 4, 4, ..., 4, 4, 4], dtype=int64)"
      ]
     },
     "execution_count": 27,
     "metadata": {},
     "output_type": "execute_result"
    }
   ],
   "source": [
    "y"
   ]
  },
  {
   "cell_type": "code",
   "execution_count": 28,
   "id": "6ec83d55",
   "metadata": {},
   "outputs": [
    {
     "name": "stdout",
     "output_type": "stream",
     "text": [
      "<class 'numpy.ndarray'>\n"
     ]
    }
   ],
   "source": [
    "print(type(X))"
   ]
  },
  {
   "cell_type": "code",
   "execution_count": 29,
   "id": "886af7e5",
   "metadata": {},
   "outputs": [
    {
     "name": "stdout",
     "output_type": "stream",
     "text": [
      "<class 'numpy.ndarray'>\n"
     ]
    }
   ],
   "source": [
    "print(type(y))"
   ]
  },
  {
   "cell_type": "code",
   "execution_count": 30,
   "id": "491bffa3",
   "metadata": {},
   "outputs": [
    {
     "data": {
      "text/plain": [
       "(100000, 5)"
      ]
     },
     "execution_count": 30,
     "metadata": {},
     "output_type": "execute_result"
    }
   ],
   "source": [
    "X.shape"
   ]
  },
  {
   "cell_type": "code",
   "execution_count": 31,
   "id": "755aff15",
   "metadata": {},
   "outputs": [
    {
     "name": "stdout",
     "output_type": "stream",
     "text": [
      "[[ 63.5  18.  112.   78.   87. ]\n",
      " [ 64.   16.  106.   71.   81. ]\n",
      " [ 61.   15.  105.   65.   78. ]\n",
      " ...\n",
      " [ 65.   16.  121.   65.   87. ]\n",
      " [ 74.   22.  110.5 116.5  93. ]\n",
      " [ 63.   16.  131.   76.   98. ]]\n"
     ]
    }
   ],
   "source": [
    "print(X)"
   ]
  },
  {
   "cell_type": "code",
   "execution_count": 58,
   "id": "4d0f0e28",
   "metadata": {},
   "outputs": [],
   "source": [
    "X_train, X_test, y_train, y_test = train_test_split(X, y, test_size=0.3, random_state=42)"
   ]
  },
  {
   "cell_type": "code",
   "execution_count": 60,
   "id": "eafdbb0f",
   "metadata": {},
   "outputs": [],
   "source": [
    "# plt.figure(figsize=(8,6))\n",
    "\n",
    "# plt.subplot(1,3,1)\n",
    "# plt.scatter(X_train[:,0], X_train[:,1], c=y_train)\n",
    "\n",
    "# plt.subplot(1,3,2)\n",
    "# plt.scatter(X_train[:,2], X_train[:,3], c=y_train)\n",
    "\n",
    "# plt.subplot(1,3,3)\n",
    "# plt.scatter(X_train[:,4], X_train[:,0], c=y_train)\n",
    "\n",
    "# plt.show()"
   ]
  },
  {
   "cell_type": "code",
   "execution_count": 61,
   "id": "38292023",
   "metadata": {},
   "outputs": [],
   "source": [
    "# y_test = tf.one_hot(y_test, depth=4)\n",
    "# y_train = tf.one_hot(y_train, depth=4)\n",
    "\n",
    "y_test = tf.one_hot(tf.cast(tf.reshape(y_test, -1), dtype=tf.int32), depth=4)\n",
    "y_train = tf.one_hot(tf.cast(tf.reshape(y_train, -1), dtype=tf.int32), depth=4)\n"
   ]
  },
  {
   "cell_type": "code",
   "execution_count": 62,
   "id": "4ee4320e",
   "metadata": {},
   "outputs": [
    {
     "name": "stdout",
     "output_type": "stream",
     "text": [
      "tf.Tensor(\n",
      "[[0. 0. 0. 0.]\n",
      " [0. 0. 0. 0.]\n",
      " [0. 0. 0. 0.]\n",
      " [0. 0. 0. 0.]\n",
      " [0. 0. 0. 0.]], shape=(5, 4), dtype=float32)\n"
     ]
    }
   ],
   "source": [
    "print(y_train[:5])"
   ]
  },
  {
   "cell_type": "code",
   "execution_count": 63,
   "id": "a77dce70",
   "metadata": {},
   "outputs": [
    {
     "name": "stdout",
     "output_type": "stream",
     "text": [
      "(70000, 5)\n",
      "(70000, 4)\n",
      "tf.Tensor(\n",
      "[[0. 0. 0. 0.]\n",
      " [0. 0. 0. 0.]\n",
      " [0. 0. 0. 0.]\n",
      " [0. 0. 0. 0.]\n",
      " [0. 0. 0. 0.]], shape=(5, 4), dtype=float32)\n"
     ]
    }
   ],
   "source": [
    "print(X_train.shape)\n",
    "print(y_train.shape)\n",
    "print(y_train[:5])"
   ]
  },
  {
   "cell_type": "code",
   "execution_count": 64,
   "id": "cef9f65d",
   "metadata": {},
   "outputs": [
    {
     "name": "stdout",
     "output_type": "stream",
     "text": [
      "(70000, 5)\n",
      "(70000, 4)\n",
      "tf.Tensor(\n",
      "[[0. 0. 0. 0.]\n",
      " [0. 0. 0. 0.]\n",
      " [0. 0. 0. 0.]\n",
      " [0. 0. 0. 0.]\n",
      " [0. 0. 0. 0.]], shape=(5, 4), dtype=float32)\n"
     ]
    }
   ],
   "source": [
    "print(X_train.shape)\n",
    "print(y_train.shape)\n",
    "print(y_train[:5])"
   ]
  },
  {
   "cell_type": "code",
   "execution_count": 65,
   "id": "5bfc6a39",
   "metadata": {},
   "outputs": [
    {
     "name": "stdout",
     "output_type": "stream",
     "text": [
      "<class 'numpy.ndarray'>\n",
      "<class 'tensorflow.python.framework.ops.EagerTensor'>\n"
     ]
    }
   ],
   "source": [
    "print(type(X_train))\n",
    "print(type(y_train))"
   ]
  },
  {
   "cell_type": "code",
   "execution_count": 66,
   "id": "c557e21f",
   "metadata": {},
   "outputs": [],
   "source": [
    "model = Sequential()\n",
    "\n",
    "model.add(layers.Dense(128, input_shape=[5]))\n",
    "model.add(layers.Dense(64, activation='relu'))\n",
    "model.add(layers.Dense(32, activation='relu'))\n",
    "model.add(layers.Dense(16, activation='relu'))\n",
    "model.add(layers.Dense(4, activation='softmax'))\n",
    "\n",
    "model.compile(optimizer='adam', loss='categorical_crossentropy', metrics=['accuracy'])"
   ]
  },
  {
   "cell_type": "code",
   "execution_count": 67,
   "id": "5aecec4e",
   "metadata": {},
   "outputs": [
    {
     "name": "stdout",
     "output_type": "stream",
     "text": [
      "Model: \"sequential_1\"\n",
      "_________________________________________________________________\n",
      " Layer (type)                Output Shape              Param #   \n",
      "=================================================================\n",
      " dense_5 (Dense)             (None, 128)               768       \n",
      "                                                                 \n",
      " dense_6 (Dense)             (None, 64)                8256      \n",
      "                                                                 \n",
      " dense_7 (Dense)             (None, 32)                2080      \n",
      "                                                                 \n",
      " dense_8 (Dense)             (None, 16)                528       \n",
      "                                                                 \n",
      " dense_9 (Dense)             (None, 4)                 68        \n",
      "                                                                 \n",
      "=================================================================\n",
      "Total params: 11,700\n",
      "Trainable params: 11,700\n",
      "Non-trainable params: 0\n",
      "_________________________________________________________________\n"
     ]
    }
   ],
   "source": [
    "model.summary()"
   ]
  },
  {
   "cell_type": "code",
   "execution_count": 68,
   "id": "1696251c",
   "metadata": {
    "scrolled": true
   },
   "outputs": [
    {
     "name": "stdout",
     "output_type": "stream",
     "text": [
      "Epoch 1/25\n",
      "2188/2188 [==============================] - 5s 2ms/step - loss: 19947.8086 - accuracy: 0.2111 - val_loss: 320537.9375 - val_accuracy: 0.9939\n",
      "Epoch 2/25\n",
      "2188/2188 [==============================] - 4s 2ms/step - loss: 421869.6250 - accuracy: 0.2418 - val_loss: 1709104.6250 - val_accuracy: 1.3333e-04\n",
      "Epoch 3/25\n",
      "2188/2188 [==============================] - 4s 2ms/step - loss: 1469444.5000 - accuracy: 0.2386 - val_loss: 2591975.0000 - val_accuracy: 1.3333e-04\n",
      "Epoch 4/25\n",
      "2188/2188 [==============================] - 4s 2ms/step - loss: 3783659.2500 - accuracy: 0.2396 - val_loss: 6327212.5000 - val_accuracy: 0.9939\n",
      "Epoch 5/25\n",
      "2188/2188 [==============================] - 4s 2ms/step - loss: 9745945.0000 - accuracy: 0.2488 - val_loss: 43412304.0000 - val_accuracy: 1.3333e-04\n",
      "Epoch 6/25\n",
      "2188/2188 [==============================] - 4s 2ms/step - loss: 17323254.0000 - accuracy: 0.2568 - val_loss: 18662696.0000 - val_accuracy: 1.3333e-04\n",
      "Epoch 7/25\n",
      "2188/2188 [==============================] - 4s 2ms/step - loss: 23609976.0000 - accuracy: 0.2508 - val_loss: 93075520.0000 - val_accuracy: 3.3333e-05\n",
      "Epoch 8/25\n",
      "2188/2188 [==============================] - 4s 2ms/step - loss: 35747452.0000 - accuracy: 0.2473 - val_loss: 15747654.0000 - val_accuracy: 3.3333e-05\n",
      "Epoch 9/25\n",
      "2188/2188 [==============================] - 4s 2ms/step - loss: 58228684.0000 - accuracy: 0.2465 - val_loss: 16366733.0000 - val_accuracy: 0.9939\n",
      "Epoch 10/25\n",
      "2188/2188 [==============================] - 4s 2ms/step - loss: 94650824.0000 - accuracy: 0.2430 - val_loss: 158656544.0000 - val_accuracy: 0.9939\n",
      "Epoch 11/25\n",
      "2188/2188 [==============================] - 4s 2ms/step - loss: 120540944.0000 - accuracy: 0.2428 - val_loss: 340152448.0000 - val_accuracy: 1.3333e-04\n",
      "Epoch 12/25\n",
      "2188/2188 [==============================] - 4s 2ms/step - loss: 147360512.0000 - accuracy: 0.2517 - val_loss: 8531774.0000 - val_accuracy: 0.0060\n",
      "Epoch 13/25\n",
      "2188/2188 [==============================] - 4s 2ms/step - loss: 198770704.0000 - accuracy: 0.2506 - val_loss: 7086696.0000 - val_accuracy: 0.0060\n",
      "Epoch 14/25\n",
      "2188/2188 [==============================] - 4s 2ms/step - loss: 252174016.0000 - accuracy: 0.2448 - val_loss: 44524496.0000 - val_accuracy: 1.3333e-04\n",
      "Epoch 15/25\n",
      "2188/2188 [==============================] - 4s 2ms/step - loss: 271994144.0000 - accuracy: 0.2467 - val_loss: 852040960.0000 - val_accuracy: 1.3333e-04\n",
      "Epoch 16/25\n",
      "2188/2188 [==============================] - 4s 2ms/step - loss: 358537728.0000 - accuracy: 0.2461 - val_loss: 12867006.0000 - val_accuracy: 0.0060\n",
      "Epoch 17/25\n",
      "2188/2188 [==============================] - 4s 2ms/step - loss: 466418112.0000 - accuracy: 0.2501 - val_loss: 488570432.0000 - val_accuracy: 0.0537\n",
      "Epoch 18/25\n",
      "2188/2188 [==============================] - 4s 2ms/step - loss: 487179680.0000 - accuracy: 0.2565 - val_loss: 931381568.0000 - val_accuracy: 3.3333e-05\n",
      "Epoch 19/25\n",
      "2188/2188 [==============================] - 4s 2ms/step - loss: 844459584.0000 - accuracy: 0.2509 - val_loss: 1091351168.0000 - val_accuracy: 1.3333e-04\n",
      "Epoch 20/25\n",
      "2188/2188 [==============================] - 4s 2ms/step - loss: 836260800.0000 - accuracy: 0.2448 - val_loss: 48067844.0000 - val_accuracy: 0.0060\n",
      "Epoch 21/25\n",
      "2188/2188 [==============================] - 4s 2ms/step - loss: 904013888.0000 - accuracy: 0.2466 - val_loss: 523055424.0000 - val_accuracy: 0.0060\n",
      "Epoch 22/25\n",
      "2188/2188 [==============================] - 4s 2ms/step - loss: 1235002496.0000 - accuracy: 0.2464 - val_loss: 70509048.0000 - val_accuracy: 0.0060\n",
      "Epoch 23/25\n",
      "2188/2188 [==============================] - 4s 2ms/step - loss: 1298107904.0000 - accuracy: 0.2465 - val_loss: 277025376.0000 - val_accuracy: 1.3333e-04\n",
      "Epoch 24/25\n",
      "2188/2188 [==============================] - 4s 2ms/step - loss: 1516614272.0000 - accuracy: 0.2446 - val_loss: 1805103232.0000 - val_accuracy: 1.3333e-04\n",
      "Epoch 25/25\n",
      "2188/2188 [==============================] - 4s 2ms/step - loss: 1731301376.0000 - accuracy: 0.2625 - val_loss: 3180351744.0000 - val_accuracy: 0.9939\n"
     ]
    }
   ],
   "source": [
    "history = model.fit(X_train, y_train, validation_data=(X_test, y_test), epochs=25)"
   ]
  },
  {
   "cell_type": "code",
   "execution_count": 69,
   "id": "a671ee58",
   "metadata": {},
   "outputs": [
    {
     "data": {
      "image/png": "[encoded data removed]",
      "text/plain": [
       "<Figure size 432x288 with 1 Axes>"
      ]
     },
     "metadata": {
      "needs_background": "light"
     },
     "output_type": "display_data"
    }
   ],
   "source": [
    "plt.plot(history.history['loss'])\n",
    "plt.plot(history.history['val_loss'])\n",
    "plt.show()"
   ]
  },
  {
   "cell_type": "code",
   "execution_count": 70,
   "id": "c5b27eee",
   "metadata": {},
   "outputs": [],
   "source": [
    "accuracy = history.history['accuracy']\n",
    "val_accuracy = history.history['val_accuracy']\n",
    "\n",
    "loss = history.history['loss']\n",
    "val_loss = history.history['val_loss']\n",
    "epoch_range = range(25)"
   ]
  },
  {
   "cell_type": "code",
   "execution_count": 71,
   "id": "a80c753e",
   "metadata": {},
   "outputs": [
    {
     "data": {
      "text/plain": [
       "<matplotlib.legend.Legend at 0x260c53c50a0>"
      ]
     },
     "execution_count": 71,
     "metadata": {},
     "output_type": "execute_result"
    },
    {
     "data": {
      "image/png": "[encoded data removed]",
      "text/plain": [
       "<Figure size 432x288 with 1 Axes>"
      ]
     },
     "metadata": {
      "needs_background": "light"
     },
     "output_type": "display_data"
    }
   ],
   "source": [
    "plt.plot(epoch_range, loss, label='Training Loss')\n",
    "plt.plot(epoch_range, val_loss, label='Validation Loss')\n",
    "plt.legend(bbox_to_anchor=(0.8, 1.15), ncol=1)"
   ]
  },
  {
   "cell_type": "code",
   "execution_count": 72,
   "id": "4278c10e",
   "metadata": {},
   "outputs": [
    {
     "name": "stdout",
     "output_type": "stream",
     "text": [
      "938/938 [==============================] - 1s 1ms/step - loss: 3180351744.0000 - accuracy: 0.9939\n"
     ]
    },
    {
     "data": {
      "text/plain": [
       "[3180351744.0, 0.9938666820526123]"
      ]
     },
     "execution_count": 72,
     "metadata": {},
     "output_type": "execute_result"
    }
   ],
   "source": [
    "model.evaluate(X_test,y_test)"
   ]
  },
  {
   "cell_type": "code",
   "execution_count": 73,
   "id": "dfd7842a",
   "metadata": {},
   "outputs": [],
   "source": [
    "y_hat = model.predict(X_test)"
   ]
  },
  {
   "cell_type": "code",
   "execution_count": 74,
   "id": "c067b91f",
   "metadata": {},
   "outputs": [
    {
     "name": "stdout",
     "output_type": "stream",
     "text": [
      "[1. 0. 0. 0.]\n",
      "tf.Tensor([0. 0. 0. 0.], shape=(4,), dtype=float32)\n"
     ]
    }
   ],
   "source": [
    "print(y_hat[0])\n",
    "print(y_test[0])"
   ]
  },
  {
   "cell_type": "code",
   "execution_count": 75,
   "id": "b4e45fa3",
   "metadata": {},
   "outputs": [],
   "source": [
    "labels = np.argmax(y_test, axis=1)\n",
    "prediction = np.argmax(y_hat, axis=1)"
   ]
  },
  {
   "cell_type": "code",
   "execution_count": 76,
   "id": "f5297bfa",
   "metadata": {},
   "outputs": [
    {
     "name": "stdout",
     "output_type": "stream",
     "text": [
      "(30000, 4)\n",
      "(30000,)\n"
     ]
    }
   ],
   "source": [
    "print(y_hat.shape)\n",
    "print(prediction.shape)"
   ]
  },
  {
   "cell_type": "code",
   "execution_count": 77,
   "id": "8c35e89b",
   "metadata": {},
   "outputs": [
    {
     "name": "stdout",
     "output_type": "stream",
     "text": [
      "[0 0 0 0 0]\n",
      "[0 0 0 0 0]\n"
     ]
    }
   ],
   "source": [
    "print(labels[:5])\n",
    "print(prediction[:5])"
   ]
  },
  {
   "cell_type": "code",
   "execution_count": 78,
   "id": "3d8651ef",
   "metadata": {},
   "outputs": [],
   "source": [
    "confusion_matrix = tf.math.confusion_matrix(labels, prediction)"
   ]
  },
  {
   "cell_type": "code",
   "execution_count": 79,
   "id": "f104d9ed",
   "metadata": {},
   "outputs": [
    {
     "data": {
      "text/plain": [
       "<tf.Tensor: shape=(4, 4), dtype=int32, numpy=\n",
       "array([[29816,     0,     0,     0],\n",
       "       [    4,     0,     0,     0],\n",
       "       [    1,     0,     0,     0],\n",
       "       [  179,     0,     0,     0]])>"
      ]
     },
     "execution_count": 79,
     "metadata": {},
     "output_type": "execute_result"
    }
   ],
   "source": [
    "confusion_matrix"
   ]
  },
  {
   "cell_type": "code",
   "execution_count": 80,
   "id": "f2081802",
   "metadata": {},
   "outputs": [],
   "source": [
    "accuracy = (conf_matrix[0,0]+conf_matrix[1,1]+conf_matrix[2,2])/(conf_matrix[0,0]+conf_matrix[0,1]+conf_matrix[0,2]+conf_matrix[1,0]+conf_matrix[1,1]+conf_matrix[1,2]+conf_matrix[2,0]+conf_matrix[2,1]+conf_matrix[2,2])\n"
   ]
  },
  {
   "cell_type": "code",
   "execution_count": 81,
   "id": "6d82ba5b",
   "metadata": {},
   "outputs": [
    {
     "name": "stdout",
     "output_type": "stream",
     "text": [
      "0.9998323329197545\n"
     ]
    }
   ],
   "source": [
    "print(accuracy)"
   ]
  },
  {
   "cell_type": "code",
   "execution_count": 82,
   "id": "c67cc232",
   "metadata": {},
   "outputs": [
    {
     "data": {
      "image/png": "[encoded data removed]",
      "text/plain": [
       "<Figure size 432x288 with 2 Axes>"
      ]
     },
     "metadata": {
      "needs_background": "light"
     },
     "output_type": "display_data"
    }
   ],
   "source": [
    "# plt.figure(figsize=(13,10))\n",
    "sns.heatmap(confusion_matrix, annot=True, cmap='Blues')\n",
    "plt.xlabel('Prediction', color='r', fontsize=25)\n",
    "plt.ylabel('Labels', color='r', fontsize=25)\n",
    "plt.show()"
   ]
  },
  {
   "cell_type": "code",
   "execution_count": null,
   "id": "6eee5575",
   "metadata": {},
   "outputs": [],
   "source": []
  }
 ],
 "metadata": {
  "kernelspec": {
   "display_name": "Python 3 (ipykernel)",
   "language": "python",
   "name": "python3"
  },
  "language_info": {
   "codemirror_mode": {
    "name": "ipython",
    "version": 3
   },
   "file_extension": ".py",
   "mimetype": "text/x-python",
   "name": "python",
   "nbconvert_exporter": "python",
   "pygments_lexer": "ipython3",
   "version": "3.9.7"
  }
 },
 "nbformat": 4,
 "nbformat_minor": 5
}
