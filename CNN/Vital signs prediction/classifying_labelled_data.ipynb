{
 "cells": [
  {
   "cell_type": "code",
   "execution_count": null,
   "id": "3142ec66",
   "metadata": {},
   "outputs": [],
   "source": [
    "pwd"
   ]
  },
  {
   "cell_type": "code",
   "execution_count": null,
   "id": "02c2944b",
   "metadata": {},
   "outputs": [],
   "source": [
    "import numpy as np\n",
    "import pandas as pd\n",
    "import matplotlib.pyplot as plt\n",
    "from collections import Counter\n",
    "import tensorflow as tf\n",
    "import seaborn as sns\n",
    "from sklearn.model_selection import train_test_split"
   ]
  },
  {
   "cell_type": "code",
   "execution_count": null,
   "id": "6a34d105",
   "metadata": {},
   "outputs": [],
   "source": [
    "%matplotlib inline"
   ]
  },
  {
   "cell_type": "code",
   "execution_count": null,
   "id": "05f82e77",
   "metadata": {},
   "outputs": [],
   "source": [
    "# df_clean = pd.read_csv('C:\\\\Users\\\\rahmi\\\\OneDrive\\\\Desktop\\\\vital signs using federated learning\\\\dataset\\\\patient_chart_cleansing.csv')"
   ]
  },
  {
   "cell_type": "code",
   "execution_count": null,
   "id": "7d22bd11",
   "metadata": {},
   "outputs": [],
   "source": [
    "# df_clean.head()"
   ]
  },
  {
   "cell_type": "code",
   "execution_count": null,
   "id": "2d6430e5",
   "metadata": {},
   "outputs": [],
   "source": [
    "# df_original = pd.read_csv('C:\\\\Users\\\\rahmi\\\\OneDrive\\\\Desktop\\\\vital signs using federated learning\\\\dataset\\\\all_patient_charts.csv')"
   ]
  },
  {
   "cell_type": "code",
   "execution_count": null,
   "id": "ba7798ea",
   "metadata": {},
   "outputs": [],
   "source": [
    "# df_original.head()"
   ]
  },
  {
   "cell_type": "code",
   "execution_count": null,
   "id": "5ec6679a",
   "metadata": {},
   "outputs": [],
   "source": [
    "df = pd.read_csv('C:\\\\Users\\\\rahmi\\\\OneDrive\\\\Desktop\\\\vital signs using federated learning\\\\dataset\\\\new_dataset.csv')"
   ]
  },
  {
   "cell_type": "code",
   "execution_count": null,
   "id": "c8a1c9fb",
   "metadata": {},
   "outputs": [],
   "source": [
    "# df.head()"
   ]
  },
  {
   "cell_type": "code",
   "execution_count": null,
   "id": "9a223019",
   "metadata": {},
   "outputs": [],
   "source": [
    "# df['label'] = 0"
   ]
  },
  {
   "cell_type": "code",
   "execution_count": null,
   "id": "ee4c898e",
   "metadata": {},
   "outputs": [],
   "source": [
    "# df.head()"
   ]
  },
  {
   "cell_type": "code",
   "execution_count": null,
   "id": "5ade1e48",
   "metadata": {},
   "outputs": [],
   "source": [
    "df.iloc[:,1]"
   ]
  },
  {
   "cell_type": "code",
   "execution_count": null,
   "id": "984f8886",
   "metadata": {},
   "outputs": [],
   "source": [
    "cols = ['spo2', 'bpm', 'rr', 'sbp', 'dbp', 'mbp']\n",
    "df['merge_values'] = df[cols].apply(lambda x: '/'.join(x.values.astype(str)), axis=1)"
   ]
  },
  {
   "cell_type": "code",
   "execution_count": null,
   "id": "350cbb0e",
   "metadata": {},
   "outputs": [],
   "source": [
    "df.head()"
   ]
  },
  {
   "cell_type": "code",
   "execution_count": null,
   "id": "192b1d6e",
   "metadata": {},
   "outputs": [],
   "source": [
    "all_values = df['merge_values'].str.split(pat=\"/\")\n",
    "all_values"
   ]
  },
  {
   "cell_type": "code",
   "execution_count": null,
   "id": "bfb298d4",
   "metadata": {},
   "outputs": [],
   "source": [
    "def diseases(symptoms):\n",
    "    \n",
    "    spo2 = float(symptoms[0])\n",
    "    bpm = float(symptoms[1])\n",
    "    rr = float(symptoms[2])\n",
    "    mbp = float(symptoms[5])\n",
    "    \n",
    "    RED = (spo2<80) and ((rr>35) | (rr<8)) and (bpm>130) and (mbp<80)\n",
    "    \n",
    "    ORANGE = (((spo2)>80) and (spo2<90)) and (((rr)>31) and ((rr)<35)) and (((bpm>121) and (bpm<130)) | (bpm<40)) and\\\n",
    "    ((mbp>=80) and (mbp<=90))\n",
    "    \n",
    "    YELLOW = ((spo2>90) and (spo2<94)) and ((rr>26) and (rr<30)) and (((bpm>111) and (bpm<120)) | ((bpm>40) and (bpm<49))) \n",
    "    \n",
    "    GREEN = (spo2>=95) and ((rr>8) and (rr<25)) and ((bpm>50) and (bpm<110)) \n",
    "    \n",
    "    if RED:\n",
    "        red = 1\n",
    "        return red\n",
    "    if ORANGE:\n",
    "        orange = 2\n",
    "        return orange\n",
    "    if YELLOW:\n",
    "        yellow = 3\n",
    "        return yellow\n",
    "    if GREEN:\n",
    "        green = 4\n",
    "        return green\n",
    "    else:\n",
    "        normal = 0\n",
    "        return normal"
   ]
  },
  {
   "cell_type": "code",
   "execution_count": null,
   "id": "bb5b0c97",
   "metadata": {},
   "outputs": [],
   "source": [
    "df['labels'] = all_values.apply(diseases)"
   ]
  },
  {
   "cell_type": "code",
   "execution_count": null,
   "id": "064e2a17",
   "metadata": {},
   "outputs": [],
   "source": [
    "df.drop(['merge_values'], axis=1, inplace=True)"
   ]
  },
  {
   "cell_type": "code",
   "execution_count": null,
   "id": "25a08e81",
   "metadata": {},
   "outputs": [],
   "source": [
    "df.head()"
   ]
  },
  {
   "cell_type": "code",
   "execution_count": null,
   "id": "d6096009",
   "metadata": {},
   "outputs": [],
   "source": [
    "# df.to_csv('labeled_data.csv', index=False)"
   ]
  },
  {
   "cell_type": "code",
   "execution_count": null,
   "id": "7cb83e26",
   "metadata": {},
   "outputs": [],
   "source": []
  },
  {
   "cell_type": "code",
   "execution_count": null,
   "id": "0f41b8c2",
   "metadata": {},
   "outputs": [],
   "source": []
  },
  {
   "cell_type": "code",
   "execution_count": 111,
   "id": "ceff3a6e",
   "metadata": {},
   "outputs": [],
   "source": [
    "import numpy as np\n",
    "import pandas as pd\n",
    "import matplotlib.pyplot as plt\n",
    "from collections import Counter\n",
    "import tensorflow as tf\n",
    "import seaborn as sns\n",
    "from sklearn.model_selection import train_test_split\n",
    "from tensorflow.keras import layers,Sequential\n",
    "from sklearn.metrics import confusion_matrix"
   ]
  },
  {
   "cell_type": "code",
   "execution_count": 124,
   "id": "858a9870",
   "metadata": {},
   "outputs": [],
   "source": [
    "labeled_data = pd.read_csv('labeled_data.csv')"
   ]
  },
  {
   "cell_type": "code",
   "execution_count": 125,
   "id": "6162ea7d",
   "metadata": {},
   "outputs": [
    {
     "data": {
      "text/html": [
       "<div>\n",
       "<style scoped>\n",
       "    .dataframe tbody tr th:only-of-type {\n",
       "        vertical-align: middle;\n",
       "    }\n",
       "\n",
       "    .dataframe tbody tr th {\n",
       "        vertical-align: top;\n",
       "    }\n",
       "\n",
       "    .dataframe thead th {\n",
       "        text-align: right;\n",
       "    }\n",
       "</style>\n",
       "<table border=\"1\" class=\"dataframe\">\n",
       "  <thead>\n",
       "    <tr style=\"text-align: right;\">\n",
       "      <th></th>\n",
       "      <th>patient_id</th>\n",
       "      <th>spo2</th>\n",
       "      <th>bpm</th>\n",
       "      <th>rr</th>\n",
       "      <th>sbp</th>\n",
       "      <th>dbp</th>\n",
       "      <th>mbp</th>\n",
       "      <th>start_time</th>\n",
       "      <th>end_time</th>\n",
       "      <th>labels</th>\n",
       "    </tr>\n",
       "  </thead>\n",
       "  <tbody>\n",
       "    <tr>\n",
       "      <th>0</th>\n",
       "      <td>11272192</td>\n",
       "      <td>97.0</td>\n",
       "      <td>63.5</td>\n",
       "      <td>18.0</td>\n",
       "      <td>112.0</td>\n",
       "      <td>78.0</td>\n",
       "      <td>87.0</td>\n",
       "      <td>2166-10-06 02:44:00</td>\n",
       "      <td>2166-10-06 03:14:00</td>\n",
       "      <td>4</td>\n",
       "    </tr>\n",
       "    <tr>\n",
       "      <th>1</th>\n",
       "      <td>11272192</td>\n",
       "      <td>96.0</td>\n",
       "      <td>64.0</td>\n",
       "      <td>16.0</td>\n",
       "      <td>106.0</td>\n",
       "      <td>71.0</td>\n",
       "      <td>81.0</td>\n",
       "      <td>2166-10-06 03:44:00</td>\n",
       "      <td>2166-10-06 04:14:00</td>\n",
       "      <td>4</td>\n",
       "    </tr>\n",
       "    <tr>\n",
       "      <th>2</th>\n",
       "      <td>11272192</td>\n",
       "      <td>95.0</td>\n",
       "      <td>61.0</td>\n",
       "      <td>15.0</td>\n",
       "      <td>105.0</td>\n",
       "      <td>65.0</td>\n",
       "      <td>78.0</td>\n",
       "      <td>2166-10-06 04:44:00</td>\n",
       "      <td>2166-10-06 05:14:00</td>\n",
       "      <td>4</td>\n",
       "    </tr>\n",
       "    <tr>\n",
       "      <th>3</th>\n",
       "      <td>11272192</td>\n",
       "      <td>96.0</td>\n",
       "      <td>63.0</td>\n",
       "      <td>23.0</td>\n",
       "      <td>102.0</td>\n",
       "      <td>65.0</td>\n",
       "      <td>76.0</td>\n",
       "      <td>2166-10-06 05:44:00</td>\n",
       "      <td>2166-10-06 06:14:00</td>\n",
       "      <td>4</td>\n",
       "    </tr>\n",
       "    <tr>\n",
       "      <th>4</th>\n",
       "      <td>11272192</td>\n",
       "      <td>97.0</td>\n",
       "      <td>57.0</td>\n",
       "      <td>18.0</td>\n",
       "      <td>105.0</td>\n",
       "      <td>75.0</td>\n",
       "      <td>84.0</td>\n",
       "      <td>2166-10-06 06:44:00</td>\n",
       "      <td>2166-10-06 07:14:00</td>\n",
       "      <td>4</td>\n",
       "    </tr>\n",
       "  </tbody>\n",
       "</table>\n",
       "</div>"
      ],
      "text/plain": [
       "   patient_id  spo2   bpm    rr    sbp   dbp   mbp           start_time  \\\n",
       "0    11272192  97.0  63.5  18.0  112.0  78.0  87.0  2166-10-06 02:44:00   \n",
       "1    11272192  96.0  64.0  16.0  106.0  71.0  81.0  2166-10-06 03:44:00   \n",
       "2    11272192  95.0  61.0  15.0  105.0  65.0  78.0  2166-10-06 04:44:00   \n",
       "3    11272192  96.0  63.0  23.0  102.0  65.0  76.0  2166-10-06 05:44:00   \n",
       "4    11272192  97.0  57.0  18.0  105.0  75.0  84.0  2166-10-06 06:44:00   \n",
       "\n",
       "              end_time  labels  \n",
       "0  2166-10-06 03:14:00       4  \n",
       "1  2166-10-06 04:14:00       4  \n",
       "2  2166-10-06 05:14:00       4  \n",
       "3  2166-10-06 06:14:00       4  \n",
       "4  2166-10-06 07:14:00       4  "
      ]
     },
     "execution_count": 125,
     "metadata": {},
     "output_type": "execute_result"
    }
   ],
   "source": [
    "labeled_data.head()"
   ]
  },
  {
   "cell_type": "code",
   "execution_count": 126,
   "id": "7750fd50",
   "metadata": {},
   "outputs": [],
   "source": [
    "labeled_data = labeled_data.drop( ['start_time', 'end_time' ], axis=1)"
   ]
  },
  {
   "cell_type": "code",
   "execution_count": 127,
   "id": "e103f7e1",
   "metadata": {},
   "outputs": [
    {
     "data": {
      "text/html": [
       "<div>\n",
       "<style scoped>\n",
       "    .dataframe tbody tr th:only-of-type {\n",
       "        vertical-align: middle;\n",
       "    }\n",
       "\n",
       "    .dataframe tbody tr th {\n",
       "        vertical-align: top;\n",
       "    }\n",
       "\n",
       "    .dataframe thead th {\n",
       "        text-align: right;\n",
       "    }\n",
       "</style>\n",
       "<table border=\"1\" class=\"dataframe\">\n",
       "  <thead>\n",
       "    <tr style=\"text-align: right;\">\n",
       "      <th></th>\n",
       "      <th>patient_id</th>\n",
       "      <th>spo2</th>\n",
       "      <th>bpm</th>\n",
       "      <th>rr</th>\n",
       "      <th>sbp</th>\n",
       "      <th>dbp</th>\n",
       "      <th>mbp</th>\n",
       "      <th>labels</th>\n",
       "    </tr>\n",
       "  </thead>\n",
       "  <tbody>\n",
       "    <tr>\n",
       "      <th>0</th>\n",
       "      <td>11272192</td>\n",
       "      <td>97.0</td>\n",
       "      <td>63.5</td>\n",
       "      <td>18.0</td>\n",
       "      <td>112.0</td>\n",
       "      <td>78.0</td>\n",
       "      <td>87.0</td>\n",
       "      <td>4</td>\n",
       "    </tr>\n",
       "    <tr>\n",
       "      <th>1</th>\n",
       "      <td>11272192</td>\n",
       "      <td>96.0</td>\n",
       "      <td>64.0</td>\n",
       "      <td>16.0</td>\n",
       "      <td>106.0</td>\n",
       "      <td>71.0</td>\n",
       "      <td>81.0</td>\n",
       "      <td>4</td>\n",
       "    </tr>\n",
       "    <tr>\n",
       "      <th>2</th>\n",
       "      <td>11272192</td>\n",
       "      <td>95.0</td>\n",
       "      <td>61.0</td>\n",
       "      <td>15.0</td>\n",
       "      <td>105.0</td>\n",
       "      <td>65.0</td>\n",
       "      <td>78.0</td>\n",
       "      <td>4</td>\n",
       "    </tr>\n",
       "    <tr>\n",
       "      <th>3</th>\n",
       "      <td>11272192</td>\n",
       "      <td>96.0</td>\n",
       "      <td>63.0</td>\n",
       "      <td>23.0</td>\n",
       "      <td>102.0</td>\n",
       "      <td>65.0</td>\n",
       "      <td>76.0</td>\n",
       "      <td>4</td>\n",
       "    </tr>\n",
       "    <tr>\n",
       "      <th>4</th>\n",
       "      <td>11272192</td>\n",
       "      <td>97.0</td>\n",
       "      <td>57.0</td>\n",
       "      <td>18.0</td>\n",
       "      <td>105.0</td>\n",
       "      <td>75.0</td>\n",
       "      <td>84.0</td>\n",
       "      <td>4</td>\n",
       "    </tr>\n",
       "  </tbody>\n",
       "</table>\n",
       "</div>"
      ],
      "text/plain": [
       "   patient_id  spo2   bpm    rr    sbp   dbp   mbp  labels\n",
       "0    11272192  97.0  63.5  18.0  112.0  78.0  87.0       4\n",
       "1    11272192  96.0  64.0  16.0  106.0  71.0  81.0       4\n",
       "2    11272192  95.0  61.0  15.0  105.0  65.0  78.0       4\n",
       "3    11272192  96.0  63.0  23.0  102.0  65.0  76.0       4\n",
       "4    11272192  97.0  57.0  18.0  105.0  75.0  84.0       4"
      ]
     },
     "execution_count": 127,
     "metadata": {},
     "output_type": "execute_result"
    }
   ],
   "source": [
    "labeled_data.head()"
   ]
  },
  {
   "cell_type": "code",
   "execution_count": 128,
   "id": "311b8868",
   "metadata": {},
   "outputs": [
    {
     "data": {
      "text/plain": [
       "Counter({4: 1227149, 0: 1063150, 3: 1655, 1: 63, 2: 12})"
      ]
     },
     "execution_count": 128,
     "metadata": {},
     "output_type": "execute_result"
    }
   ],
   "source": [
    "labels = labeled_data.iloc[:,7]\n",
    "num_labels = Counter(labels)\n",
    "num_labels"
   ]
  },
  {
   "cell_type": "code",
   "execution_count": 129,
   "id": "6a64622d",
   "metadata": {},
   "outputs": [
    {
     "data": {
      "text/plain": [
       "4    1227149\n",
       "0    1063150\n",
       "3       1655\n",
       "1         63\n",
       "2         12\n",
       "Name: labels, dtype: int64"
      ]
     },
     "execution_count": 129,
     "metadata": {},
     "output_type": "execute_result"
    }
   ],
   "source": [
    "labeled_data['labels'].value_counts()"
   ]
  },
  {
   "cell_type": "code",
   "execution_count": 130,
   "id": "49e44d17",
   "metadata": {},
   "outputs": [],
   "source": [
    "# sns.distplot(labeled_data['labels'])"
   ]
  },
  {
   "cell_type": "code",
   "execution_count": 131,
   "id": "77215b74",
   "metadata": {},
   "outputs": [],
   "source": [
    "# sns.pairplot(labeled_data,hue='labels',palette='coolwarm')"
   ]
  },
  {
   "cell_type": "code",
   "execution_count": 132,
   "id": "56292b23",
   "metadata": {},
   "outputs": [],
   "source": [
    "# sns.countplot(x='labels',data=labeled_data)"
   ]
  },
  {
   "cell_type": "code",
   "execution_count": 133,
   "id": "2dced63a",
   "metadata": {},
   "outputs": [],
   "source": [
    "# plt.figure(figsize=(12,8))\n",
    "# sns.heatmap(labeled_data.corr(), cmap='coolwarm', annot=True)"
   ]
  },
  {
   "cell_type": "code",
   "execution_count": 134,
   "id": "53c67f84",
   "metadata": {},
   "outputs": [],
   "source": [
    "# sns.set_style('white')\n",
    "# sns.countplot(x='labels',data=labeled_data)"
   ]
  },
  {
   "cell_type": "code",
   "execution_count": 135,
   "id": "c42790b7",
   "metadata": {},
   "outputs": [],
   "source": [
    "# labeled_data['labels'].hist()"
   ]
  },
  {
   "cell_type": "code",
   "execution_count": 136,
   "id": "bd494818",
   "metadata": {},
   "outputs": [
    {
     "data": {
      "text/html": [
       "<div>\n",
       "<style scoped>\n",
       "    .dataframe tbody tr th:only-of-type {\n",
       "        vertical-align: middle;\n",
       "    }\n",
       "\n",
       "    .dataframe tbody tr th {\n",
       "        vertical-align: top;\n",
       "    }\n",
       "\n",
       "    .dataframe thead th {\n",
       "        text-align: right;\n",
       "    }\n",
       "</style>\n",
       "<table border=\"1\" class=\"dataframe\">\n",
       "  <thead>\n",
       "    <tr style=\"text-align: right;\">\n",
       "      <th></th>\n",
       "      <th>patient_id</th>\n",
       "      <th>spo2</th>\n",
       "      <th>bpm</th>\n",
       "      <th>rr</th>\n",
       "      <th>sbp</th>\n",
       "      <th>dbp</th>\n",
       "      <th>mbp</th>\n",
       "      <th>labels</th>\n",
       "    </tr>\n",
       "  </thead>\n",
       "  <tbody>\n",
       "    <tr>\n",
       "      <th>0</th>\n",
       "      <td>11272192</td>\n",
       "      <td>97.0</td>\n",
       "      <td>63.5</td>\n",
       "      <td>18.0</td>\n",
       "      <td>112.0</td>\n",
       "      <td>78.0</td>\n",
       "      <td>87.0</td>\n",
       "      <td>4</td>\n",
       "    </tr>\n",
       "    <tr>\n",
       "      <th>1</th>\n",
       "      <td>11272192</td>\n",
       "      <td>96.0</td>\n",
       "      <td>64.0</td>\n",
       "      <td>16.0</td>\n",
       "      <td>106.0</td>\n",
       "      <td>71.0</td>\n",
       "      <td>81.0</td>\n",
       "      <td>4</td>\n",
       "    </tr>\n",
       "    <tr>\n",
       "      <th>2</th>\n",
       "      <td>11272192</td>\n",
       "      <td>95.0</td>\n",
       "      <td>61.0</td>\n",
       "      <td>15.0</td>\n",
       "      <td>105.0</td>\n",
       "      <td>65.0</td>\n",
       "      <td>78.0</td>\n",
       "      <td>4</td>\n",
       "    </tr>\n",
       "    <tr>\n",
       "      <th>3</th>\n",
       "      <td>11272192</td>\n",
       "      <td>96.0</td>\n",
       "      <td>63.0</td>\n",
       "      <td>23.0</td>\n",
       "      <td>102.0</td>\n",
       "      <td>65.0</td>\n",
       "      <td>76.0</td>\n",
       "      <td>4</td>\n",
       "    </tr>\n",
       "    <tr>\n",
       "      <th>4</th>\n",
       "      <td>11272192</td>\n",
       "      <td>97.0</td>\n",
       "      <td>57.0</td>\n",
       "      <td>18.0</td>\n",
       "      <td>105.0</td>\n",
       "      <td>75.0</td>\n",
       "      <td>84.0</td>\n",
       "      <td>4</td>\n",
       "    </tr>\n",
       "  </tbody>\n",
       "</table>\n",
       "</div>"
      ],
      "text/plain": [
       "   patient_id  spo2   bpm    rr    sbp   dbp   mbp  labels\n",
       "0    11272192  97.0  63.5  18.0  112.0  78.0  87.0       4\n",
       "1    11272192  96.0  64.0  16.0  106.0  71.0  81.0       4\n",
       "2    11272192  95.0  61.0  15.0  105.0  65.0  78.0       4\n",
       "3    11272192  96.0  63.0  23.0  102.0  65.0  76.0       4\n",
       "4    11272192  97.0  57.0  18.0  105.0  75.0  84.0       4"
      ]
     },
     "execution_count": 136,
     "metadata": {},
     "output_type": "execute_result"
    }
   ],
   "source": [
    "labeled_data.head()"
   ]
  },
  {
   "cell_type": "code",
   "execution_count": 137,
   "id": "f2d5bafe",
   "metadata": {},
   "outputs": [],
   "source": [
    "labeled_data= labeled_data[labeled_data.labels!= 0]"
   ]
  },
  {
   "cell_type": "code",
   "execution_count": 138,
   "id": "c58217ae",
   "metadata": {},
   "outputs": [
    {
     "data": {
      "text/html": [
       "<div>\n",
       "<style scoped>\n",
       "    .dataframe tbody tr th:only-of-type {\n",
       "        vertical-align: middle;\n",
       "    }\n",
       "\n",
       "    .dataframe tbody tr th {\n",
       "        vertical-align: top;\n",
       "    }\n",
       "\n",
       "    .dataframe thead th {\n",
       "        text-align: right;\n",
       "    }\n",
       "</style>\n",
       "<table border=\"1\" class=\"dataframe\">\n",
       "  <thead>\n",
       "    <tr style=\"text-align: right;\">\n",
       "      <th></th>\n",
       "      <th>patient_id</th>\n",
       "      <th>spo2</th>\n",
       "      <th>bpm</th>\n",
       "      <th>rr</th>\n",
       "      <th>sbp</th>\n",
       "      <th>dbp</th>\n",
       "      <th>mbp</th>\n",
       "      <th>labels</th>\n",
       "    </tr>\n",
       "  </thead>\n",
       "  <tbody>\n",
       "    <tr>\n",
       "      <th>0</th>\n",
       "      <td>11272192</td>\n",
       "      <td>97.0</td>\n",
       "      <td>63.5</td>\n",
       "      <td>18.0</td>\n",
       "      <td>112.0</td>\n",
       "      <td>78.0</td>\n",
       "      <td>87.0</td>\n",
       "      <td>4</td>\n",
       "    </tr>\n",
       "    <tr>\n",
       "      <th>1</th>\n",
       "      <td>11272192</td>\n",
       "      <td>96.0</td>\n",
       "      <td>64.0</td>\n",
       "      <td>16.0</td>\n",
       "      <td>106.0</td>\n",
       "      <td>71.0</td>\n",
       "      <td>81.0</td>\n",
       "      <td>4</td>\n",
       "    </tr>\n",
       "    <tr>\n",
       "      <th>2</th>\n",
       "      <td>11272192</td>\n",
       "      <td>95.0</td>\n",
       "      <td>61.0</td>\n",
       "      <td>15.0</td>\n",
       "      <td>105.0</td>\n",
       "      <td>65.0</td>\n",
       "      <td>78.0</td>\n",
       "      <td>4</td>\n",
       "    </tr>\n",
       "    <tr>\n",
       "      <th>3</th>\n",
       "      <td>11272192</td>\n",
       "      <td>96.0</td>\n",
       "      <td>63.0</td>\n",
       "      <td>23.0</td>\n",
       "      <td>102.0</td>\n",
       "      <td>65.0</td>\n",
       "      <td>76.0</td>\n",
       "      <td>4</td>\n",
       "    </tr>\n",
       "    <tr>\n",
       "      <th>4</th>\n",
       "      <td>11272192</td>\n",
       "      <td>97.0</td>\n",
       "      <td>57.0</td>\n",
       "      <td>18.0</td>\n",
       "      <td>105.0</td>\n",
       "      <td>75.0</td>\n",
       "      <td>84.0</td>\n",
       "      <td>4</td>\n",
       "    </tr>\n",
       "  </tbody>\n",
       "</table>\n",
       "</div>"
      ],
      "text/plain": [
       "   patient_id  spo2   bpm    rr    sbp   dbp   mbp  labels\n",
       "0    11272192  97.0  63.5  18.0  112.0  78.0  87.0       4\n",
       "1    11272192  96.0  64.0  16.0  106.0  71.0  81.0       4\n",
       "2    11272192  95.0  61.0  15.0  105.0  65.0  78.0       4\n",
       "3    11272192  96.0  63.0  23.0  102.0  65.0  76.0       4\n",
       "4    11272192  97.0  57.0  18.0  105.0  75.0  84.0       4"
      ]
     },
     "execution_count": 138,
     "metadata": {},
     "output_type": "execute_result"
    }
   ],
   "source": [
    "labeled_data.head()"
   ]
  },
  {
   "cell_type": "code",
   "execution_count": 139,
   "id": "3af97756",
   "metadata": {},
   "outputs": [
    {
     "data": {
      "text/plain": [
       "4    1227149\n",
       "3       1655\n",
       "1         63\n",
       "2         12\n",
       "Name: labels, dtype: int64"
      ]
     },
     "execution_count": 139,
     "metadata": {},
     "output_type": "execute_result"
    }
   ],
   "source": [
    "labeled_data['labels'].value_counts()"
   ]
  },
  {
   "cell_type": "code",
   "execution_count": 140,
   "id": "72550cbd",
   "metadata": {},
   "outputs": [],
   "source": [
    "X = labeled_data.iloc[:, 1:-1].values[:50000]"
   ]
  },
  {
   "cell_type": "code",
   "execution_count": 141,
   "id": "2affc7d5",
   "metadata": {},
   "outputs": [],
   "source": [
    "y = labeled_data.iloc[:, -1].values[:50000]"
   ]
  },
  {
   "cell_type": "code",
   "execution_count": 142,
   "id": "fdb826c0",
   "metadata": {},
   "outputs": [
    {
     "data": {
      "text/plain": [
       "array([4, 4, 4, ..., 4, 4, 4], dtype=int64)"
      ]
     },
     "execution_count": 142,
     "metadata": {},
     "output_type": "execute_result"
    }
   ],
   "source": [
    "y"
   ]
  },
  {
   "cell_type": "code",
   "execution_count": 143,
   "id": "bb79a499",
   "metadata": {},
   "outputs": [
    {
     "name": "stdout",
     "output_type": "stream",
     "text": [
      "<class 'numpy.ndarray'>\n"
     ]
    }
   ],
   "source": [
    "print(type(X))"
   ]
  },
  {
   "cell_type": "code",
   "execution_count": 144,
   "id": "f8e5b9b1",
   "metadata": {},
   "outputs": [
    {
     "name": "stdout",
     "output_type": "stream",
     "text": [
      "<class 'numpy.ndarray'>\n"
     ]
    }
   ],
   "source": [
    "print(type(y))"
   ]
  },
  {
   "cell_type": "code",
   "execution_count": 145,
   "id": "dc3e5289",
   "metadata": {},
   "outputs": [
    {
     "data": {
      "text/plain": [
       "(50000, 6)"
      ]
     },
     "execution_count": 145,
     "metadata": {},
     "output_type": "execute_result"
    }
   ],
   "source": [
    "X.shape"
   ]
  },
  {
   "cell_type": "code",
   "execution_count": 146,
   "id": "0183c482",
   "metadata": {},
   "outputs": [
    {
     "name": "stdout",
     "output_type": "stream",
     "text": [
      "[[ 97.   63.5  18.  112.   78.   87. ]\n",
      " [ 96.   64.   16.  106.   71.   81. ]\n",
      " [ 95.   61.   15.  105.   65.   78. ]\n",
      " ...\n",
      " [ 99.   73.   19.  141.5  55.   86. ]\n",
      " [100.   73.   16.  134.   73.   94. ]\n",
      " [100.   76.   19.  133.   70.   90. ]]\n"
     ]
    }
   ],
   "source": [
    "print(X)"
   ]
  },
  {
   "cell_type": "code",
   "execution_count": 147,
   "id": "9c22c176",
   "metadata": {},
   "outputs": [],
   "source": [
    "X_train, X_test, y_train, y_test = train_test_split(X, y, test_size=0.3, random_state=42)"
   ]
  },
  {
   "cell_type": "code",
   "execution_count": 148,
   "id": "e217ce35",
   "metadata": {},
   "outputs": [
    {
     "name": "stdout",
     "output_type": "stream",
     "text": [
      "(35000, 6)\n",
      "(35000,)\n",
      "[4 4 4 4 4 4 4 4 4 4]\n"
     ]
    }
   ],
   "source": [
    "print(X_train.shape)\n",
    "print(y_train.shape)\n",
    "print(y_train[:10])"
   ]
  },
  {
   "cell_type": "code",
   "execution_count": 149,
   "id": "4bf8a7fb",
   "metadata": {},
   "outputs": [
    {
     "data": {
      "image/png": "[encoded data removed]",
      "text/plain": [
       "<Figure size 576x432 with 3 Axes>"
      ]
     },
     "metadata": {
      "needs_background": "light"
     },
     "output_type": "display_data"
    }
   ],
   "source": [
    "plt.figure(figsize=(8,6))\n",
    "\n",
    "plt.subplot(1,3,1)\n",
    "plt.scatter(X_train[:,0], X_train[:,1], c=y_train)\n",
    "\n",
    "plt.subplot(1,3,2)\n",
    "plt.scatter(X_train[:,2], X_train[:,3], c=y_train)\n",
    "\n",
    "plt.subplot(1,3,3)\n",
    "plt.scatter(X_train[:,4], X_train[:,5], c=y_train)\n",
    "\n",
    "plt.show()"
   ]
  },
  {
   "cell_type": "code",
   "execution_count": 150,
   "id": "7c986eaa",
   "metadata": {},
   "outputs": [],
   "source": [
    "# from sklearn.preprocessing import StandardScaler\n",
    "# sc = StandardScaler()\n",
    "# X_train = sc.fit_transform(X_train)\n",
    "# X_test = sc.transform(X_test)"
   ]
  },
  {
   "cell_type": "code",
   "execution_count": 151,
   "id": "a1120c15",
   "metadata": {},
   "outputs": [],
   "source": [
    "# y_test = tf.one_hot(y_test, depth=4)\n",
    "# y_train = tf.one_hot(y_train, depth=4)\n",
    "\n",
    "y_test = tf.one_hot(tf.cast(tf.reshape(y_test, -1), dtype=tf.int32), depth=4)\n",
    "y_train = tf.one_hot(tf.cast(tf.reshape(y_train, -1), dtype=tf.int32), depth=4)\n"
   ]
  },
  {
   "cell_type": "code",
   "execution_count": 152,
   "id": "4ee4320e",
   "metadata": {},
   "outputs": [
    {
     "name": "stdout",
     "output_type": "stream",
     "text": [
      "tf.Tensor(\n",
      "[[0. 0. 0. 0.]\n",
      " [0. 0. 0. 0.]\n",
      " [0. 0. 0. 0.]\n",
      " [0. 0. 0. 0.]\n",
      " [0. 0. 0. 0.]\n",
      " [0. 0. 0. 0.]\n",
      " [0. 0. 0. 0.]\n",
      " [0. 0. 0. 0.]\n",
      " [0. 0. 0. 0.]\n",
      " [0. 0. 0. 0.]], shape=(10, 4), dtype=float32)\n"
     ]
    }
   ],
   "source": [
    "print(y_train[:10])"
   ]
  },
  {
   "cell_type": "code",
   "execution_count": 153,
   "id": "18f954bb",
   "metadata": {},
   "outputs": [
    {
     "name": "stdout",
     "output_type": "stream",
     "text": [
      "(35000, 6)\n",
      "(35000, 4)\n",
      "tf.Tensor(\n",
      "[[0. 0. 0. 0.]\n",
      " [0. 0. 0. 0.]\n",
      " [0. 0. 0. 0.]\n",
      " [0. 0. 0. 0.]\n",
      " [0. 0. 0. 0.]\n",
      " [0. 0. 0. 0.]\n",
      " [0. 0. 0. 0.]\n",
      " [0. 0. 0. 0.]\n",
      " [0. 0. 0. 0.]\n",
      " [0. 0. 0. 0.]], shape=(10, 4), dtype=float32)\n"
     ]
    }
   ],
   "source": [
    "print(X_train.shape)\n",
    "print(y_train.shape)\n",
    "print(y_train[:10])"
   ]
  },
  {
   "cell_type": "code",
   "execution_count": 155,
   "id": "c557e21f",
   "metadata": {},
   "outputs": [],
   "source": [
    "model = Sequential()\n",
    "\n",
    "model.add(layers.Dense(128, input_shape=[6]))\n",
    "model.add(layers.Dense(64, activation='relu'))\n",
    "model.add(layers.Dense(32, activation='relu'))\n",
    "model.add(layers.Dense(16, activation='relu'))\n",
    "model.add(layers.Dense(4, activation='softmax'))\n",
    "\n",
    "model.compile(optimizer='adam', loss='categorical_crossentropy', metrics=['accuracy'])"
   ]
  },
  {
   "cell_type": "code",
   "execution_count": 156,
   "id": "fd2d2ea3",
   "metadata": {},
   "outputs": [
    {
     "name": "stdout",
     "output_type": "stream",
     "text": [
      "Model: \"sequential_10\"\n",
      "_________________________________________________________________\n",
      " Layer (type)                Output Shape              Param #   \n",
      "=================================================================\n",
      " dense_30 (Dense)            (None, 128)               896       \n",
      "                                                                 \n",
      " dense_31 (Dense)            (None, 64)                8256      \n",
      "                                                                 \n",
      " dense_32 (Dense)            (None, 32)                2080      \n",
      "                                                                 \n",
      " dense_33 (Dense)            (None, 16)                528       \n",
      "                                                                 \n",
      " dense_34 (Dense)            (None, 4)                 68        \n",
      "                                                                 \n",
      "=================================================================\n",
      "Total params: 11,828\n",
      "Trainable params: 11,828\n",
      "Non-trainable params: 0\n",
      "_________________________________________________________________\n"
     ]
    }
   ],
   "source": [
    "model.summary()"
   ]
  },
  {
   "cell_type": "code",
   "execution_count": 157,
   "id": "eb88fcf9",
   "metadata": {
    "scrolled": true
   },
   "outputs": [
    {
     "name": "stdout",
     "output_type": "stream",
     "text": [
      "Epoch 1/30\n",
      "1094/1094 [==============================] - 3s 2ms/step - loss: 568.9268 - accuracy: 0.3103 - val_loss: 0.0000e+00 - val_accuracy: 0.0012\n",
      "Epoch 2/30\n",
      "1094/1094 [==============================] - 2s 2ms/step - loss: 16966.7734 - accuracy: 0.2690 - val_loss: 58530.7461 - val_accuracy: 0.0000e+00\n",
      "Epoch 3/30\n",
      "1094/1094 [==============================] - 2s 2ms/step - loss: 66787.2656 - accuracy: 0.2639 - val_loss: 0.0000e+00 - val_accuracy: 0.0012\n",
      "Epoch 4/30\n",
      "1094/1094 [==============================] - 2s 2ms/step - loss: 253880.8438 - accuracy: 0.2522 - val_loss: 7873.0581 - val_accuracy: 0.9988\n",
      "Epoch 5/30\n",
      "1094/1094 [==============================] - 2s 2ms/step - loss: 509518.0625 - accuracy: 0.2501 - val_loss: 1048121.6250 - val_accuracy: 0.9988\n",
      "Epoch 6/30\n",
      "1094/1094 [==============================] - 2s 2ms/step - loss: 835430.4375 - accuracy: 0.2618 - val_loss: 1107366.1250 - val_accuracy: 0.9988\n",
      "Epoch 7/30\n",
      "1094/1094 [==============================] - 2s 2ms/step - loss: 1744620.7500 - accuracy: 0.2653 - val_loss: 876539.6250 - val_accuracy: 0.0000e+00\n",
      "Epoch 8/30\n",
      "1094/1094 [==============================] - 2s 2ms/step - loss: 1950051.7500 - accuracy: 0.2549 - val_loss: 4185775.5000 - val_accuracy: 0.9988\n",
      "Epoch 9/30\n",
      "1094/1094 [==============================] - 2s 2ms/step - loss: 2100986.7500 - accuracy: 0.2468 - val_loss: 2069469.6250 - val_accuracy: 0.0000e+00\n",
      "Epoch 10/30\n",
      "1094/1094 [==============================] - 2s 2ms/step - loss: 5168581.0000 - accuracy: 0.2487 - val_loss: 1916796.8750 - val_accuracy: 0.0000e+00\n",
      "Epoch 11/30\n",
      "1094/1094 [==============================] - 2s 2ms/step - loss: 4694744.5000 - accuracy: 0.2461 - val_loss: 2183275.0000 - val_accuracy: 0.9988\n",
      "Epoch 12/30\n",
      "1094/1094 [==============================] - 2s 2ms/step - loss: 9116739.0000 - accuracy: 0.2467 - val_loss: 42837824.0000 - val_accuracy: 0.9988\n",
      "Epoch 13/30\n",
      "1094/1094 [==============================] - 2s 2ms/step - loss: 9416332.0000 - accuracy: 0.2434 - val_loss: 7885291.5000 - val_accuracy: 0.0000e+00\n",
      "Epoch 14/30\n",
      "1094/1094 [==============================] - 2s 2ms/step - loss: 11628528.0000 - accuracy: 0.2490 - val_loss: 13415062.0000 - val_accuracy: 0.9988\n",
      "Epoch 15/30\n",
      "1094/1094 [==============================] - 2s 2ms/step - loss: 13007136.0000 - accuracy: 0.2459 - val_loss: 1055846.1250 - val_accuracy: 0.0000e+00\n",
      "Epoch 16/30\n",
      "1094/1094 [==============================] - 2s 2ms/step - loss: 15964240.0000 - accuracy: 0.2469 - val_loss: 22264484.0000 - val_accuracy: 0.0000e+00\n",
      "Epoch 17/30\n",
      "1094/1094 [==============================] - 2s 2ms/step - loss: 15202075.0000 - accuracy: 0.2545 - val_loss: 11247446.0000 - val_accuracy: 0.9988\n",
      "Epoch 18/30\n",
      "1094/1094 [==============================] - 2s 2ms/step - loss: 29765658.0000 - accuracy: 0.2509 - val_loss: 7869633.0000 - val_accuracy: 0.0000e+00\n",
      "Epoch 19/30\n",
      "1094/1094 [==============================] - 2s 2ms/step - loss: 23735446.0000 - accuracy: 0.2441 - val_loss: 13717052.0000 - val_accuracy: 0.9988\n",
      "Epoch 20/30\n",
      "1094/1094 [==============================] - 2s 2ms/step - loss: 39088036.0000 - accuracy: 0.2494 - val_loss: 0.0000e+00 - val_accuracy: 0.0012\n",
      "Epoch 21/30\n",
      "1094/1094 [==============================] - 2s 2ms/step - loss: 33882308.0000 - accuracy: 0.2473 - val_loss: 20240034.0000 - val_accuracy: 0.9988\n",
      "Epoch 22/30\n",
      "1094/1094 [==============================] - 2s 2ms/step - loss: 39406324.0000 - accuracy: 0.2454 - val_loss: 0.0000e+00 - val_accuracy: 0.0012\n",
      "Epoch 23/30\n",
      "1094/1094 [==============================] - 2s 2ms/step - loss: 39483020.0000 - accuracy: 0.2432 - val_loss: 56103012.0000 - val_accuracy: 0.0000e+00\n",
      "Epoch 24/30\n",
      "1094/1094 [==============================] - 2s 2ms/step - loss: 56682064.0000 - accuracy: 0.2398 - val_loss: 8885214.0000 - val_accuracy: 0.0000e+00\n",
      "Epoch 25/30\n",
      "1094/1094 [==============================] - 2s 2ms/step - loss: 50446692.0000 - accuracy: 0.2548 - val_loss: 0.0000e+00 - val_accuracy: 0.0012\n",
      "Epoch 26/30\n",
      "1094/1094 [==============================] - 2s 2ms/step - loss: 87394912.0000 - accuracy: 0.2581 - val_loss: 0.0000e+00 - val_accuracy: 0.0012\n",
      "Epoch 27/30\n",
      "1094/1094 [==============================] - 2s 2ms/step - loss: 74778448.0000 - accuracy: 0.2579 - val_loss: 64156072.0000 - val_accuracy: 0.9988\n",
      "Epoch 28/30\n",
      "1094/1094 [==============================] - 2s 2ms/step - loss: 105909288.0000 - accuracy: 0.2506 - val_loss: 0.0000e+00 - val_accuracy: 0.0012\n",
      "Epoch 29/30\n",
      "1094/1094 [==============================] - 2s 2ms/step - loss: 82332992.0000 - accuracy: 0.2450 - val_loss: 1682195.5000 - val_accuracy: 0.0000e+00\n",
      "Epoch 30/30\n",
      "1094/1094 [==============================] - 2s 2ms/step - loss: 114284480.0000 - accuracy: 0.2423 - val_loss: 134396688.0000 - val_accuracy: 0.9988\n"
     ]
    }
   ],
   "source": [
    "history = model.fit(X_train, y_train, validation_data=(X_test, y_test), epochs=30)"
   ]
  },
  {
   "cell_type": "code",
   "execution_count": 158,
   "id": "df82ef41",
   "metadata": {},
   "outputs": [
    {
     "data": {
      "image/png": "[encoded data removed]",
      "text/plain": [
       "<Figure size 432x288 with 1 Axes>"
      ]
     },
     "metadata": {
      "needs_background": "light"
     },
     "output_type": "display_data"
    }
   ],
   "source": [
    "plt.plot(history.history['loss'])\n",
    "plt.plot(history.history['val_loss'])\n",
    "plt.show()"
   ]
  },
  {
   "cell_type": "code",
   "execution_count": 159,
   "id": "8b30dea8",
   "metadata": {},
   "outputs": [],
   "source": [
    "y_hat = model.predict(X_test)"
   ]
  },
  {
   "cell_type": "code",
   "execution_count": 160,
   "id": "a3e3869f",
   "metadata": {},
   "outputs": [
    {
     "name": "stdout",
     "output_type": "stream",
     "text": [
      "[1. 0. 0. 0.]\n",
      "tf.Tensor([0. 0. 0. 0.], shape=(4,), dtype=float32)\n"
     ]
    }
   ],
   "source": [
    "print(y_hat[0])\n",
    "print(y_test[0])"
   ]
  },
  {
   "cell_type": "code",
   "execution_count": 161,
   "id": "f10d8e56",
   "metadata": {},
   "outputs": [],
   "source": [
    "y_hat = np.argmax(y_hat, axis=1)\n",
    "y_test = np.argmax(y_test, axis=1)"
   ]
  },
  {
   "cell_type": "code",
   "execution_count": 162,
   "id": "e225951e",
   "metadata": {},
   "outputs": [
    {
     "name": "stdout",
     "output_type": "stream",
     "text": [
      "[0 0 0 0 0 0 0 0 0 0]\n",
      "[0 0 0 0 0 0 0 0 0 0]\n"
     ]
    }
   ],
   "source": [
    "print(y_hat[:10])\n",
    "print(y_test[:10])"
   ]
  },
  {
   "cell_type": "code",
   "execution_count": 163,
   "id": "fd861667",
   "metadata": {},
   "outputs": [],
   "source": [
    "conf_matrix = confusion_matrix(y_test, y_hat)"
   ]
  },
  {
   "cell_type": "code",
   "execution_count": 164,
   "id": "606cea6f",
   "metadata": {},
   "outputs": [
    {
     "name": "stdout",
     "output_type": "stream",
     "text": [
      "[[14982     0]\n",
      " [   18     0]]\n"
     ]
    }
   ],
   "source": [
    "print(conf_matrix)"
   ]
  },
  {
   "cell_type": "code",
   "execution_count": 165,
   "id": "ddee1b13",
   "metadata": {},
   "outputs": [
    {
     "ename": "IndexError",
     "evalue": "index 2 is out of bounds for axis 0 with size 2",
     "output_type": "error",
     "traceback": [
      "\u001b[1;31m---------------------------------------------------------------------------\u001b[0m",
      "\u001b[1;31mIndexError\u001b[0m                                Traceback (most recent call last)",
      "\u001b[1;32m~\\AppData\\Local\\Temp/ipykernel_11224/4200263660.py\u001b[0m in \u001b[0;36m<module>\u001b[1;34m\u001b[0m\n\u001b[1;32m----> 1\u001b[1;33m \u001b[0maccuracy\u001b[0m \u001b[1;33m=\u001b[0m \u001b[1;33m(\u001b[0m\u001b[0mconf_matrix\u001b[0m\u001b[1;33m[\u001b[0m\u001b[1;36m0\u001b[0m\u001b[1;33m,\u001b[0m\u001b[1;36m0\u001b[0m\u001b[1;33m]\u001b[0m\u001b[1;33m+\u001b[0m\u001b[0mconf_matrix\u001b[0m\u001b[1;33m[\u001b[0m\u001b[1;36m1\u001b[0m\u001b[1;33m,\u001b[0m\u001b[1;36m1\u001b[0m\u001b[1;33m]\u001b[0m\u001b[1;33m+\u001b[0m\u001b[0mconf_matrix\u001b[0m\u001b[1;33m[\u001b[0m\u001b[1;36m2\u001b[0m\u001b[1;33m,\u001b[0m\u001b[1;36m2\u001b[0m\u001b[1;33m]\u001b[0m\u001b[1;33m)\u001b[0m\u001b[1;33m/\u001b[0m\u001b[1;33m(\u001b[0m\u001b[0mconf_matrix\u001b[0m\u001b[1;33m[\u001b[0m\u001b[1;36m0\u001b[0m\u001b[1;33m,\u001b[0m\u001b[1;36m0\u001b[0m\u001b[1;33m]\u001b[0m\u001b[1;33m+\u001b[0m\u001b[0mconf_matrix\u001b[0m\u001b[1;33m[\u001b[0m\u001b[1;36m0\u001b[0m\u001b[1;33m,\u001b[0m\u001b[1;36m1\u001b[0m\u001b[1;33m]\u001b[0m\u001b[1;33m+\u001b[0m\u001b[0mconf_matrix\u001b[0m\u001b[1;33m[\u001b[0m\u001b[1;36m0\u001b[0m\u001b[1;33m,\u001b[0m\u001b[1;36m2\u001b[0m\u001b[1;33m]\u001b[0m\u001b[1;33m+\u001b[0m\u001b[0mconf_matrix\u001b[0m\u001b[1;33m[\u001b[0m\u001b[1;36m1\u001b[0m\u001b[1;33m,\u001b[0m\u001b[1;36m0\u001b[0m\u001b[1;33m]\u001b[0m\u001b[1;33m+\u001b[0m\u001b[0mconf_matrix\u001b[0m\u001b[1;33m[\u001b[0m\u001b[1;36m1\u001b[0m\u001b[1;33m,\u001b[0m\u001b[1;36m1\u001b[0m\u001b[1;33m]\u001b[0m\u001b[1;33m+\u001b[0m\u001b[0mconf_matrix\u001b[0m\u001b[1;33m[\u001b[0m\u001b[1;36m1\u001b[0m\u001b[1;33m,\u001b[0m\u001b[1;36m2\u001b[0m\u001b[1;33m]\u001b[0m\u001b[1;33m+\u001b[0m\u001b[0mconf_matrix\u001b[0m\u001b[1;33m[\u001b[0m\u001b[1;36m2\u001b[0m\u001b[1;33m,\u001b[0m\u001b[1;36m0\u001b[0m\u001b[1;33m]\u001b[0m\u001b[1;33m+\u001b[0m\u001b[0mconf_matrix\u001b[0m\u001b[1;33m[\u001b[0m\u001b[1;36m2\u001b[0m\u001b[1;33m,\u001b[0m\u001b[1;36m1\u001b[0m\u001b[1;33m]\u001b[0m\u001b[1;33m+\u001b[0m\u001b[0mconf_matrix\u001b[0m\u001b[1;33m[\u001b[0m\u001b[1;36m2\u001b[0m\u001b[1;33m,\u001b[0m\u001b[1;36m2\u001b[0m\u001b[1;33m]\u001b[0m\u001b[1;33m)\u001b[0m\u001b[1;33m\u001b[0m\u001b[1;33m\u001b[0m\u001b[0m\n\u001b[0m",
      "\u001b[1;31mIndexError\u001b[0m: index 2 is out of bounds for axis 0 with size 2"
     ]
    }
   ],
   "source": [
    "accuracy = (conf_matrix[0,0]+conf_matrix[1,1]+conf_matrix[2,2])/(conf_matrix[0,0]+conf_matrix[0,1]+conf_matrix[0,2]+conf_matrix[1,0]+conf_matrix[1,1]+conf_matrix[1,2]+conf_matrix[2,0]+conf_matrix[2,1]+conf_matrix[2,2])\n"
   ]
  },
  {
   "cell_type": "code",
   "execution_count": 166,
   "id": "dd270328",
   "metadata": {},
   "outputs": [
    {
     "name": "stdout",
     "output_type": "stream",
     "text": [
      "0.0\n"
     ]
    }
   ],
   "source": [
    "print(accuracy)"
   ]
  },
  {
   "cell_type": "code",
   "execution_count": 167,
   "id": "cdb0d5bd",
   "metadata": {},
   "outputs": [
    {
     "data": {
      "image/png": "[encoded data removed]",
      "text/plain": [
       "<Figure size 432x288 with 2 Axes>"
      ]
     },
     "metadata": {
      "needs_background": "light"
     },
     "output_type": "display_data"
    }
   ],
   "source": [
    "sns.heatmap(conf_matrix, annot=True, cmap='Blues')\n",
    "plt.ylabel('Labels')\n",
    "plt.xlabel('Predictions')\n",
    "plt.show()"
   ]
  },
  {
   "cell_type": "code",
   "execution_count": null,
   "id": "26f03000",
   "metadata": {},
   "outputs": [],
   "source": []
  }
 ],
 "metadata": {
  "kernelspec": {
   "display_name": "Python 3 (ipykernel)",
   "language": "python",
   "name": "python3"
  },
  "language_info": {
   "codemirror_mode": {
    "name": "ipython",
    "version": 3
   },
   "file_extension": ".py",
   "mimetype": "text/x-python",
   "name": "python",
   "nbconvert_exporter": "python",
   "pygments_lexer": "ipython3",
   "version": "3.9.7"
  }
 },
 "nbformat": 4,
 "nbformat_minor": 5
}
