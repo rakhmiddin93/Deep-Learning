{
  "nbformat": 4,
  "nbformat_minor": 0,
  "metadata": {
    "colab": {
      "name": "Cat and Dog .ipynb",
      "provenance": [],
      "collapsed_sections": [],
      "machine_shape": "hm"
    },
    "kernelspec": {
      "name": "python3",
      "display_name": "Python 3"
    },
    "language_info": {
      "name": "python"
    },
    "accelerator": "GPU"
  },
  "cells": [
    {
      "cell_type": "code",
      "execution_count": 2,
      "metadata": {
        "id": "7zYOurdRqs_s"
      },
      "outputs": [],
      "source": [
        "import numpy as np\n",
        "from matplotlib import pyplot as plt\n",
        "import cv2\n",
        "import tensorflow as tf\n",
        "from tensorflow.keras import layers,Sequential\n",
        "from sklearn.model_selection import train_test_split\n",
        "import seaborn as sns\n",
        "import pathlib"
      ]
    },
    {
      "cell_type": "code",
      "source": [
        "tf.__version__"
      ],
      "metadata": {
        "colab": {
          "base_uri": "https://localhost:8080/",
          "height": 35
        },
        "id": "Xcl1Eij1F38M",
        "outputId": "6a2683bb-d9f9-4d79-d404-24fcce93a1a4"
      },
      "execution_count": 3,
      "outputs": [
        {
          "output_type": "execute_result",
          "data": {
            "text/plain": [
              "'2.8.0'"
            ],
            "application/vnd.google.colaboratory.intrinsic+json": {
              "type": "string"
            }
          },
          "metadata": {},
          "execution_count": 3
        }
      ]
    },
    {
      "cell_type": "code",
      "source": [
        "# from google.colab import drive\n",
        "# drive.mount('/content/drive', force_remount=True) "
      ],
      "metadata": {
        "id": "0mZOrbcEXMy7"
      },
      "execution_count": 4,
      "outputs": []
    },
    {
      "cell_type": "code",
      "source": [
        "# !wget -O dog_and_cat.zip https://download.microsoft.com/download/3/E/1/3E1C3F21-ECDB-4869-8368-6DEBA77B919F/kagglecatsanddogs_3367a.zip"
      ],
      "metadata": {
        "colab": {
          "base_uri": "https://localhost:8080/"
        },
        "id": "JfE0a-4LX3up",
        "outputId": "d02c21c6-14eb-4104-e518-9c53a17811b2"
      },
      "execution_count": 5,
      "outputs": [
        {
          "output_type": "stream",
          "name": "stdout",
          "text": [
            "--2022-04-26 21:49:54--  https://download.microsoft.com/download/3/E/1/3E1C3F21-ECDB-4869-8368-6DEBA77B919F/kagglecatsanddogs_3367a.zip\n",
            "Resolving download.microsoft.com (download.microsoft.com)... 184.85.108.113, 2600:1417:76:68e::e59, 2600:1417:76:68a::e59\n",
            "Connecting to download.microsoft.com (download.microsoft.com)|184.85.108.113|:443... connected.\n",
            "HTTP request sent, awaiting response... 200 OK\n",
            "Length: 824894548 (787M) [application/octet-stream]\n",
            "Saving to: ‘dog_and_cat.zip’\n",
            "\n",
            "dog_and_cat.zip     100%[===================>] 786.68M   345MB/s    in 2.3s    \n",
            "\n",
            "2022-04-26 21:49:56 (345 MB/s) - ‘dog_and_cat.zip’ saved [824894548/824894548]\n",
            "\n"
          ]
        }
      ]
    },
    {
      "cell_type": "code",
      "source": [
        "# !unzip dog_and_cat.zipN"
      ],
      "metadata": {
        "id": "QItXo9ggD_ZJ",
        "colab": {
          "base_uri": "https://localhost:8080/"
        },
        "outputId": "c445d8f1-85ec-43dc-9721-68923b3f03b9"
      },
      "execution_count": 6,
      "outputs": [
        {
          "output_type": "stream",
          "name": "stdout",
          "text": [
            "Archive:  dog_and_cat.zip\n",
            "replace PetImages/Cat/0.jpg? [y]es, [n]o, [A]ll, [N]one, [r]ename: N\n"
          ]
        }
      ]
    },
    {
      "cell_type": "code",
      "source": [
        "path = pathlib.Path('/content/PetImages')"
      ],
      "metadata": {
        "id": "2Yq6q34PD_XB"
      },
      "execution_count": 7,
      "outputs": []
    },
    {
      "cell_type": "code",
      "source": [
        "path"
      ],
      "metadata": {
        "colab": {
          "base_uri": "https://localhost:8080/"
        },
        "id": "KRbLtfqZiOXN",
        "outputId": "deba468f-542e-4be4-9cdc-867229657eb8"
      },
      "execution_count": 8,
      "outputs": [
        {
          "output_type": "execute_result",
          "data": {
            "text/plain": [
              "PosixPath('/content/PetImages')"
            ]
          },
          "metadata": {},
          "execution_count": 8
        }
      ]
    },
    {
      "cell_type": "code",
      "source": [
        "path_list = list(path.glob(r'**/*.jpg'))"
      ],
      "metadata": {
        "id": "sL8_olfzhfBq"
      },
      "execution_count": 9,
      "outputs": []
    },
    {
      "cell_type": "code",
      "source": [
        "path_list[:5]"
      ],
      "metadata": {
        "colab": {
          "base_uri": "https://localhost:8080/"
        },
        "id": "SMzWL8C2jQDF",
        "outputId": "b7ae1bed-ee3e-4752-86f4-ec48058a55bf"
      },
      "execution_count": 10,
      "outputs": [
        {
          "output_type": "execute_result",
          "data": {
            "text/plain": [
              "[PosixPath('/content/PetImages/Dog/3448.jpg'),\n",
              " PosixPath('/content/PetImages/Dog/150.jpg'),\n",
              " PosixPath('/content/PetImages/Dog/7717.jpg'),\n",
              " PosixPath('/content/PetImages/Dog/8332.jpg'),\n",
              " PosixPath('/content/PetImages/Dog/667.jpg')]"
            ]
          },
          "metadata": {},
          "execution_count": 10
        }
      ]
    },
    {
      "cell_type": "code",
      "source": [
        "test = path_list[:100] + path_list[-100:]"
      ],
      "metadata": {
        "id": "g_81uBDXhe_t"
      },
      "execution_count": 11,
      "outputs": []
    },
    {
      "cell_type": "code",
      "source": [
        "dataset = []\n",
        "label = []"
      ],
      "metadata": {
        "id": "t_OVIOQChe9u"
      },
      "execution_count": 12,
      "outputs": []
    },
    {
      "cell_type": "code",
      "source": [
        "for p in path_list:\n",
        "    img = cv2.imread(str(p))\n",
        "    try:\n",
        "        img = cv2.cvtColor(img, cv2.COLOR_BGR2RGB)\n",
        "    except:\n",
        "        continue\n",
        "    img = cv2.resize(img, (128,128))\n",
        "    img = img/255.0\n",
        "    if \"Cat\" in str(p):\n",
        "        dataset.append(img)\n",
        "        label.append(0)\n",
        "    else:\n",
        "        dataset.append(img)\n",
        "        label.append(1)"
      ],
      "metadata": {
        "id": "YQ--9_Rfhe20"
      },
      "execution_count": 13,
      "outputs": []
    },
    {
      "cell_type": "code",
      "source": [
        "dataset = np.array(dataset)"
      ],
      "metadata": {
        "id": "ZTdQdlkqkwu9"
      },
      "execution_count": 14,
      "outputs": []
    },
    {
      "cell_type": "code",
      "source": [
        "print(dataset.shape)"
      ],
      "metadata": {
        "colab": {
          "base_uri": "https://localhost:8080/"
        },
        "id": "qnJFh_gOlVbw",
        "outputId": "d6835771-ac2a-46cd-e362-b5042fd30796"
      },
      "execution_count": 15,
      "outputs": [
        {
          "output_type": "stream",
          "name": "stdout",
          "text": [
            "(24946, 128, 128, 3)\n"
          ]
        }
      ]
    },
    {
      "cell_type": "code",
      "source": [
        "X = dataset\n",
        "y = label"
      ],
      "metadata": {
        "id": "0mmk-8h6lf6P"
      },
      "execution_count": 16,
      "outputs": []
    },
    {
      "cell_type": "code",
      "source": [
        "print(y[-5:])\n",
        "print(y[:5])"
      ],
      "metadata": {
        "colab": {
          "base_uri": "https://localhost:8080/"
        },
        "id": "MkpOoe2-lf3Q",
        "outputId": "2f936a08-8197-4f78-834f-6e218276cc4c"
      },
      "execution_count": 17,
      "outputs": [
        {
          "output_type": "stream",
          "name": "stdout",
          "text": [
            "[0, 0, 0, 0, 0]\n",
            "[1, 1, 1, 1, 1]\n"
          ]
        }
      ]
    },
    {
      "cell_type": "code",
      "source": [
        "plt.imshow(X[0])\n",
        "plt.show()"
      ],
      "metadata": {
        "colab": {
          "base_uri": "https://localhost:8080/",
          "height": 268
        },
        "id": "C0a53Zzulf00",
        "outputId": "1337d5f7-0c8a-4667-ff21-111c121b7aa9"
      },
      "execution_count": 18,
      "outputs": [
        {
          "output_type": "display_data",
          "data": {
            "text/plain": [
              "<Figure size 432x288 with 1 Axes>"
            ],
            "image/png": "[encoded data removed]"
          },
          "metadata": {
            "needs_background": "light"
          }
        }
      ]
    },
    {
      "cell_type": "code",
      "source": [
        "x_train, x_test, y_train, y_test = train_test_split(X, y, test_size=0.3, random_state=42, shuffle=True)"
      ],
      "metadata": {
        "id": "W7kQ5NKkhezn"
      },
      "execution_count": 19,
      "outputs": []
    },
    {
      "cell_type": "code",
      "source": [
        "y_train = tf.one_hot(y_train, depth=2)\n",
        "y_test = tf.one_hot(y_test, depth=2)"
      ],
      "metadata": {
        "id": "tfM40K-lhewS"
      },
      "execution_count": 20,
      "outputs": []
    },
    {
      "cell_type": "code",
      "source": [
        "print(y_train[:5])"
      ],
      "metadata": {
        "colab": {
          "base_uri": "https://localhost:8080/"
        },
        "id": "_-Che85UhesF",
        "outputId": "738fcc90-24d1-43ed-d1ee-fae475fe1e79"
      },
      "execution_count": 21,
      "outputs": [
        {
          "output_type": "stream",
          "name": "stdout",
          "text": [
            "tf.Tensor(\n",
            "[[1. 0.]\n",
            " [0. 1.]\n",
            " [0. 1.]\n",
            " [0. 1.]\n",
            " [0. 1.]], shape=(5, 2), dtype=float32)\n"
          ]
        }
      ]
    },
    {
      "cell_type": "code",
      "source": [
        ""
      ],
      "metadata": {
        "id": "cReubMGuAjKj"
      },
      "execution_count": 22,
      "outputs": []
    },
    {
      "cell_type": "code",
      "source": [
        "model = Sequential()\n",
        "\n",
        "model.add(layers.Flatten(input_shape=(128,128,3)))\n",
        "# model.add(layers.Dense(512, activation='relu'))\n",
        "model.add(layers.Dense(256, activation='relu'))\n",
        "model.add(layers.Dense(128, activation='relu'))\n",
        "model.add(layers.Dense(2, activation='softmax'))\n",
        "\n",
        "model.compile(optimizer='adam', loss='categorical_crossentropy', metrics=['accuracy'])\n",
        "\n",
        "model.summary()"
      ],
      "metadata": {
        "id": "6deNsWv2D_TK",
        "colab": {
          "base_uri": "https://localhost:8080/"
        },
        "outputId": "2370ed97-4eb4-4cd7-ca7c-fd126880abe5"
      },
      "execution_count": 23,
      "outputs": [
        {
          "output_type": "stream",
          "name": "stdout",
          "text": [
            "Model: \"sequential\"\n",
            "_________________________________________________________________\n",
            " Layer (type)                Output Shape              Param #   \n",
            "=================================================================\n",
            " flatten (Flatten)           (None, 49152)             0         \n",
            "                                                                 \n",
            " dense (Dense)               (None, 256)               12583168  \n",
            "                                                                 \n",
            " dense_1 (Dense)             (None, 128)               32896     \n",
            "                                                                 \n",
            " dense_2 (Dense)             (None, 2)                 258       \n",
            "                                                                 \n",
            "=================================================================\n",
            "Total params: 12,616,322\n",
            "Trainable params: 12,616,322\n",
            "Non-trainable params: 0\n",
            "_________________________________________________________________\n"
          ]
        }
      ]
    },
    {
      "cell_type": "code",
      "source": [
        "history = model.fit(x_train, y_train, validation_data=(x_test, y_test), epochs=20)"
      ],
      "metadata": {
        "id": "plwtHAI-O9D8"
      },
      "execution_count": null,
      "outputs": []
    },
    {
      "cell_type": "code",
      "source": [
        "accuracy = history.history['accuracy']\n",
        "val_accuracy = history.history['val_accuracy']\n",
        "\n",
        "loss = history.history['loss']\n",
        "val_loss = history.history['val_loss']\n",
        "epoch_range = range(20)"
      ],
      "metadata": {
        "id": "uZ6ruBouPv0F"
      },
      "execution_count": null,
      "outputs": []
    },
    {
      "cell_type": "code",
      "source": [
        "plt.figure(figsize=(10,5))\n",
        "plt.subplot(1,2,1)\n",
        "plt.plot(epoch_range, accuracy, label='Training Accuracy')\n",
        "plt.plot(epoch_range, val_accuracy, label='Validation Accuracy')\n",
        "plt.legend(bbox_to_anchor=(0.8,1.15), ncol=1)\n",
        "\n",
        "plt.subplot(1,2,2)\n",
        "plt.plot(epoch_range, loss, label='Training Loss')\n",
        "plt.plot(epoch_range, val_loss, label='Validation Loss')\n",
        "plt.legend(bbox_to_anchor=(0.8, 1.15), ncol=1)\n",
        "\n",
        "plt.show()"
      ],
      "metadata": {
        "id": "rl3WuOl4nGQw"
      },
      "execution_count": null,
      "outputs": []
    },
    {
      "cell_type": "code",
      "source": [
        "model.evaluate(x_test,y_test)"
      ],
      "metadata": {
        "id": "YEOPV4nfnIuI"
      },
      "execution_count": null,
      "outputs": []
    },
    {
      "cell_type": "code",
      "source": [
        "y_hat = model.predict(x_test)"
      ],
      "metadata": {
        "id": "Q6OlKZsEnLQY"
      },
      "execution_count": null,
      "outputs": []
    },
    {
      "cell_type": "code",
      "source": [
        "print(y_test[0])\n",
        "print(y_hat[0])"
      ],
      "metadata": {
        "id": "A0IB2nqLnW6X"
      },
      "execution_count": null,
      "outputs": []
    },
    {
      "cell_type": "code",
      "source": [
        "labels = np.argmax(y_test, axis=1)\n",
        "predictions = np.argmax(y_hat, axis=1)"
      ],
      "metadata": {
        "id": "Jx-Z5z_MnYz3"
      },
      "execution_count": null,
      "outputs": []
    },
    {
      "cell_type": "code",
      "source": [
        "print(y_hat.shape)\n",
        "print(predictions.shape)"
      ],
      "metadata": {
        "id": "qefCSrPFnoTI"
      },
      "execution_count": null,
      "outputs": []
    },
    {
      "cell_type": "code",
      "source": [
        "print(labels[:5])\n",
        "print(predictions[:5])"
      ],
      "metadata": {
        "id": "R6XTCFhynrkI"
      },
      "execution_count": null,
      "outputs": []
    },
    {
      "cell_type": "code",
      "source": [
        "confusion_matrix = tf.math.confusion_matrix(labels, predictions)"
      ],
      "metadata": {
        "id": "yun-2aTtnuCv"
      },
      "execution_count": null,
      "outputs": []
    },
    {
      "cell_type": "code",
      "source": [
        "confusion_matrix"
      ],
      "metadata": {
        "id": "M2rzpxtAnyd3"
      },
      "execution_count": null,
      "outputs": []
    },
    {
      "cell_type": "code",
      "source": [
        "plt.figure(figsize=(10,8))\n",
        "sns.heatmap(confusion_matrix, annot=True, cmap='Blues', fmt='')\n",
        "plt.xlabel('Prediction', color='r', fontsize=25)\n",
        "plt.ylabel('Labels', color='r', fontsize=25)\n",
        "plt.show()"
      ],
      "metadata": {
        "id": "k5NdX9lbn0M3"
      },
      "execution_count": null,
      "outputs": []
    },
    {
      "cell_type": "code",
      "source": [
        "Label = []\n",
        "for i in range(len(labels)):\n",
        "    if labels[i] == 0:\n",
        "        Label.append('Cat')\n",
        "    else:\n",
        "        Label.append('Dog')"
      ],
      "metadata": {
        "id": "IiwgKb-voYZ3"
      },
      "execution_count": null,
      "outputs": []
    },
    {
      "cell_type": "code",
      "source": [
        "Prediction = []\n",
        "for i in range(len(predictions)):\n",
        "    if predictions[i] == 0:\n",
        "        Prediction.append('Cat')\n",
        "    else:\n",
        "        Prediction.append('Dog')"
      ],
      "metadata": {
        "id": "LJ2TlhebpTOw"
      },
      "execution_count": null,
      "outputs": []
    },
    {
      "cell_type": "code",
      "source": [
        "print(Label[:2])\n",
        "print(Prediction[:2])"
      ],
      "metadata": {
        "id": "ketl5aUQpor_"
      },
      "execution_count": null,
      "outputs": []
    },
    {
      "cell_type": "code",
      "source": [
        "plt.figure(figsize=(20,12))\n",
        "n = 50\n",
        "j=0\n",
        "for i in range(n):\n",
        "    if labels[i] != predictions[i]:\n",
        "        img = x_test[i]\n",
        "        plt.subplot(3,4,j+1)\n",
        "        plt.imshow(img, cmap='gray')\n",
        "        plt.title(f'Labels = {Label[i]}\\n Prediction = {Prediction[i]}', fontsize=10)\n",
        "        plt.axis('off')\n",
        "        j+=1\n",
        "print(j)\n",
        "plt.show()"
      ],
      "metadata": {
        "id": "ms0Z_O6Opunq"
      },
      "execution_count": null,
      "outputs": []
    },
    {
      "cell_type": "code",
      "source": [
        "plt.figure(figsize=(20,12))\n",
        "j=0\n",
        "k=len(y_test)\n",
        "for i in range(len(y_test)):\n",
        "    if labels[i] != predictions[i]:\n",
        "        j+=1\n",
        "print('Number of Losses', j, 'out of',k )"
      ],
      "metadata": {
        "id": "RQOrvfKYrmCv"
      },
      "execution_count": null,
      "outputs": []
    },
    {
      "cell_type": "code",
      "source": [
        ""
      ],
      "metadata": {
        "id": "IO25MZFdunfv"
      },
      "execution_count": null,
      "outputs": []
    }
  ]
}