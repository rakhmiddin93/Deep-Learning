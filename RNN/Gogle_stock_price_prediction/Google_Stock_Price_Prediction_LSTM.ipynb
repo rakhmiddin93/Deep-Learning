{
 "cells": [
  {
   "cell_type": "markdown",
   "id": "eaa6a9ca",
   "metadata": {},
   "source": [
    "#  Recurrent Neural Network"
   ]
  },
  {
   "cell_type": "markdown",
   "id": "3bb7db11",
   "metadata": {},
   "source": [
    "# Part 1 - Data Preprocessing"
   ]
  },
  {
   "cell_type": "markdown",
   "id": "bdf5f056",
   "metadata": {},
   "source": [
    "Importing the libraries"
   ]
  },
  {
   "cell_type": "code",
   "execution_count": 1,
   "id": "373f08e8",
   "metadata": {},
   "outputs": [],
   "source": [
    "import numpy as np\n",
    "import pandas as pd\n",
    "import matplotlib.pyplot as plt"
   ]
  },
  {
   "cell_type": "code",
   "execution_count": 2,
   "id": "21df2827",
   "metadata": {},
   "outputs": [],
   "source": [
    "dataset_train = pd.read_csv('Google_Stock_Price_Train.csv')\n",
    "training_set = dataset_train.iloc[:, 1:2].values"
   ]
  },
  {
   "cell_type": "code",
   "execution_count": 3,
   "id": "7c422e83",
   "metadata": {},
   "outputs": [
    {
     "data": {
      "text/html": [
       "<div>\n",
       "<style scoped>\n",
       "    .dataframe tbody tr th:only-of-type {\n",
       "        vertical-align: middle;\n",
       "    }\n",
       "\n",
       "    .dataframe tbody tr th {\n",
       "        vertical-align: top;\n",
       "    }\n",
       "\n",
       "    .dataframe thead th {\n",
       "        text-align: right;\n",
       "    }\n",
       "</style>\n",
       "<table border=\"1\" class=\"dataframe\">\n",
       "  <thead>\n",
       "    <tr style=\"text-align: right;\">\n",
       "      <th></th>\n",
       "      <th>Date</th>\n",
       "      <th>Open</th>\n",
       "      <th>High</th>\n",
       "      <th>Low</th>\n",
       "      <th>Close</th>\n",
       "      <th>Volume</th>\n",
       "    </tr>\n",
       "  </thead>\n",
       "  <tbody>\n",
       "    <tr>\n",
       "      <th>0</th>\n",
       "      <td>1/3/2012</td>\n",
       "      <td>325.25</td>\n",
       "      <td>332.83</td>\n",
       "      <td>324.97</td>\n",
       "      <td>663.59</td>\n",
       "      <td>7,380,500</td>\n",
       "    </tr>\n",
       "    <tr>\n",
       "      <th>1</th>\n",
       "      <td>1/4/2012</td>\n",
       "      <td>331.27</td>\n",
       "      <td>333.87</td>\n",
       "      <td>329.08</td>\n",
       "      <td>666.45</td>\n",
       "      <td>5,749,400</td>\n",
       "    </tr>\n",
       "    <tr>\n",
       "      <th>2</th>\n",
       "      <td>1/5/2012</td>\n",
       "      <td>329.83</td>\n",
       "      <td>330.75</td>\n",
       "      <td>326.89</td>\n",
       "      <td>657.21</td>\n",
       "      <td>6,590,300</td>\n",
       "    </tr>\n",
       "    <tr>\n",
       "      <th>3</th>\n",
       "      <td>1/6/2012</td>\n",
       "      <td>328.34</td>\n",
       "      <td>328.77</td>\n",
       "      <td>323.68</td>\n",
       "      <td>648.24</td>\n",
       "      <td>5,405,900</td>\n",
       "    </tr>\n",
       "    <tr>\n",
       "      <th>4</th>\n",
       "      <td>1/9/2012</td>\n",
       "      <td>322.04</td>\n",
       "      <td>322.29</td>\n",
       "      <td>309.46</td>\n",
       "      <td>620.76</td>\n",
       "      <td>11,688,800</td>\n",
       "    </tr>\n",
       "  </tbody>\n",
       "</table>\n",
       "</div>"
      ],
      "text/plain": [
       "       Date    Open    High     Low   Close      Volume\n",
       "0  1/3/2012  325.25  332.83  324.97  663.59   7,380,500\n",
       "1  1/4/2012  331.27  333.87  329.08  666.45   5,749,400\n",
       "2  1/5/2012  329.83  330.75  326.89  657.21   6,590,300\n",
       "3  1/6/2012  328.34  328.77  323.68  648.24   5,405,900\n",
       "4  1/9/2012  322.04  322.29  309.46  620.76  11,688,800"
      ]
     },
     "execution_count": 3,
     "metadata": {},
     "output_type": "execute_result"
    }
   ],
   "source": [
    "dataset_train.head()"
   ]
  },
  {
   "cell_type": "code",
   "execution_count": 4,
   "id": "f95991a4",
   "metadata": {},
   "outputs": [
    {
     "name": "stdout",
     "output_type": "stream",
     "text": [
      "[[325.25]\n",
      " [331.27]\n",
      " [329.83]\n",
      " ...\n",
      " [793.7 ]\n",
      " [783.33]\n",
      " [782.75]]\n"
     ]
    }
   ],
   "source": [
    "print(training_set)"
   ]
  },
  {
   "cell_type": "markdown",
   "id": "34970c25",
   "metadata": {},
   "source": [
    "Feature Scaling"
   ]
  },
  {
   "cell_type": "code",
   "execution_count": 5,
   "id": "83a5daa7",
   "metadata": {},
   "outputs": [],
   "source": [
    "from sklearn.preprocessing import MinMaxScaler\n",
    "sc = MinMaxScaler(feature_range = (0, 1))\n",
    "training_set_scaled = sc.fit_transform(training_set)"
   ]
  },
  {
   "cell_type": "code",
   "execution_count": 6,
   "id": "f24d4720",
   "metadata": {},
   "outputs": [
    {
     "data": {
      "text/plain": [
       "MinMaxScaler()"
      ]
     },
     "execution_count": 6,
     "metadata": {},
     "output_type": "execute_result"
    }
   ],
   "source": [
    "sc"
   ]
  },
  {
   "cell_type": "code",
   "execution_count": 7,
   "id": "cc97124f",
   "metadata": {},
   "outputs": [
    {
     "data": {
      "text/plain": [
       "array([[0.08581368],\n",
       "       [0.09701243],\n",
       "       [0.09433366],\n",
       "       ...,\n",
       "       [0.95725128],\n",
       "       [0.93796041],\n",
       "       [0.93688146]])"
      ]
     },
     "execution_count": 7,
     "metadata": {},
     "output_type": "execute_result"
    }
   ],
   "source": [
    "training_set_scaled"
   ]
  },
  {
   "cell_type": "markdown",
   "id": "6ebfd5f6",
   "metadata": {},
   "source": [
    "Creating a data stracture with 60 timesteps and 1 output"
   ]
  },
  {
   "cell_type": "code",
   "execution_count": 8,
   "id": "765c0c92",
   "metadata": {},
   "outputs": [],
   "source": [
    "X_train = []\n",
    "y_train = []\n",
    "for i in range(60, 1258):\n",
    "    X_train.append(training_set_scaled[i-60:i, 0])\n",
    "    y_train.append(training_set_scaled[i, 0])\n",
    "X_train, y_train = np.array(X_train), np.array(y_train)"
   ]
  },
  {
   "cell_type": "code",
   "execution_count": 9,
   "id": "fcd82fc2",
   "metadata": {},
   "outputs": [
    {
     "data": {
      "text/plain": [
       "(1198, 60)"
      ]
     },
     "execution_count": 9,
     "metadata": {},
     "output_type": "execute_result"
    }
   ],
   "source": [
    "X_train.shape"
   ]
  },
  {
   "cell_type": "code",
   "execution_count": 10,
   "id": "6e628f4d",
   "metadata": {},
   "outputs": [
    {
     "data": {
      "text/plain": [
       "1198"
      ]
     },
     "execution_count": 10,
     "metadata": {},
     "output_type": "execute_result"
    }
   ],
   "source": [
    "len(X_train)"
   ]
  },
  {
   "cell_type": "code",
   "execution_count": 11,
   "id": "a185e520",
   "metadata": {},
   "outputs": [
    {
     "data": {
      "text/plain": [
       "array([0.08581368, 0.09701243, 0.09433366, 0.09156187, 0.07984225,\n",
       "       0.0643277 , 0.0585423 , 0.06568569, 0.06109085, 0.06639259,\n",
       "       0.0614257 , 0.07474514, 0.02797827, 0.02379269, 0.02409033,\n",
       "       0.0159238 , 0.01078949, 0.00967334, 0.01642607, 0.02100231,\n",
       "       0.02280676, 0.02273235, 0.02810849, 0.03212665, 0.0433812 ,\n",
       "       0.04475779, 0.04790163, 0.0440695 , 0.04648783, 0.04745517,\n",
       "       0.04873875, 0.03936305, 0.04137213, 0.04034898, 0.04784582,\n",
       "       0.04325099, 0.04356723, 0.04286033, 0.04602277, 0.05398467,\n",
       "       0.05738894, 0.05714711, 0.05569611, 0.04421832, 0.04514845,\n",
       "       0.04605997, 0.04412531, 0.03675869, 0.04486941, 0.05065481,\n",
       "       0.05214302, 0.05612397, 0.05818885, 0.06540665, 0.06882953,\n",
       "       0.07243843, 0.07993526, 0.07846566, 0.08034452, 0.08497656])"
      ]
     },
     "execution_count": 11,
     "metadata": {},
     "output_type": "execute_result"
    }
   ],
   "source": [
    "X_train[0]"
   ]
  },
  {
   "cell_type": "code",
   "execution_count": 12,
   "id": "6e13a094",
   "metadata": {},
   "outputs": [
    {
     "data": {
      "text/plain": [
       "1198"
      ]
     },
     "execution_count": 12,
     "metadata": {},
     "output_type": "execute_result"
    }
   ],
   "source": [
    "len(y_train)"
   ]
  },
  {
   "cell_type": "code",
   "execution_count": 13,
   "id": "8fa4277d",
   "metadata": {},
   "outputs": [
    {
     "data": {
      "text/plain": [
       "0.08627874097775134"
      ]
     },
     "execution_count": 13,
     "metadata": {},
     "output_type": "execute_result"
    }
   ],
   "source": [
    "y_train[0]\n",
    "# type(y_train[0])"
   ]
  },
  {
   "cell_type": "markdown",
   "id": "db34356f",
   "metadata": {},
   "source": [
    "Reshaping"
   ]
  },
  {
   "cell_type": "code",
   "execution_count": 14,
   "id": "12d51893",
   "metadata": {},
   "outputs": [],
   "source": [
    "X_train = np.reshape(X_train, (X_train.shape[0], X_train.shape[1], 1))"
   ]
  },
  {
   "cell_type": "code",
   "execution_count": 15,
   "id": "65f038ae",
   "metadata": {},
   "outputs": [
    {
     "data": {
      "text/plain": [
       "(1198, 60, 1)"
      ]
     },
     "execution_count": 15,
     "metadata": {},
     "output_type": "execute_result"
    }
   ],
   "source": [
    "X_train.shape"
   ]
  },
  {
   "cell_type": "code",
   "execution_count": 16,
   "id": "a9c199e7",
   "metadata": {},
   "outputs": [
    {
     "data": {
      "text/plain": [
       "array([[0.08581368],\n",
       "       [0.09701243],\n",
       "       [0.09433366],\n",
       "       [0.09156187],\n",
       "       [0.07984225]])"
      ]
     },
     "execution_count": 16,
     "metadata": {},
     "output_type": "execute_result"
    }
   ],
   "source": [
    "X_train[0, 0:5]"
   ]
  },
  {
   "cell_type": "markdown",
   "id": "ab9622db",
   "metadata": {},
   "source": [
    "# Part 2 - Building the RNN\n",
    "Importing the keras libraries and packages"
   ]
  },
  {
   "cell_type": "code",
   "execution_count": 17,
   "id": "e11a81c1",
   "metadata": {},
   "outputs": [],
   "source": [
    "from keras.models import Sequential\n",
    "from keras.layers import Dense\n",
    "from keras.layers import LSTM\n",
    "from keras.layers import Dropout"
   ]
  },
  {
   "cell_type": "markdown",
   "id": "f9da8e59",
   "metadata": {},
   "source": [
    "initialising the RNN,\n",
    "Adding a third LSTM layer and some Dropout regularisation,\n",
    "Adding the output layer,\n",
    "Compiling the RNN"
   ]
  },
  {
   "cell_type": "code",
   "execution_count": 18,
   "id": "783a5f12",
   "metadata": {},
   "outputs": [],
   "source": [
    "regressor = Sequential()\n",
    "\n",
    "regressor.add(LSTM(units = 50, return_sequences = True, input_shape = (X_train.shape[1], 1)))\n",
    "regressor.add(Dropout(0.2))\n",
    "\n",
    "regressor.add(LSTM(units = 50, return_sequences = True))\n",
    "regressor.add(Dropout(0.2))\n",
    "\n",
    "regressor.add(LSTM(units = 50, return_sequences = True))\n",
    "regressor.add(Dropout(0.2))\n",
    "\n",
    "regressor.add(LSTM(units = 50))\n",
    "regressor.add(Dropout(0.2))\n",
    "\n",
    "regressor.add(Dense(units = 1))\n",
    "\n",
    "regressor.compile(optimizer = 'adam', loss = 'mean_squared_error')"
   ]
  },
  {
   "cell_type": "code",
   "execution_count": 19,
   "id": "88ffcff3",
   "metadata": {},
   "outputs": [
    {
     "name": "stdout",
     "output_type": "stream",
     "text": [
      "Model: \"sequential\"\n",
      "_________________________________________________________________\n",
      " Layer (type)                Output Shape              Param #   \n",
      "=================================================================\n",
      " lstm (LSTM)                 (None, 60, 50)            10400     \n",
      "                                                                 \n",
      " dropout (Dropout)           (None, 60, 50)            0         \n",
      "                                                                 \n",
      " lstm_1 (LSTM)               (None, 60, 50)            20200     \n",
      "                                                                 \n",
      " dropout_1 (Dropout)         (None, 60, 50)            0         \n",
      "                                                                 \n",
      " lstm_2 (LSTM)               (None, 60, 50)            20200     \n",
      "                                                                 \n",
      " dropout_2 (Dropout)         (None, 60, 50)            0         \n",
      "                                                                 \n",
      " lstm_3 (LSTM)               (None, 50)                20200     \n",
      "                                                                 \n",
      " dropout_3 (Dropout)         (None, 50)                0         \n",
      "                                                                 \n",
      " dense (Dense)               (None, 1)                 51        \n",
      "                                                                 \n",
      "=================================================================\n",
      "Total params: 71,051\n",
      "Trainable params: 71,051\n",
      "Non-trainable params: 0\n",
      "_________________________________________________________________\n"
     ]
    }
   ],
   "source": [
    "regressor.summary()"
   ]
  },
  {
   "cell_type": "markdown",
   "id": "ba70d49c",
   "metadata": {},
   "source": [
    "Fitting the RNN to the Training set"
   ]
  },
  {
   "cell_type": "code",
   "execution_count": 20,
   "id": "d75def5d",
   "metadata": {},
   "outputs": [
    {
     "name": "stdout",
     "output_type": "stream",
     "text": [
      "Epoch 1/100\n",
      "38/38 [==============================] - 10s 103ms/step - loss: 0.0548 - accuracy: 0.0017\n",
      "Epoch 2/100\n",
      "38/38 [==============================] - 4s 101ms/step - loss: 0.0068 - accuracy: 0.0017\n",
      "Epoch 3/100\n",
      "38/38 [==============================] - 4s 101ms/step - loss: 0.0053 - accuracy: 0.0017\n",
      "Epoch 4/100\n",
      "38/38 [==============================] - 4s 103ms/step - loss: 0.0052 - accuracy: 0.0017\n",
      "Epoch 5/100\n",
      "38/38 [==============================] - 4s 102ms/step - loss: 0.0048 - accuracy: 0.0017\n",
      "Epoch 6/100\n",
      "38/38 [==============================] - 5s 119ms/step - loss: 0.0052 - accuracy: 0.0017\n",
      "Epoch 7/100\n",
      "38/38 [==============================] - 4s 113ms/step - loss: 0.0050 - accuracy: 0.0017\n",
      "Epoch 8/100\n",
      "38/38 [==============================] - 4s 104ms/step - loss: 0.0043 - accuracy: 0.0017\n",
      "Epoch 9/100\n",
      "38/38 [==============================] - 4s 106ms/step - loss: 0.0047 - accuracy: 0.0017\n",
      "Epoch 10/100\n",
      "38/38 [==============================] - 4s 116ms/step - loss: 0.0043 - accuracy: 0.0017\n",
      "Epoch 11/100\n",
      "38/38 [==============================] - 4s 113ms/step - loss: 0.0041 - accuracy: 0.0017\n",
      "Epoch 12/100\n",
      "38/38 [==============================] - 4s 112ms/step - loss: 0.0049 - accuracy: 0.0017\n",
      "Epoch 13/100\n",
      "38/38 [==============================] - 4s 114ms/step - loss: 0.0045 - accuracy: 0.0017\n",
      "Epoch 14/100\n",
      "38/38 [==============================] - 4s 114ms/step - loss: 0.0043 - accuracy: 0.0017\n",
      "Epoch 15/100\n",
      "38/38 [==============================] - 4s 116ms/step - loss: 0.0037 - accuracy: 0.0017\n",
      "Epoch 16/100\n",
      "38/38 [==============================] - 4s 112ms/step - loss: 0.0036 - accuracy: 0.0017\n",
      "Epoch 17/100\n",
      "38/38 [==============================] - 5s 124ms/step - loss: 0.0040 - accuracy: 0.0017\n",
      "Epoch 18/100\n",
      "38/38 [==============================] - 4s 116ms/step - loss: 0.0036 - accuracy: 0.0017\n",
      "Epoch 19/100\n",
      "38/38 [==============================] - 5s 119ms/step - loss: 0.0035 - accuracy: 0.0017\n",
      "Epoch 20/100\n",
      "38/38 [==============================] - 5s 119ms/step - loss: 0.0035 - accuracy: 0.0017\n",
      "Epoch 21/100\n",
      "38/38 [==============================] - 5s 126ms/step - loss: 0.0034 - accuracy: 0.0017\n",
      "Epoch 22/100\n",
      "38/38 [==============================] - 5s 122ms/step - loss: 0.0034 - accuracy: 0.0017\n",
      "Epoch 23/100\n",
      "38/38 [==============================] - 5s 131ms/step - loss: 0.0035 - accuracy: 0.0017\n",
      "Epoch 24/100\n",
      "38/38 [==============================] - 5s 131ms/step - loss: 0.0034 - accuracy: 0.0017\n",
      "Epoch 25/100\n",
      "38/38 [==============================] - 4s 115ms/step - loss: 0.0031 - accuracy: 0.0017\n",
      "Epoch 26/100\n",
      "38/38 [==============================] - 5s 124ms/step - loss: 0.0035 - accuracy: 0.0017\n",
      "Epoch 27/100\n",
      "38/38 [==============================] - 5s 123ms/step - loss: 0.0031 - accuracy: 0.0017\n",
      "Epoch 28/100\n",
      "38/38 [==============================] - 4s 117ms/step - loss: 0.0030 - accuracy: 0.0017\n",
      "Epoch 29/100\n",
      "38/38 [==============================] - 4s 116ms/step - loss: 0.0040 - accuracy: 0.0017\n",
      "Epoch 30/100\n",
      "38/38 [==============================] - 4s 114ms/step - loss: 0.0032 - accuracy: 0.0017\n",
      "Epoch 31/100\n",
      "38/38 [==============================] - 4s 116ms/step - loss: 0.0034 - accuracy: 0.0017\n",
      "Epoch 32/100\n",
      "38/38 [==============================] - 4s 115ms/step - loss: 0.0030 - accuracy: 0.0017\n",
      "Epoch 33/100\n",
      "38/38 [==============================] - 4s 115ms/step - loss: 0.0031 - accuracy: 0.0017\n",
      "Epoch 34/100\n",
      "38/38 [==============================] - 4s 116ms/step - loss: 0.0028 - accuracy: 0.0017\n",
      "Epoch 35/100\n",
      "38/38 [==============================] - 4s 116ms/step - loss: 0.0029 - accuracy: 0.0017\n",
      "Epoch 36/100\n",
      "38/38 [==============================] - 4s 116ms/step - loss: 0.0028 - accuracy: 0.0017\n",
      "Epoch 37/100\n",
      "38/38 [==============================] - 4s 116ms/step - loss: 0.0029 - accuracy: 0.0017\n",
      "Epoch 38/100\n",
      "38/38 [==============================] - 5s 123ms/step - loss: 0.0029 - accuracy: 0.0017\n",
      "Epoch 39/100\n",
      "38/38 [==============================] - 5s 125ms/step - loss: 0.0027 - accuracy: 0.0017\n",
      "Epoch 40/100\n",
      "38/38 [==============================] - 4s 118ms/step - loss: 0.0027 - accuracy: 0.0017\n",
      "Epoch 41/100\n",
      "38/38 [==============================] - 5s 126ms/step - loss: 0.0027 - accuracy: 0.0017\n",
      "Epoch 42/100\n",
      "38/38 [==============================] - 5s 127ms/step - loss: 0.0027 - accuracy: 0.0017\n",
      "Epoch 43/100\n",
      "38/38 [==============================] - 5s 124ms/step - loss: 0.0030 - accuracy: 0.0017\n",
      "Epoch 44/100\n",
      "38/38 [==============================] - 4s 117ms/step - loss: 0.0027 - accuracy: 0.0017\n",
      "Epoch 45/100\n",
      "38/38 [==============================] - 4s 115ms/step - loss: 0.0025 - accuracy: 0.0017\n",
      "Epoch 46/100\n",
      "38/38 [==============================] - 5s 122ms/step - loss: 0.0023 - accuracy: 0.0017\n",
      "Epoch 47/100\n",
      "38/38 [==============================] - 5s 120ms/step - loss: 0.0024 - accuracy: 0.0017\n",
      "Epoch 48/100\n",
      "38/38 [==============================] - 5s 126ms/step - loss: 0.0026 - accuracy: 0.0017\n",
      "Epoch 49/100\n",
      "38/38 [==============================] - 5s 122ms/step - loss: 0.0023 - accuracy: 0.0017\n",
      "Epoch 50/100\n",
      "38/38 [==============================] - 4s 118ms/step - loss: 0.0022 - accuracy: 0.0017\n",
      "Epoch 51/100\n",
      "38/38 [==============================] - 5s 121ms/step - loss: 0.0023 - accuracy: 0.0017\n",
      "Epoch 52/100\n",
      "38/38 [==============================] - 5s 121ms/step - loss: 0.0022 - accuracy: 0.0017\n",
      "Epoch 53/100\n",
      "38/38 [==============================] - 5s 135ms/step - loss: 0.0022 - accuracy: 0.0017\n",
      "Epoch 54/100\n",
      "38/38 [==============================] - 5s 133ms/step - loss: 0.0021 - accuracy: 0.0017\n",
      "Epoch 55/100\n",
      "38/38 [==============================] - 5s 134ms/step - loss: 0.0022 - accuracy: 0.0017\n",
      "Epoch 56/100\n",
      "38/38 [==============================] - 5s 119ms/step - loss: 0.0021 - accuracy: 0.0017\n",
      "Epoch 57/100\n",
      "38/38 [==============================] - 5s 123ms/step - loss: 0.0023 - accuracy: 0.0017\n",
      "Epoch 58/100\n",
      "38/38 [==============================] - 4s 111ms/step - loss: 0.0021 - accuracy: 0.0017\n",
      "Epoch 59/100\n",
      "38/38 [==============================] - 4s 112ms/step - loss: 0.0023 - accuracy: 0.0017\n",
      "Epoch 60/100\n",
      "38/38 [==============================] - 4s 115ms/step - loss: 0.0020 - accuracy: 0.0017\n",
      "Epoch 61/100\n",
      "38/38 [==============================] - 4s 110ms/step - loss: 0.0021 - accuracy: 0.0017\n",
      "Epoch 62/100\n",
      "38/38 [==============================] - 4s 113ms/step - loss: 0.0022 - accuracy: 0.0017\n",
      "Epoch 63/100\n",
      "38/38 [==============================] - 4s 112ms/step - loss: 0.0020 - accuracy: 0.0017\n",
      "Epoch 64/100\n",
      "38/38 [==============================] - 4s 111ms/step - loss: 0.0021 - accuracy: 0.0017\n",
      "Epoch 65/100\n",
      "38/38 [==============================] - 4s 112ms/step - loss: 0.0021 - accuracy: 0.0017\n",
      "Epoch 66/100\n",
      "38/38 [==============================] - 4s 115ms/step - loss: 0.0020 - accuracy: 0.0017\n",
      "Epoch 67/100\n",
      "38/38 [==============================] - 4s 117ms/step - loss: 0.0021 - accuracy: 0.0017\n",
      "Epoch 68/100\n",
      "38/38 [==============================] - 4s 112ms/step - loss: 0.0022 - accuracy: 0.0017\n",
      "Epoch 69/100\n",
      "38/38 [==============================] - 5s 119ms/step - loss: 0.0021 - accuracy: 0.0017\n",
      "Epoch 70/100\n",
      "38/38 [==============================] - 5s 123ms/step - loss: 0.0018 - accuracy: 0.0017\n",
      "Epoch 71/100\n",
      "38/38 [==============================] - 5s 128ms/step - loss: 0.0020 - accuracy: 0.0017\n",
      "Epoch 72/100\n",
      "38/38 [==============================] - 5s 120ms/step - loss: 0.0018 - accuracy: 0.0017\n",
      "Epoch 73/100\n",
      "38/38 [==============================] - 4s 111ms/step - loss: 0.0018 - accuracy: 0.0017\n",
      "Epoch 74/100\n",
      "38/38 [==============================] - 5s 121ms/step - loss: 0.0019 - accuracy: 0.0017\n",
      "Epoch 75/100\n",
      "38/38 [==============================] - 5s 122ms/step - loss: 0.0018 - accuracy: 0.0017\n",
      "Epoch 76/100\n",
      "38/38 [==============================] - 5s 126ms/step - loss: 0.0019 - accuracy: 0.0017\n",
      "Epoch 77/100\n",
      "38/38 [==============================] - 5s 120ms/step - loss: 0.0019 - accuracy: 0.0017\n",
      "Epoch 78/100\n",
      "38/38 [==============================] - 5s 121ms/step - loss: 0.0020 - accuracy: 0.0017\n",
      "Epoch 79/100\n",
      "38/38 [==============================] - 5s 121ms/step - loss: 0.0018 - accuracy: 0.0017\n",
      "Epoch 80/100\n",
      "38/38 [==============================] - 5s 121ms/step - loss: 0.0019 - accuracy: 0.0017\n",
      "Epoch 81/100\n"
     ]
    },
    {
     "name": "stdout",
     "output_type": "stream",
     "text": [
      "38/38 [==============================] - 4s 113ms/step - loss: 0.0017 - accuracy: 0.0017\n",
      "Epoch 82/100\n",
      "38/38 [==============================] - 4s 108ms/step - loss: 0.0018 - accuracy: 0.0017\n",
      "Epoch 83/100\n",
      "38/38 [==============================] - 4s 111ms/step - loss: 0.0016 - accuracy: 0.0017\n",
      "Epoch 84/100\n",
      "38/38 [==============================] - 4s 117ms/step - loss: 0.0017 - accuracy: 0.0017\n",
      "Epoch 85/100\n",
      "38/38 [==============================] - 4s 116ms/step - loss: 0.0017 - accuracy: 0.0017\n",
      "Epoch 86/100\n",
      "38/38 [==============================] - 4s 108ms/step - loss: 0.0020 - accuracy: 0.0017\n",
      "Epoch 87/100\n",
      "38/38 [==============================] - 4s 110ms/step - loss: 0.0017 - accuracy: 0.0017\n",
      "Epoch 88/100\n",
      "38/38 [==============================] - 4s 117ms/step - loss: 0.0016 - accuracy: 0.0017\n",
      "Epoch 89/100\n",
      "38/38 [==============================] - 4s 114ms/step - loss: 0.0015 - accuracy: 0.0017\n",
      "Epoch 90/100\n",
      "38/38 [==============================] - 4s 112ms/step - loss: 0.0015 - accuracy: 0.0017\n",
      "Epoch 91/100\n",
      "38/38 [==============================] - 4s 112ms/step - loss: 0.0016 - accuracy: 0.0017\n",
      "Epoch 92/100\n",
      "38/38 [==============================] - 4s 113ms/step - loss: 0.0015 - accuracy: 0.0017\n",
      "Epoch 93/100\n",
      "38/38 [==============================] - 4s 112ms/step - loss: 0.0017 - accuracy: 0.0017\n",
      "Epoch 94/100\n",
      "38/38 [==============================] - 4s 110ms/step - loss: 0.0015 - accuracy: 0.0017\n",
      "Epoch 95/100\n",
      "38/38 [==============================] - 4s 108ms/step - loss: 0.0017 - accuracy: 0.0017\n",
      "Epoch 96/100\n",
      "38/38 [==============================] - 4s 111ms/step - loss: 0.0016 - accuracy: 0.0017\n",
      "Epoch 97/100\n",
      "38/38 [==============================] - 4s 110ms/step - loss: 0.0015 - accuracy: 0.0017\n",
      "Epoch 98/100\n",
      "38/38 [==============================] - 4s 110ms/step - loss: 0.0014 - accuracy: 0.0017\n",
      "Epoch 99/100\n",
      "38/38 [==============================] - 4s 110ms/step - loss: 0.0015 - accuracy: 0.0017\n",
      "Epoch 100/100\n",
      "38/38 [==============================] - 4s 115ms/step - loss: 0.0015 - accuracy: 0.0017\n"
     ]
    }
   ],
   "source": [
    "history = regressor.fit(X_train, y_train, epochs = 100, batch_size = 32)"
   ]
  },
  {
   "cell_type": "code",
   "execution_count": 29,
   "id": "2fe71afb",
   "metadata": {},
   "outputs": [
    {
     "data": {
      "image/png": "[encoded data removed]",
      "text/plain": [
       "<Figure size 432x288 with 1 Axes>"
      ]
     },
     "metadata": {
      "needs_background": "light"
     },
     "output_type": "display_data"
    }
   ],
   "source": [
    "loss = history.history['loss']\n",
    "plt.plot(loss, c='r')\n",
    "plt.show()"
   ]
  },
  {
   "cell_type": "markdown",
   "id": "509c16ed",
   "metadata": {},
   "source": [
    "# Making the predictions and visualizing the results"
   ]
  },
  {
   "cell_type": "code",
   "execution_count": null,
   "id": "978fde78",
   "metadata": {},
   "outputs": [],
   "source": [
    "dataset_test = pd.read_csv('Google_Stock_Price_Test.csv')\n",
    "real_stock_price = dataset_test.iloc[:, 1:2].values"
   ]
  },
  {
   "cell_type": "code",
   "execution_count": null,
   "id": "a1d2a6d9",
   "metadata": {},
   "outputs": [],
   "source": [
    "dataset_test.head()"
   ]
  },
  {
   "cell_type": "code",
   "execution_count": null,
   "id": "139227ea",
   "metadata": {},
   "outputs": [],
   "source": [
    "real_stock_price[:5]"
   ]
  },
  {
   "cell_type": "code",
   "execution_count": null,
   "id": "5fe00e53",
   "metadata": {},
   "outputs": [],
   "source": [
    "dataset_total = pd.concat( (dataset_train['Open'], dataset_test['Open']), axis=0)"
   ]
  },
  {
   "cell_type": "code",
   "execution_count": null,
   "id": "3934301e",
   "metadata": {},
   "outputs": [],
   "source": [
    "dataset_total.head()"
   ]
  },
  {
   "cell_type": "code",
   "execution_count": null,
   "id": "44461739",
   "metadata": {},
   "outputs": [],
   "source": [
    "print(len(dataset_train))\n",
    "print(len(dataset_test))\n",
    "print(len(dataset_total))"
   ]
  },
  {
   "cell_type": "code",
   "execution_count": null,
   "id": "a2497c59",
   "metadata": {},
   "outputs": [],
   "source": [
    "inputs = dataset_total[len(dataset_total)-len(dataset_test)-60:].values"
   ]
  },
  {
   "cell_type": "code",
   "execution_count": null,
   "id": "eff9dd0b",
   "metadata": {},
   "outputs": [],
   "source": [
    "inputs"
   ]
  },
  {
   "cell_type": "code",
   "execution_count": null,
   "id": "2c188376",
   "metadata": {},
   "outputs": [],
   "source": [
    "type(inputs)"
   ]
  },
  {
   "cell_type": "code",
   "execution_count": null,
   "id": "6d61eea9",
   "metadata": {},
   "outputs": [],
   "source": [
    "inputs.shape"
   ]
  },
  {
   "cell_type": "code",
   "execution_count": null,
   "id": "b991cf75",
   "metadata": {},
   "outputs": [],
   "source": [
    "inputs = inputs.reshape(-1,1)"
   ]
  },
  {
   "cell_type": "code",
   "execution_count": null,
   "id": "8f83ae61",
   "metadata": {},
   "outputs": [],
   "source": [
    "inputs.shape"
   ]
  },
  {
   "cell_type": "code",
   "execution_count": null,
   "id": "d5d461df",
   "metadata": {},
   "outputs": [],
   "source": [
    "inputs = sc.transform(inputs)"
   ]
  },
  {
   "cell_type": "code",
   "execution_count": null,
   "id": "e81bbb42",
   "metadata": {},
   "outputs": [],
   "source": [
    "inputs[:5]"
   ]
  },
  {
   "cell_type": "code",
   "execution_count": null,
   "id": "285b60d8",
   "metadata": {},
   "outputs": [],
   "source": [
    "X_test = []\n",
    "for i in range(60, 80):\n",
    "    X_test.append(inputs[i-60:i, 0])"
   ]
  },
  {
   "cell_type": "code",
   "execution_count": null,
   "id": "680dc0ac",
   "metadata": {},
   "outputs": [],
   "source": [
    "X_test[0]"
   ]
  },
  {
   "cell_type": "code",
   "execution_count": null,
   "id": "f4e020cf",
   "metadata": {},
   "outputs": [],
   "source": [
    "X_test = np.array(X_test)"
   ]
  },
  {
   "cell_type": "code",
   "execution_count": null,
   "id": "73f1d786",
   "metadata": {},
   "outputs": [],
   "source": [
    "X_test[0]"
   ]
  },
  {
   "cell_type": "code",
   "execution_count": null,
   "id": "65f47c32",
   "metadata": {},
   "outputs": [],
   "source": [
    "X_test.shape"
   ]
  },
  {
   "cell_type": "code",
   "execution_count": null,
   "id": "d6ae7c9d",
   "metadata": {},
   "outputs": [],
   "source": [
    "X_test = np.reshape(X_test, (X_test.shape[0], X_test.shape[1], 1))"
   ]
  },
  {
   "cell_type": "code",
   "execution_count": null,
   "id": "21baec5f",
   "metadata": {},
   "outputs": [],
   "source": [
    "X_test.shape"
   ]
  },
  {
   "cell_type": "code",
   "execution_count": null,
   "id": "4aa4bed3",
   "metadata": {},
   "outputs": [],
   "source": [
    "predicted_stock_price = regressor.predict(X_test)"
   ]
  },
  {
   "cell_type": "code",
   "execution_count": null,
   "id": "e53fba49",
   "metadata": {},
   "outputs": [],
   "source": [
    "predicted_stock_price = sc.inverse_transform(predicted_stock_price)"
   ]
  },
  {
   "cell_type": "code",
   "execution_count": null,
   "id": "77bdf905",
   "metadata": {},
   "outputs": [],
   "source": [
    "type(predicted_stock_price)"
   ]
  },
  {
   "cell_type": "code",
   "execution_count": null,
   "id": "108e7ab7",
   "metadata": {},
   "outputs": [],
   "source": [
    "plt.plot(real_stock_price, c='r', label='Real Google Stock Price')\n",
    "plt.plot(predicted_stock_price, c='b', label='Predicted Google Stock Price')\n",
    "plt.legend()\n",
    "plt.title('Google Stock Price Prediction')\n",
    "plt.xlabel('Time')\n",
    "plt.ylabel('Google Stock Price')\n",
    "plt.show()"
   ]
  },
  {
   "cell_type": "code",
   "execution_count": null,
   "id": "61b8cad1",
   "metadata": {},
   "outputs": [],
   "source": [
    "regressor.evaluate(predicted_stock_price,real_stock_price)"
   ]
  },
  {
   "cell_type": "code",
   "execution_count": null,
   "id": "264c3312",
   "metadata": {},
   "outputs": [],
   "source": [
    "import math\n",
    "from sklearn.metrics import mean_squared_error\n",
    "rmse = math.sqrt(mean_squared_error(real_stock_price, predicted_stock_price))"
   ]
  },
  {
   "cell_type": "code",
   "execution_count": null,
   "id": "7c98bee2",
   "metadata": {},
   "outputs": [],
   "source": []
  },
  {
   "cell_type": "code",
   "execution_count": null,
   "id": "ef2dca74",
   "metadata": {},
   "outputs": [],
   "source": []
  },
  {
   "cell_type": "code",
   "execution_count": null,
   "id": "0ee53024",
   "metadata": {},
   "outputs": [],
   "source": []
  }
 ],
 "metadata": {
  "kernelspec": {
   "display_name": "Python 3 (ipykernel)",
   "language": "python",
   "name": "python3"
  },
  "language_info": {
   "codemirror_mode": {
    "name": "ipython",
    "version": 3
   },
   "file_extension": ".py",
   "mimetype": "text/x-python",
   "name": "python",
   "nbconvert_exporter": "python",
   "pygments_lexer": "ipython3",
   "version": "3.9.7"
  }
 },
 "nbformat": 4,
 "nbformat_minor": 5
}
