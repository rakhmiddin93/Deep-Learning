{
 "cells": [
  {
   "cell_type": "markdown",
   "id": "eaa6a9ca",
   "metadata": {},
   "source": [
    "#  Recurrent Neural Network"
   ]
  },
  {
   "cell_type": "markdown",
   "id": "3bb7db11",
   "metadata": {},
   "source": [
    "# Part 1 - Data Preprocessing"
   ]
  },
  {
   "cell_type": "markdown",
   "id": "bdf5f056",
   "metadata": {},
   "source": [
    "Importing the libraries"
   ]
  },
  {
   "cell_type": "code",
   "execution_count": 1,
   "id": "373f08e8",
   "metadata": {},
   "outputs": [],
   "source": [
    "import numpy as np\n",
    "import pandas as pd\n",
    "import matplotlib.pyplot as plt"
   ]
  },
  {
   "cell_type": "code",
   "execution_count": 2,
   "id": "21df2827",
   "metadata": {},
   "outputs": [],
   "source": [
    "dataset_train = pd.read_csv('Google_Stock_Price_Train.csv')\n",
    "training_set = dataset_train.iloc[:, 1:2].values"
   ]
  },
  {
   "cell_type": "code",
   "execution_count": 3,
   "id": "7c422e83",
   "metadata": {},
   "outputs": [
    {
     "data": {
      "text/html": [
       "<div>\n",
       "<style scoped>\n",
       "    .dataframe tbody tr th:only-of-type {\n",
       "        vertical-align: middle;\n",
       "    }\n",
       "\n",
       "    .dataframe tbody tr th {\n",
       "        vertical-align: top;\n",
       "    }\n",
       "\n",
       "    .dataframe thead th {\n",
       "        text-align: right;\n",
       "    }\n",
       "</style>\n",
       "<table border=\"1\" class=\"dataframe\">\n",
       "  <thead>\n",
       "    <tr style=\"text-align: right;\">\n",
       "      <th></th>\n",
       "      <th>Date</th>\n",
       "      <th>Open</th>\n",
       "      <th>High</th>\n",
       "      <th>Low</th>\n",
       "      <th>Close</th>\n",
       "      <th>Volume</th>\n",
       "    </tr>\n",
       "  </thead>\n",
       "  <tbody>\n",
       "    <tr>\n",
       "      <th>0</th>\n",
       "      <td>1/3/2012</td>\n",
       "      <td>325.25</td>\n",
       "      <td>332.83</td>\n",
       "      <td>324.97</td>\n",
       "      <td>663.59</td>\n",
       "      <td>7,380,500</td>\n",
       "    </tr>\n",
       "    <tr>\n",
       "      <th>1</th>\n",
       "      <td>1/4/2012</td>\n",
       "      <td>331.27</td>\n",
       "      <td>333.87</td>\n",
       "      <td>329.08</td>\n",
       "      <td>666.45</td>\n",
       "      <td>5,749,400</td>\n",
       "    </tr>\n",
       "    <tr>\n",
       "      <th>2</th>\n",
       "      <td>1/5/2012</td>\n",
       "      <td>329.83</td>\n",
       "      <td>330.75</td>\n",
       "      <td>326.89</td>\n",
       "      <td>657.21</td>\n",
       "      <td>6,590,300</td>\n",
       "    </tr>\n",
       "    <tr>\n",
       "      <th>3</th>\n",
       "      <td>1/6/2012</td>\n",
       "      <td>328.34</td>\n",
       "      <td>328.77</td>\n",
       "      <td>323.68</td>\n",
       "      <td>648.24</td>\n",
       "      <td>5,405,900</td>\n",
       "    </tr>\n",
       "    <tr>\n",
       "      <th>4</th>\n",
       "      <td>1/9/2012</td>\n",
       "      <td>322.04</td>\n",
       "      <td>322.29</td>\n",
       "      <td>309.46</td>\n",
       "      <td>620.76</td>\n",
       "      <td>11,688,800</td>\n",
       "    </tr>\n",
       "  </tbody>\n",
       "</table>\n",
       "</div>"
      ],
      "text/plain": [
       "       Date    Open    High     Low   Close      Volume\n",
       "0  1/3/2012  325.25  332.83  324.97  663.59   7,380,500\n",
       "1  1/4/2012  331.27  333.87  329.08  666.45   5,749,400\n",
       "2  1/5/2012  329.83  330.75  326.89  657.21   6,590,300\n",
       "3  1/6/2012  328.34  328.77  323.68  648.24   5,405,900\n",
       "4  1/9/2012  322.04  322.29  309.46  620.76  11,688,800"
      ]
     },
     "execution_count": 3,
     "metadata": {},
     "output_type": "execute_result"
    }
   ],
   "source": [
    "dataset_train.head()"
   ]
  },
  {
   "cell_type": "code",
   "execution_count": 4,
   "id": "f95991a4",
   "metadata": {},
   "outputs": [
    {
     "name": "stdout",
     "output_type": "stream",
     "text": [
      "[[325.25]\n",
      " [331.27]\n",
      " [329.83]\n",
      " ...\n",
      " [793.7 ]\n",
      " [783.33]\n",
      " [782.75]]\n"
     ]
    }
   ],
   "source": [
    "print(training_set)"
   ]
  },
  {
   "cell_type": "markdown",
   "id": "34970c25",
   "metadata": {},
   "source": [
    "Feature Scaling"
   ]
  },
  {
   "cell_type": "code",
   "execution_count": 5,
   "id": "83a5daa7",
   "metadata": {},
   "outputs": [],
   "source": [
    "from sklearn.preprocessing import MinMaxScaler\n",
    "sc = MinMaxScaler(feature_range = (0, 1))\n",
    "training_set_scaled = sc.fit_transform(training_set)"
   ]
  },
  {
   "cell_type": "code",
   "execution_count": 6,
   "id": "f24d4720",
   "metadata": {},
   "outputs": [
    {
     "data": {
      "text/plain": [
       "MinMaxScaler()"
      ]
     },
     "execution_count": 6,
     "metadata": {},
     "output_type": "execute_result"
    }
   ],
   "source": [
    "sc"
   ]
  },
  {
   "cell_type": "code",
   "execution_count": 7,
   "id": "cc97124f",
   "metadata": {},
   "outputs": [
    {
     "data": {
      "text/plain": [
       "array([[0.08581368],\n",
       "       [0.09701243],\n",
       "       [0.09433366],\n",
       "       ...,\n",
       "       [0.95725128],\n",
       "       [0.93796041],\n",
       "       [0.93688146]])"
      ]
     },
     "execution_count": 7,
     "metadata": {},
     "output_type": "execute_result"
    }
   ],
   "source": [
    "training_set_scaled"
   ]
  },
  {
   "cell_type": "markdown",
   "id": "6ebfd5f6",
   "metadata": {},
   "source": [
    "Creating a data stracture with 120 timesteps and 1 output"
   ]
  },
  {
   "cell_type": "code",
   "execution_count": 8,
   "id": "765c0c92",
   "metadata": {},
   "outputs": [],
   "source": [
    "X_train = []\n",
    "y_train = []\n",
    "for i in range(120, 1258):\n",
    "    X_train.append(training_set_scaled[i-120:i, 0])\n",
    "    y_train.append(training_set_scaled[i, 0])\n",
    "X_train, y_train = np.array(X_train), np.array(y_train)"
   ]
  },
  {
   "cell_type": "code",
   "execution_count": 9,
   "id": "fcd82fc2",
   "metadata": {},
   "outputs": [
    {
     "data": {
      "text/plain": [
       "(1138, 120)"
      ]
     },
     "execution_count": 9,
     "metadata": {},
     "output_type": "execute_result"
    }
   ],
   "source": [
    "X_train.shape"
   ]
  },
  {
   "cell_type": "code",
   "execution_count": 10,
   "id": "6e628f4d",
   "metadata": {},
   "outputs": [
    {
     "data": {
      "text/plain": [
       "1138"
      ]
     },
     "execution_count": 10,
     "metadata": {},
     "output_type": "execute_result"
    }
   ],
   "source": [
    "len(X_train)"
   ]
  },
  {
   "cell_type": "code",
   "execution_count": 11,
   "id": "a185e520",
   "metadata": {},
   "outputs": [
    {
     "data": {
      "text/plain": [
       "array([0.08581368, 0.09701243, 0.09433366, 0.09156187, 0.07984225,\n",
       "       0.0643277 , 0.0585423 , 0.06568569, 0.06109085, 0.06639259,\n",
       "       0.0614257 , 0.07474514, 0.02797827, 0.02379269, 0.02409033,\n",
       "       0.0159238 , 0.01078949, 0.00967334, 0.01642607, 0.02100231,\n",
       "       0.02280676, 0.02273235, 0.02810849, 0.03212665, 0.0433812 ,\n",
       "       0.04475779, 0.04790163, 0.0440695 , 0.04648783, 0.04745517,\n",
       "       0.04873875, 0.03936305, 0.04137213, 0.04034898, 0.04784582,\n",
       "       0.04325099, 0.04356723, 0.04286033, 0.04602277, 0.05398467,\n",
       "       0.05738894, 0.05714711, 0.05569611, 0.04421832, 0.04514845,\n",
       "       0.04605997, 0.04412531, 0.03675869, 0.04486941, 0.05065481,\n",
       "       0.05214302, 0.05612397, 0.05818885, 0.06540665, 0.06882953,\n",
       "       0.07243843, 0.07993526, 0.07846566, 0.08034452, 0.08497656,\n",
       "       0.08627874, 0.08471612, 0.07454052, 0.07883771, 0.07238262,\n",
       "       0.06663442, 0.06315574, 0.06782499, 0.06823424, 0.07601012,\n",
       "       0.08082819, 0.05807724, 0.04468338, 0.04421832, 0.04202322,\n",
       "       0.04070243, 0.03017338, 0.03512166, 0.0404606 , 0.04685989,\n",
       "       0.05067341, 0.04879455, 0.04027457, 0.03787484, 0.04566932,\n",
       "       0.04224645, 0.03212665, 0.0418744 , 0.04308356, 0.04877595,\n",
       "       0.04635762, 0.03748419, 0.04170697, 0.05340799, 0.06810403,\n",
       "       0.06001191, 0.03722375, 0.04920381, 0.0382841 , 0.04524146,\n",
       "       0.03768882, 0.03287075, 0.02578317, 0.02630404, 0.01062207,\n",
       "       0.00917107, 0.01400774, 0.01495647, 0.0252623 , 0.01437979,\n",
       "       0.02211846, 0.00874321, 0.00128358, 0.00089292, 0.        ,\n",
       "       0.00212069, 0.0122777 , 0.0180445 , 0.0180817 , 0.00710618])"
      ]
     },
     "execution_count": 11,
     "metadata": {},
     "output_type": "execute_result"
    }
   ],
   "source": [
    "X_train[0]"
   ]
  },
  {
   "cell_type": "code",
   "execution_count": 12,
   "id": "6e13a094",
   "metadata": {},
   "outputs": [
    {
     "data": {
      "text/plain": [
       "1138"
      ]
     },
     "execution_count": 12,
     "metadata": {},
     "output_type": "execute_result"
    }
   ],
   "source": [
    "len(y_train)"
   ]
  },
  {
   "cell_type": "code",
   "execution_count": 13,
   "id": "8fa4277d",
   "metadata": {},
   "outputs": [
    {
     "data": {
      "text/plain": [
       "0.006492298534117147"
      ]
     },
     "execution_count": 13,
     "metadata": {},
     "output_type": "execute_result"
    }
   ],
   "source": [
    "y_train[0]\n",
    "# type(y_train[0])"
   ]
  },
  {
   "cell_type": "markdown",
   "id": "db34356f",
   "metadata": {},
   "source": [
    "Reshaping"
   ]
  },
  {
   "cell_type": "code",
   "execution_count": 14,
   "id": "12d51893",
   "metadata": {},
   "outputs": [],
   "source": [
    "X_train = np.reshape(X_train, (X_train.shape[0], X_train.shape[1], 1))"
   ]
  },
  {
   "cell_type": "code",
   "execution_count": 15,
   "id": "65f038ae",
   "metadata": {},
   "outputs": [
    {
     "data": {
      "text/plain": [
       "(1138, 120, 1)"
      ]
     },
     "execution_count": 15,
     "metadata": {},
     "output_type": "execute_result"
    }
   ],
   "source": [
    "X_train.shape"
   ]
  },
  {
   "cell_type": "code",
   "execution_count": 16,
   "id": "a9c199e7",
   "metadata": {},
   "outputs": [
    {
     "data": {
      "text/plain": [
       "array([[0.08581368],\n",
       "       [0.09701243],\n",
       "       [0.09433366],\n",
       "       [0.09156187],\n",
       "       [0.07984225]])"
      ]
     },
     "execution_count": 16,
     "metadata": {},
     "output_type": "execute_result"
    }
   ],
   "source": [
    "X_train[0, 0:5]"
   ]
  },
  {
   "cell_type": "markdown",
   "id": "ab9622db",
   "metadata": {},
   "source": [
    "# Part 2 - Building the RNN\n",
    "Importing the keras libraries and packages"
   ]
  },
  {
   "cell_type": "code",
   "execution_count": 17,
   "id": "e11a81c1",
   "metadata": {},
   "outputs": [],
   "source": [
    "from keras.models import Sequential\n",
    "from keras.layers import Dense\n",
    "from keras.layers import LSTM\n",
    "from keras.layers import Dropout"
   ]
  },
  {
   "cell_type": "markdown",
   "id": "f9da8e59",
   "metadata": {},
   "source": [
    "initialising the RNN,\n",
    "Adding a third LSTM layer and some Dropout regularisation,\n",
    "Adding the output layer,\n",
    "Compiling the RNN"
   ]
  },
  {
   "cell_type": "code",
   "execution_count": 18,
   "id": "783a5f12",
   "metadata": {},
   "outputs": [],
   "source": [
    "regressor = Sequential()\n",
    "\n",
    "regressor.add(LSTM(units = 100, return_sequences = True, input_shape = (X_train.shape[1], 1)))\n",
    "regressor.add(Dropout(0.2))\n",
    "\n",
    "regressor.add(LSTM(units = 100, return_sequences = True))\n",
    "regressor.add(Dropout(0.2))\n",
    "\n",
    "regressor.add(LSTM(units = 100, return_sequences = True))\n",
    "regressor.add(Dropout(0.2))\n",
    "\n",
    "regressor.add(LSTM(units = 100))\n",
    "regressor.add(Dropout(0.2))\n",
    "\n",
    "regressor.add(Dense(units = 1))\n",
    "\n",
    "regressor.compile(optimizer = 'adam', loss = 'mean_squared_error')"
   ]
  },
  {
   "cell_type": "code",
   "execution_count": 19,
   "id": "88ffcff3",
   "metadata": {},
   "outputs": [
    {
     "name": "stdout",
     "output_type": "stream",
     "text": [
      "Model: \"sequential\"\n",
      "_________________________________________________________________\n",
      " Layer (type)                Output Shape              Param #   \n",
      "=================================================================\n",
      " lstm (LSTM)                 (None, 120, 100)          40800     \n",
      "                                                                 \n",
      " dropout (Dropout)           (None, 120, 100)          0         \n",
      "                                                                 \n",
      " lstm_1 (LSTM)               (None, 120, 100)          80400     \n",
      "                                                                 \n",
      " dropout_1 (Dropout)         (None, 120, 100)          0         \n",
      "                                                                 \n",
      " lstm_2 (LSTM)               (None, 120, 100)          80400     \n",
      "                                                                 \n",
      " dropout_2 (Dropout)         (None, 120, 100)          0         \n",
      "                                                                 \n",
      " lstm_3 (LSTM)               (None, 100)               80400     \n",
      "                                                                 \n",
      " dropout_3 (Dropout)         (None, 100)               0         \n",
      "                                                                 \n",
      " dense (Dense)               (None, 1)                 101       \n",
      "                                                                 \n",
      "=================================================================\n",
      "Total params: 282,101\n",
      "Trainable params: 282,101\n",
      "Non-trainable params: 0\n",
      "_________________________________________________________________\n"
     ]
    }
   ],
   "source": [
    "regressor.summary()"
   ]
  },
  {
   "cell_type": "markdown",
   "id": "ba70d49c",
   "metadata": {},
   "source": [
    "Fitting the RNN to the Training set"
   ]
  },
  {
   "cell_type": "code",
   "execution_count": 20,
   "id": "d75def5d",
   "metadata": {},
   "outputs": [
    {
     "name": "stdout",
     "output_type": "stream",
     "text": [
      "Epoch 1/100\n",
      "36/36 [==============================] - 26s 487ms/step - loss: 0.0230\n",
      "Epoch 2/100\n",
      "36/36 [==============================] - 17s 479ms/step - loss: 0.0048\n",
      "Epoch 3/100\n",
      "36/36 [==============================] - 20s 563ms/step - loss: 0.0043\n",
      "Epoch 4/100\n",
      "36/36 [==============================] - 21s 586ms/step - loss: 0.0042\n",
      "Epoch 5/100\n",
      "36/36 [==============================] - 16s 441ms/step - loss: 0.0035\n",
      "Epoch 6/100\n",
      "36/36 [==============================] - 19s 530ms/step - loss: 0.0048\n",
      "Epoch 7/100\n",
      "36/36 [==============================] - 20s 562ms/step - loss: 0.0032\n",
      "Epoch 8/100\n",
      "36/36 [==============================] - 18s 489ms/step - loss: 0.0038\n",
      "Epoch 9/100\n",
      "36/36 [==============================] - 19s 525ms/step - loss: 0.0042\n",
      "Epoch 10/100\n",
      "36/36 [==============================] - 17s 475ms/step - loss: 0.0035\n",
      "Epoch 11/100\n",
      "36/36 [==============================] - 18s 494ms/step - loss: 0.0031\n",
      "Epoch 12/100\n",
      "36/36 [==============================] - 16s 447ms/step - loss: 0.0035\n",
      "Epoch 13/100\n",
      "36/36 [==============================] - 16s 433ms/step - loss: 0.0028\n",
      "Epoch 14/100\n",
      "36/36 [==============================] - 15s 429ms/step - loss: 0.0028\n",
      "Epoch 15/100\n",
      "36/36 [==============================] - 15s 430ms/step - loss: 0.0031\n",
      "Epoch 16/100\n",
      "36/36 [==============================] - 16s 439ms/step - loss: 0.0033\n",
      "Epoch 17/100\n",
      "36/36 [==============================] - 18s 510ms/step - loss: 0.0026\n",
      "Epoch 18/100\n",
      "36/36 [==============================] - 16s 449ms/step - loss: 0.0026\n",
      "Epoch 19/100\n",
      "36/36 [==============================] - 15s 409ms/step - loss: 0.0026\n",
      "Epoch 20/100\n",
      "36/36 [==============================] - 15s 412ms/step - loss: 0.0024\n",
      "Epoch 21/100\n",
      "36/36 [==============================] - 14s 402ms/step - loss: 0.0032\n",
      "Epoch 22/100\n",
      "36/36 [==============================] - 15s 416ms/step - loss: 0.0033\n",
      "Epoch 23/100\n",
      "36/36 [==============================] - 18s 498ms/step - loss: 0.0027\n",
      "Epoch 24/100\n",
      "36/36 [==============================] - 18s 493ms/step - loss: 0.0024\n",
      "Epoch 25/100\n",
      "36/36 [==============================] - 17s 473ms/step - loss: 0.0025\n",
      "Epoch 26/100\n",
      "36/36 [==============================] - 15s 423ms/step - loss: 0.0023\n",
      "Epoch 27/100\n",
      "36/36 [==============================] - 16s 430ms/step - loss: 0.0021\n",
      "Epoch 28/100\n",
      "36/36 [==============================] - 17s 486ms/step - loss: 0.0022\n",
      "Epoch 29/100\n",
      "36/36 [==============================] - 17s 481ms/step - loss: 0.0023\n",
      "Epoch 30/100\n",
      "36/36 [==============================] - 18s 489ms/step - loss: 0.0021\n",
      "Epoch 31/100\n",
      "36/36 [==============================] - 17s 468ms/step - loss: 0.0023\n",
      "Epoch 32/100\n",
      "36/36 [==============================] - 16s 445ms/step - loss: 0.0023\n",
      "Epoch 33/100\n",
      "36/36 [==============================] - 16s 438ms/step - loss: 0.0020\n",
      "Epoch 34/100\n",
      "36/36 [==============================] - 16s 454ms/step - loss: 0.0019\n",
      "Epoch 35/100\n",
      "36/36 [==============================] - 17s 476ms/step - loss: 0.0020\n",
      "Epoch 36/100\n",
      "36/36 [==============================] - 17s 479ms/step - loss: 0.0021\n",
      "Epoch 37/100\n",
      "36/36 [==============================] - 16s 435ms/step - loss: 0.0018\n",
      "Epoch 38/100\n",
      "36/36 [==============================] - 17s 482ms/step - loss: 0.0018\n",
      "Epoch 39/100\n",
      "36/36 [==============================] - 15s 424ms/step - loss: 0.0020\n",
      "Epoch 40/100\n",
      "36/36 [==============================] - 16s 450ms/step - loss: 0.0019\n",
      "Epoch 41/100\n",
      "36/36 [==============================] - 16s 446ms/step - loss: 0.0020\n",
      "Epoch 42/100\n",
      "36/36 [==============================] - 18s 492ms/step - loss: 0.0020\n",
      "Epoch 43/100\n",
      "36/36 [==============================] - 18s 496ms/step - loss: 0.0017\n",
      "Epoch 44/100\n",
      "36/36 [==============================] - 15s 416ms/step - loss: 0.0019\n",
      "Epoch 45/100\n",
      "36/36 [==============================] - 15s 431ms/step - loss: 0.0018\n",
      "Epoch 46/100\n",
      "36/36 [==============================] - 15s 409ms/step - loss: 0.0016\n",
      "Epoch 47/100\n",
      "36/36 [==============================] - 15s 429ms/step - loss: 0.0020\n",
      "Epoch 48/100\n",
      "36/36 [==============================] - 15s 423ms/step - loss: 0.0020\n",
      "Epoch 49/100\n",
      "36/36 [==============================] - 15s 425ms/step - loss: 0.0018\n",
      "Epoch 50/100\n",
      "36/36 [==============================] - 15s 416ms/step - loss: 0.0017\n",
      "Epoch 51/100\n",
      "36/36 [==============================] - 17s 461ms/step - loss: 0.0018\n",
      "Epoch 52/100\n",
      "36/36 [==============================] - 17s 472ms/step - loss: 0.0016\n",
      "Epoch 53/100\n",
      "36/36 [==============================] - 17s 468ms/step - loss: 0.0015\n",
      "Epoch 54/100\n",
      "36/36 [==============================] - 16s 439ms/step - loss: 0.0015\n",
      "Epoch 55/100\n",
      "36/36 [==============================] - 16s 433ms/step - loss: 0.0017\n",
      "Epoch 56/100\n",
      "36/36 [==============================] - 18s 500ms/step - loss: 0.0015\n",
      "Epoch 57/100\n",
      "36/36 [==============================] - 17s 467ms/step - loss: 0.0015\n",
      "Epoch 58/100\n",
      "36/36 [==============================] - 17s 480ms/step - loss: 0.0018\n",
      "Epoch 59/100\n",
      "36/36 [==============================] - 16s 448ms/step - loss: 0.0019\n",
      "Epoch 60/100\n",
      "36/36 [==============================] - 16s 454ms/step - loss: 0.0014\n",
      "Epoch 61/100\n",
      "36/36 [==============================] - 16s 451ms/step - loss: 0.0014\n",
      "Epoch 62/100\n",
      "36/36 [==============================] - 16s 439ms/step - loss: 0.0016\n",
      "Epoch 63/100\n",
      "36/36 [==============================] - 17s 467ms/step - loss: 0.0014\n",
      "Epoch 64/100\n",
      "36/36 [==============================] - 16s 442ms/step - loss: 0.0016\n",
      "Epoch 65/100\n",
      "36/36 [==============================] - 16s 436ms/step - loss: 0.0015\n",
      "Epoch 66/100\n",
      "36/36 [==============================] - 16s 445ms/step - loss: 0.0015\n",
      "Epoch 67/100\n",
      "36/36 [==============================] - 18s 491ms/step - loss: 0.0013\n",
      "Epoch 68/100\n",
      "36/36 [==============================] - 19s 540ms/step - loss: 0.0013\n",
      "Epoch 69/100\n",
      "36/36 [==============================] - 16s 434ms/step - loss: 0.0012\n",
      "Epoch 70/100\n",
      "36/36 [==============================] - 17s 465ms/step - loss: 0.0014\n",
      "Epoch 71/100\n",
      "36/36 [==============================] - 17s 464ms/step - loss: 0.0014\n",
      "Epoch 72/100\n",
      "36/36 [==============================] - 18s 506ms/step - loss: 0.0013\n",
      "Epoch 73/100\n",
      "36/36 [==============================] - 18s 498ms/step - loss: 0.0014\n",
      "Epoch 74/100\n",
      "36/36 [==============================] - 18s 503ms/step - loss: 0.0013\n",
      "Epoch 75/100\n",
      "36/36 [==============================] - 17s 457ms/step - loss: 0.0013\n",
      "Epoch 76/100\n",
      "36/36 [==============================] - 19s 537ms/step - loss: 0.0014\n",
      "Epoch 77/100\n",
      "36/36 [==============================] - 17s 483ms/step - loss: 0.0013\n",
      "Epoch 78/100\n",
      "36/36 [==============================] - 17s 472ms/step - loss: 0.0013\n",
      "Epoch 79/100\n",
      "36/36 [==============================] - 16s 456ms/step - loss: 0.0012\n",
      "Epoch 80/100\n",
      "36/36 [==============================] - 16s 459ms/step - loss: 0.0014\n",
      "Epoch 81/100\n",
      "36/36 [==============================] - 19s 524ms/step - loss: 0.0013\n",
      "Epoch 82/100\n",
      "36/36 [==============================] - 17s 463ms/step - loss: 0.0012\n",
      "Epoch 83/100\n",
      "36/36 [==============================] - 16s 436ms/step - loss: 0.0012\n",
      "Epoch 84/100\n",
      "36/36 [==============================] - 17s 479ms/step - loss: 0.0011\n",
      "Epoch 85/100\n",
      "36/36 [==============================] - 17s 484ms/step - loss: 0.0012\n",
      "Epoch 86/100\n",
      "36/36 [==============================] - 18s 508ms/step - loss: 0.0012\n",
      "Epoch 87/100\n",
      "36/36 [==============================] - 17s 478ms/step - loss: 0.0011\n",
      "Epoch 88/100\n",
      "36/36 [==============================] - 17s 456ms/step - loss: 0.0012\n",
      "Epoch 89/100\n",
      "36/36 [==============================] - 16s 442ms/step - loss: 0.0013\n",
      "Epoch 90/100\n",
      "36/36 [==============================] - 15s 425ms/step - loss: 0.0012\n",
      "Epoch 91/100\n",
      "36/36 [==============================] - 15s 431ms/step - loss: 0.0013\n",
      "Epoch 92/100\n",
      "36/36 [==============================] - 16s 444ms/step - loss: 0.0011\n",
      "Epoch 93/100\n",
      "36/36 [==============================] - 17s 469ms/step - loss: 0.0011\n",
      "Epoch 94/100\n",
      "36/36 [==============================] - 20s 565ms/step - loss: 0.0012\n",
      "Epoch 95/100\n",
      "36/36 [==============================] - 15s 418ms/step - loss: 9.9770e-04\n",
      "Epoch 96/100\n",
      "36/36 [==============================] - 17s 480ms/step - loss: 0.0010\n",
      "Epoch 97/100\n",
      "36/36 [==============================] - 16s 451ms/step - loss: 0.0011\n",
      "Epoch 98/100\n"
     ]
    },
    {
     "name": "stdout",
     "output_type": "stream",
     "text": [
      "36/36 [==============================] - 16s 438ms/step - loss: 0.0011\n",
      "Epoch 99/100\n",
      "36/36 [==============================] - 15s 422ms/step - loss: 0.0011\n",
      "Epoch 100/100\n",
      "36/36 [==============================] - 15s 414ms/step - loss: 0.0011\n"
     ]
    }
   ],
   "source": [
    "history = regressor.fit(X_train, y_train, epochs = 100, batch_size = 32)"
   ]
  },
  {
   "cell_type": "code",
   "execution_count": 21,
   "id": "2fe71afb",
   "metadata": {},
   "outputs": [
    {
     "data": {
      "image/png": "[encoded data removed]",
      "text/plain": [
       "<Figure size 432x288 with 1 Axes>"
      ]
     },
     "metadata": {
      "needs_background": "light"
     },
     "output_type": "display_data"
    }
   ],
   "source": [
    "loss = history.history['loss']\n",
    "plt.plot(loss, c='r')\n",
    "plt.show()"
   ]
  },
  {
   "cell_type": "markdown",
   "id": "509c16ed",
   "metadata": {},
   "source": [
    "# Making the predictions and visualizing the results"
   ]
  },
  {
   "cell_type": "code",
   "execution_count": 22,
   "id": "978fde78",
   "metadata": {},
   "outputs": [],
   "source": [
    "dataset_test = pd.read_csv('Google_Stock_Price_Test.csv')\n",
    "real_stock_price = dataset_test.iloc[:, 1:2].values"
   ]
  },
  {
   "cell_type": "code",
   "execution_count": 23,
   "id": "a1d2a6d9",
   "metadata": {},
   "outputs": [
    {
     "data": {
      "text/html": [
       "<div>\n",
       "<style scoped>\n",
       "    .dataframe tbody tr th:only-of-type {\n",
       "        vertical-align: middle;\n",
       "    }\n",
       "\n",
       "    .dataframe tbody tr th {\n",
       "        vertical-align: top;\n",
       "    }\n",
       "\n",
       "    .dataframe thead th {\n",
       "        text-align: right;\n",
       "    }\n",
       "</style>\n",
       "<table border=\"1\" class=\"dataframe\">\n",
       "  <thead>\n",
       "    <tr style=\"text-align: right;\">\n",
       "      <th></th>\n",
       "      <th>Date</th>\n",
       "      <th>Open</th>\n",
       "      <th>High</th>\n",
       "      <th>Low</th>\n",
       "      <th>Close</th>\n",
       "      <th>Volume</th>\n",
       "    </tr>\n",
       "  </thead>\n",
       "  <tbody>\n",
       "    <tr>\n",
       "      <th>0</th>\n",
       "      <td>1/3/2017</td>\n",
       "      <td>778.81</td>\n",
       "      <td>789.63</td>\n",
       "      <td>775.80</td>\n",
       "      <td>786.14</td>\n",
       "      <td>1,657,300</td>\n",
       "    </tr>\n",
       "    <tr>\n",
       "      <th>1</th>\n",
       "      <td>1/4/2017</td>\n",
       "      <td>788.36</td>\n",
       "      <td>791.34</td>\n",
       "      <td>783.16</td>\n",
       "      <td>786.90</td>\n",
       "      <td>1,073,000</td>\n",
       "    </tr>\n",
       "    <tr>\n",
       "      <th>2</th>\n",
       "      <td>1/5/2017</td>\n",
       "      <td>786.08</td>\n",
       "      <td>794.48</td>\n",
       "      <td>785.02</td>\n",
       "      <td>794.02</td>\n",
       "      <td>1,335,200</td>\n",
       "    </tr>\n",
       "    <tr>\n",
       "      <th>3</th>\n",
       "      <td>1/6/2017</td>\n",
       "      <td>795.26</td>\n",
       "      <td>807.90</td>\n",
       "      <td>792.20</td>\n",
       "      <td>806.15</td>\n",
       "      <td>1,640,200</td>\n",
       "    </tr>\n",
       "    <tr>\n",
       "      <th>4</th>\n",
       "      <td>1/9/2017</td>\n",
       "      <td>806.40</td>\n",
       "      <td>809.97</td>\n",
       "      <td>802.83</td>\n",
       "      <td>806.65</td>\n",
       "      <td>1,272,400</td>\n",
       "    </tr>\n",
       "  </tbody>\n",
       "</table>\n",
       "</div>"
      ],
      "text/plain": [
       "       Date    Open    High     Low   Close     Volume\n",
       "0  1/3/2017  778.81  789.63  775.80  786.14  1,657,300\n",
       "1  1/4/2017  788.36  791.34  783.16  786.90  1,073,000\n",
       "2  1/5/2017  786.08  794.48  785.02  794.02  1,335,200\n",
       "3  1/6/2017  795.26  807.90  792.20  806.15  1,640,200\n",
       "4  1/9/2017  806.40  809.97  802.83  806.65  1,272,400"
      ]
     },
     "execution_count": 23,
     "metadata": {},
     "output_type": "execute_result"
    }
   ],
   "source": [
    "dataset_test.head()"
   ]
  },
  {
   "cell_type": "code",
   "execution_count": 24,
   "id": "139227ea",
   "metadata": {},
   "outputs": [
    {
     "data": {
      "text/plain": [
       "array([[778.81],\n",
       "       [788.36],\n",
       "       [786.08],\n",
       "       [795.26],\n",
       "       [806.4 ]])"
      ]
     },
     "execution_count": 24,
     "metadata": {},
     "output_type": "execute_result"
    }
   ],
   "source": [
    "real_stock_price[:5]"
   ]
  },
  {
   "cell_type": "code",
   "execution_count": 25,
   "id": "5fe00e53",
   "metadata": {},
   "outputs": [],
   "source": [
    "dataset_total = pd.concat( (dataset_train['Open'], dataset_test['Open']), axis=0)"
   ]
  },
  {
   "cell_type": "code",
   "execution_count": 26,
   "id": "3934301e",
   "metadata": {},
   "outputs": [
    {
     "data": {
      "text/plain": [
       "0    325.25\n",
       "1    331.27\n",
       "2    329.83\n",
       "3    328.34\n",
       "4    322.04\n",
       "Name: Open, dtype: float64"
      ]
     },
     "execution_count": 26,
     "metadata": {},
     "output_type": "execute_result"
    }
   ],
   "source": [
    "dataset_total.head()"
   ]
  },
  {
   "cell_type": "code",
   "execution_count": 27,
   "id": "44461739",
   "metadata": {},
   "outputs": [
    {
     "name": "stdout",
     "output_type": "stream",
     "text": [
      "1258\n",
      "20\n",
      "1278\n"
     ]
    }
   ],
   "source": [
    "print(len(dataset_train))\n",
    "print(len(dataset_test))\n",
    "print(len(dataset_total))"
   ]
  },
  {
   "cell_type": "code",
   "execution_count": 28,
   "id": "a2497c59",
   "metadata": {},
   "outputs": [],
   "source": [
    "inputs = dataset_total[len(dataset_total)-len(dataset_test)-120:].values"
   ]
  },
  {
   "cell_type": "code",
   "execution_count": 29,
   "id": "eff9dd0b",
   "metadata": {},
   "outputs": [
    {
     "data": {
      "text/plain": [
       "array([723.62, 721.58, 725.73, 722.71, 729.89, 737.33, 740.36, 741.86,\n",
       "       740.67, 739.04, 738.28, 747.04, 772.71, 761.09, 768.69, 767.18,\n",
       "       772.22, 773.78, 782.  , 781.1 , 783.75, 785.  , 781.5 , 783.75,\n",
       "       780.3 , 777.32, 780.01, 775.  , 773.27, 775.48, 770.58, 767.  ,\n",
       "       769.  , 768.74, 769.33, 767.01, 769.25, 773.01, 773.45, 780.  ,\n",
       "       778.59, 770.1 , 755.13, 764.48, 759.61, 762.89, 769.75, 772.42,\n",
       "       769.  , 772.66, 780.  , 786.59, 782.74, 775.5 , 777.85, 781.44,\n",
       "       776.33, 774.25, 776.03, 779.31, 779.  , 779.66, 777.71, 786.66,\n",
       "       783.76, 781.22, 781.65, 779.8 , 787.85, 798.24, 803.3 , 795.  ,\n",
       "       804.9 , 816.68, 806.34, 801.  , 808.35, 795.47, 782.89, 778.2 ,\n",
       "       767.25, 750.66, 774.5 , 783.4 , 779.94, 791.17, 756.54, 755.6 ,\n",
       "       746.97, 755.2 , 766.92, 771.37, 762.61, 772.63, 767.73, 764.26,\n",
       "       760.  , 771.53, 770.07, 757.44, 744.59, 757.71, 764.73, 761.  ,\n",
       "       772.48, 780.  , 785.04, 793.9 , 797.4 , 797.34, 800.4 , 790.22,\n",
       "       796.76, 795.84, 792.36, 790.9 , 790.68, 793.7 , 783.33, 782.75,\n",
       "       778.81, 788.36, 786.08, 795.26, 806.4 , 807.86, 805.  , 807.14,\n",
       "       807.48, 807.08, 805.81, 805.12, 806.91, 807.25, 822.3 , 829.62,\n",
       "       837.81, 834.71, 814.66, 796.86])"
      ]
     },
     "execution_count": 29,
     "metadata": {},
     "output_type": "execute_result"
    }
   ],
   "source": [
    "inputs"
   ]
  },
  {
   "cell_type": "code",
   "execution_count": 30,
   "id": "2c188376",
   "metadata": {},
   "outputs": [
    {
     "data": {
      "text/plain": [
       "numpy.ndarray"
      ]
     },
     "execution_count": 30,
     "metadata": {},
     "output_type": "execute_result"
    }
   ],
   "source": [
    "type(inputs)"
   ]
  },
  {
   "cell_type": "code",
   "execution_count": 31,
   "id": "6d61eea9",
   "metadata": {},
   "outputs": [
    {
     "data": {
      "text/plain": [
       "(140,)"
      ]
     },
     "execution_count": 31,
     "metadata": {},
     "output_type": "execute_result"
    }
   ],
   "source": [
    "inputs.shape"
   ]
  },
  {
   "cell_type": "code",
   "execution_count": 32,
   "id": "b991cf75",
   "metadata": {},
   "outputs": [],
   "source": [
    "inputs = inputs.reshape(-1,1)"
   ]
  },
  {
   "cell_type": "code",
   "execution_count": 33,
   "id": "8f83ae61",
   "metadata": {},
   "outputs": [
    {
     "data": {
      "text/plain": [
       "(140, 1)"
      ]
     },
     "execution_count": 33,
     "metadata": {},
     "output_type": "execute_result"
    }
   ],
   "source": [
    "inputs.shape"
   ]
  },
  {
   "cell_type": "code",
   "execution_count": 34,
   "id": "d5d461df",
   "metadata": {},
   "outputs": [],
   "source": [
    "inputs = sc.transform(inputs)"
   ]
  },
  {
   "cell_type": "code",
   "execution_count": 35,
   "id": "e81bbb42",
   "metadata": {},
   "outputs": [
    {
     "data": {
      "text/plain": [
       "array([[0.82688444],\n",
       "       [0.82308952],\n",
       "       [0.83080958],\n",
       "       [0.82519161],\n",
       "       [0.83854826]])"
      ]
     },
     "execution_count": 35,
     "metadata": {},
     "output_type": "execute_result"
    }
   ],
   "source": [
    "inputs[:5]"
   ]
  },
  {
   "cell_type": "code",
   "execution_count": 36,
   "id": "285b60d8",
   "metadata": {},
   "outputs": [],
   "source": [
    "X_test = []\n",
    "for i in range(120, 140):\n",
    "    X_test.append(inputs[i-120:i, 0])"
   ]
  },
  {
   "cell_type": "code",
   "execution_count": 37,
   "id": "680dc0ac",
   "metadata": {},
   "outputs": [
    {
     "data": {
      "text/plain": [
       "array([0.82688444, 0.82308952, 0.83080958, 0.82519161, 0.83854826,\n",
       "       0.85238857, 0.85802515, 0.86081554, 0.85860183, 0.85556961,\n",
       "       0.85415582, 0.87045167, 0.91820448, 0.89658829, 0.91072624,\n",
       "       0.90791726, 0.91729295, 0.92019495, 0.93548627, 0.93381204,\n",
       "       0.93874172, 0.94106704, 0.93455614, 0.93874172, 0.93232383,\n",
       "       0.92678027, 0.93178436, 0.92246447, 0.91924622, 0.92335739,\n",
       "       0.91424213, 0.90758241, 0.91130292, 0.91081926, 0.91191681,\n",
       "       0.90760101, 0.91176799, 0.91876256, 0.91958107, 0.93176576,\n",
       "       0.92914279, 0.91334921, 0.88550115, 0.90289456, 0.89383511,\n",
       "       0.89993675, 0.91269812, 0.917665  , 0.91130292, 0.91811147,\n",
       "       0.93176576, 0.94402485, 0.93686286, 0.9233946 , 0.9277662 ,\n",
       "       0.93444453, 0.92493861, 0.92106928, 0.92438053, 0.93048218,\n",
       "       0.9299055 , 0.93113327, 0.92750577, 0.94415507, 0.93876032,\n",
       "       0.93403527, 0.93483518, 0.9313937 , 0.94636878, 0.96569685,\n",
       "       0.97510976, 0.95966962, 0.97808617, 1.        , 0.98076494,\n",
       "       0.97083116, 0.98450406, 0.96054394, 0.9371419 , 0.92841729,\n",
       "       0.90804747, 0.8771858 , 0.92153434, 0.93809063, 0.93165414,\n",
       "       0.95254483, 0.88812412, 0.88637547, 0.87032145, 0.88563137,\n",
       "       0.90743359, 0.91571173, 0.89941588, 0.91805566, 0.9089404 ,\n",
       "       0.9024853 , 0.89456061, 0.91600938, 0.9132934 , 0.88979835,\n",
       "       0.86589404, 0.89030062, 0.90335962, 0.89642086, 0.91777662,\n",
       "       0.93176576, 0.94114145, 0.95762334, 0.96413424, 0.96402262,\n",
       "       0.96971501, 0.95077759, 0.96294367, 0.96123223, 0.95475854,\n",
       "       0.95204256, 0.95163331, 0.95725128, 0.93796041, 0.93688146])"
      ]
     },
     "execution_count": 37,
     "metadata": {},
     "output_type": "execute_result"
    }
   ],
   "source": [
    "X_test[0]"
   ]
  },
  {
   "cell_type": "code",
   "execution_count": 38,
   "id": "f4e020cf",
   "metadata": {},
   "outputs": [],
   "source": [
    "X_test = np.array(X_test)"
   ]
  },
  {
   "cell_type": "code",
   "execution_count": 39,
   "id": "73f1d786",
   "metadata": {},
   "outputs": [
    {
     "data": {
      "text/plain": [
       "array([0.82688444, 0.82308952, 0.83080958, 0.82519161, 0.83854826,\n",
       "       0.85238857, 0.85802515, 0.86081554, 0.85860183, 0.85556961,\n",
       "       0.85415582, 0.87045167, 0.91820448, 0.89658829, 0.91072624,\n",
       "       0.90791726, 0.91729295, 0.92019495, 0.93548627, 0.93381204,\n",
       "       0.93874172, 0.94106704, 0.93455614, 0.93874172, 0.93232383,\n",
       "       0.92678027, 0.93178436, 0.92246447, 0.91924622, 0.92335739,\n",
       "       0.91424213, 0.90758241, 0.91130292, 0.91081926, 0.91191681,\n",
       "       0.90760101, 0.91176799, 0.91876256, 0.91958107, 0.93176576,\n",
       "       0.92914279, 0.91334921, 0.88550115, 0.90289456, 0.89383511,\n",
       "       0.89993675, 0.91269812, 0.917665  , 0.91130292, 0.91811147,\n",
       "       0.93176576, 0.94402485, 0.93686286, 0.9233946 , 0.9277662 ,\n",
       "       0.93444453, 0.92493861, 0.92106928, 0.92438053, 0.93048218,\n",
       "       0.9299055 , 0.93113327, 0.92750577, 0.94415507, 0.93876032,\n",
       "       0.93403527, 0.93483518, 0.9313937 , 0.94636878, 0.96569685,\n",
       "       0.97510976, 0.95966962, 0.97808617, 1.        , 0.98076494,\n",
       "       0.97083116, 0.98450406, 0.96054394, 0.9371419 , 0.92841729,\n",
       "       0.90804747, 0.8771858 , 0.92153434, 0.93809063, 0.93165414,\n",
       "       0.95254483, 0.88812412, 0.88637547, 0.87032145, 0.88563137,\n",
       "       0.90743359, 0.91571173, 0.89941588, 0.91805566, 0.9089404 ,\n",
       "       0.9024853 , 0.89456061, 0.91600938, 0.9132934 , 0.88979835,\n",
       "       0.86589404, 0.89030062, 0.90335962, 0.89642086, 0.91777662,\n",
       "       0.93176576, 0.94114145, 0.95762334, 0.96413424, 0.96402262,\n",
       "       0.96971501, 0.95077759, 0.96294367, 0.96123223, 0.95475854,\n",
       "       0.95204256, 0.95163331, 0.95725128, 0.93796041, 0.93688146])"
      ]
     },
     "execution_count": 39,
     "metadata": {},
     "output_type": "execute_result"
    }
   ],
   "source": [
    "X_test[0]"
   ]
  },
  {
   "cell_type": "code",
   "execution_count": 40,
   "id": "65f47c32",
   "metadata": {},
   "outputs": [
    {
     "data": {
      "text/plain": [
       "(20, 120)"
      ]
     },
     "execution_count": 40,
     "metadata": {},
     "output_type": "execute_result"
    }
   ],
   "source": [
    "X_test.shape"
   ]
  },
  {
   "cell_type": "code",
   "execution_count": 41,
   "id": "d6ae7c9d",
   "metadata": {},
   "outputs": [],
   "source": [
    "X_test = np.reshape(X_test, (X_test.shape[0], X_test.shape[1], 1))"
   ]
  },
  {
   "cell_type": "code",
   "execution_count": 42,
   "id": "21baec5f",
   "metadata": {},
   "outputs": [
    {
     "data": {
      "text/plain": [
       "(20, 120, 1)"
      ]
     },
     "execution_count": 42,
     "metadata": {},
     "output_type": "execute_result"
    }
   ],
   "source": [
    "X_test.shape"
   ]
  },
  {
   "cell_type": "code",
   "execution_count": 43,
   "id": "4aa4bed3",
   "metadata": {},
   "outputs": [],
   "source": [
    "predicted_stock_price = regressor.predict(X_test)"
   ]
  },
  {
   "cell_type": "code",
   "execution_count": 44,
   "id": "e53fba49",
   "metadata": {},
   "outputs": [],
   "source": [
    "predicted_stock_price = sc.inverse_transform(predicted_stock_price)"
   ]
  },
  {
   "cell_type": "code",
   "execution_count": 45,
   "id": "77bdf905",
   "metadata": {},
   "outputs": [
    {
     "data": {
      "text/plain": [
       "numpy.ndarray"
      ]
     },
     "execution_count": 45,
     "metadata": {},
     "output_type": "execute_result"
    }
   ],
   "source": [
    "type(predicted_stock_price)"
   ]
  },
  {
   "cell_type": "code",
   "execution_count": 46,
   "id": "108e7ab7",
   "metadata": {
    "scrolled": true
   },
   "outputs": [
    {
     "data": {
      "image/png": "[encoded data removed]",
      "text/plain": [
       "<Figure size 432x288 with 1 Axes>"
      ]
     },
     "metadata": {
      "needs_background": "light"
     },
     "output_type": "display_data"
    }
   ],
   "source": [
    "plt.plot(real_stock_price, c='r', label='Real Google Stock Price')\n",
    "plt.plot(predicted_stock_price, c='b', label='Predicted Google Stock Price')\n",
    "plt.legend()\n",
    "plt.title('Google Stock Price Prediction')\n",
    "plt.xlabel('Time')\n",
    "plt.ylabel('Google Stock Price')\n",
    "plt.show()"
   ]
  },
  {
   "cell_type": "code",
   "execution_count": 47,
   "id": "61b8cad1",
   "metadata": {},
   "outputs": [
    {
     "name": "stdout",
     "output_type": "stream",
     "text": [
      "WARNING:tensorflow:Model was constructed with shape (None, 120, 1) for input KerasTensor(type_spec=TensorSpec(shape=(None, 120, 1), dtype=tf.float32, name='lstm_input'), name='lstm_input', description=\"created by layer 'lstm_input'\"), but it was called on an input with incompatible shape (None, 1, 1).\n",
      "1/1 [==============================] - 2s 2s/step - loss: 648714.3125\n"
     ]
    },
    {
     "data": {
      "text/plain": [
       "648714.3125"
      ]
     },
     "execution_count": 47,
     "metadata": {},
     "output_type": "execute_result"
    }
   ],
   "source": [
    "regressor.evaluate(predicted_stock_price,real_stock_price)"
   ]
  },
  {
   "cell_type": "code",
   "execution_count": 48,
   "id": "264c3312",
   "metadata": {},
   "outputs": [],
   "source": [
    "import math\n",
    "from sklearn.metrics import mean_squared_error\n",
    "rmse = math.sqrt(mean_squared_error(real_stock_price, predicted_stock_price))"
   ]
  },
  {
   "cell_type": "code",
   "execution_count": 49,
   "id": "7c98bee2",
   "metadata": {},
   "outputs": [
    {
     "data": {
      "text/plain": [
       "18.29020913469493"
      ]
     },
     "execution_count": 49,
     "metadata": {},
     "output_type": "execute_result"
    }
   ],
   "source": [
    "rmse"
   ]
  },
  {
   "cell_type": "code",
   "execution_count": null,
   "id": "ef2dca74",
   "metadata": {},
   "outputs": [],
   "source": []
  },
  {
   "cell_type": "code",
   "execution_count": null,
   "id": "0ee53024",
   "metadata": {},
   "outputs": [],
   "source": []
  }
 ],
 "metadata": {
  "kernelspec": {
   "display_name": "Python 3 (ipykernel)",
   "language": "python",
   "name": "python3"
  },
  "language_info": {
   "codemirror_mode": {
    "name": "ipython",
    "version": 3
   },
   "file_extension": ".py",
   "mimetype": "text/x-python",
   "name": "python",
   "nbconvert_exporter": "python",
   "pygments_lexer": "ipython3",
   "version": "3.9.7"
  }
 },
 "nbformat": 4,
 "nbformat_minor": 5
}
